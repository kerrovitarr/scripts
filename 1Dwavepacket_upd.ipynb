{
 "cells": [
  {
   "cell_type": "code",
   "execution_count": 1,
   "metadata": {},
   "outputs": [
    {
     "data": {
      "text/html": [
       "<style>\n",
       "        .bk-notebook-logo {\n",
       "            display: block;\n",
       "            width: 20px;\n",
       "            height: 20px;\n",
       "            background-image: url(data:image/png;base64,iVBORw0KGgoAAAANSUhEUgAAABQAAAAUCAYAAACNiR0NAAAABHNCSVQICAgIfAhkiAAAAAlwSFlzAAALEgAACxIB0t1+/AAAABx0RVh0U29mdHdhcmUAQWRvYmUgRmlyZXdvcmtzIENTNui8sowAAAOkSURBVDiNjZRtaJVlGMd/1/08zzln5zjP1LWcU9N0NkN8m2CYjpgQYQXqSs0I84OLIC0hkEKoPtiH3gmKoiJDU7QpLgoLjLIQCpEsNJ1vqUOdO7ppbuec5+V+rj4ctwzd8IIbbi6u+8f1539dt3A78eXC7QizUF7gyV1fD1Yqg4JWz84yffhm0qkFqBogB9rM8tZdtwVsPUhWhGcFJngGeWrPzHm5oaMmkfEg1usvLFyc8jLRqDOMru7AyC8saQr7GG7f5fvDeH7Ej8CM66nIF+8yngt6HWaKh7k49Soy9nXurCi1o3qUbS3zWfrYeQDTB/Qj6kX6Ybhw4B+bOYoLKCC9H3Nu/leUTZ1JdRWkkn2ldcCamzrcf47KKXdAJllSlxAOkRgyHsGC/zRday5Qld9DyoM4/q/rUoy/CXh3jzOu3bHUVZeU+DEn8FInkPBFlu3+nW3Nw0mk6vCDiWg8CeJaxEwuHS3+z5RgY+YBR6V1Z1nxSOfoaPa4LASWxxdNp+VWTk7+4vzaou8v8PN+xo+KY2xsw6une2frhw05CTYOmQvsEhjhWjn0bmXPjpE1+kplmmkP3suftwTubK9Vq22qKmrBhpY4jvd5afdRA3wGjFAgcnTK2s4hY0/GPNIb0nErGMCRxWOOX64Z8RAC4oCXdklmEvcL8o0BfkNK4lUg9HTl+oPlQxdNo3Mg4Nv175e/1LDGzZen30MEjRUtmXSfiTVu1kK8W4txyV6BMKlbgk3lMwYCiusNy9fVfvvwMxv8Ynl6vxoByANLTWplvuj/nF9m2+PDtt1eiHPBr1oIfhCChQMBw6Aw0UulqTKZdfVvfG7VcfIqLG9bcldL/+pdWTLxLUy8Qq38heUIjh4XlzZxzQm19lLFlr8vdQ97rjZVOLf8nclzckbcD4wxXMidpX30sFd37Fv/GtwwhzhxGVAprjbg0gCAEeIgwCZyTV2Z1REEW8O4py0wsjeloKoMr6iCY6dP92H6Vw/oTyICIthibxjm/DfN9lVz8IqtqKYLUXfoKVMVQVVJOElGjrnnUt9T9wbgp8AyYKaGlqingHZU/uG2NTZSVqwHQTWkx9hxjkpWDaCg6Ckj5qebgBVbT3V3NNXMSiWSDdGV3hrtzla7J+duwPOToIg42ChPQOQjspnSlp1V+Gjdged7+8UN5CRAV7a5EdFNwCjEaBR27b3W890TE7g24NAP/mMDXRWrGoFPQI9ls/MWO2dWFAar/xcOIImbbpA3zgAAAABJRU5ErkJggg==);\n",
       "        }\n",
       "    </style>\n",
       "    <div>\n",
       "        <a href=\"https://bokeh.org\" target=\"_blank\" class=\"bk-notebook-logo\"></a>\n",
       "        <span id=\"d6e1ec86-a4b8-4016-8beb-ebd1872c7136\">Loading BokehJS ...</span>\n",
       "    </div>\n"
      ]
     },
     "metadata": {},
     "output_type": "display_data"
    },
    {
     "data": {
      "application/javascript": [
       "(function(root) {\n",
       "  function now() {\n",
       "    return new Date();\n",
       "  }\n",
       "\n",
       "  const force = true;\n",
       "\n",
       "  if (typeof root._bokeh_onload_callbacks === \"undefined\" || force === true) {\n",
       "    root._bokeh_onload_callbacks = [];\n",
       "    root._bokeh_is_loading = undefined;\n",
       "  }\n",
       "\n",
       "const JS_MIME_TYPE = 'application/javascript';\n",
       "  const HTML_MIME_TYPE = 'text/html';\n",
       "  const EXEC_MIME_TYPE = 'application/vnd.bokehjs_exec.v0+json';\n",
       "  const CLASS_NAME = 'output_bokeh rendered_html';\n",
       "\n",
       "  /**\n",
       "   * Render data to the DOM node\n",
       "   */\n",
       "  function render(props, node) {\n",
       "    const script = document.createElement(\"script\");\n",
       "    node.appendChild(script);\n",
       "  }\n",
       "\n",
       "  /**\n",
       "   * Handle when an output is cleared or removed\n",
       "   */\n",
       "  function handleClearOutput(event, handle) {\n",
       "    const cell = handle.cell;\n",
       "\n",
       "    const id = cell.output_area._bokeh_element_id;\n",
       "    const server_id = cell.output_area._bokeh_server_id;\n",
       "    // Clean up Bokeh references\n",
       "    if (id != null && id in Bokeh.index) {\n",
       "      Bokeh.index[id].model.document.clear();\n",
       "      delete Bokeh.index[id];\n",
       "    }\n",
       "\n",
       "    if (server_id !== undefined) {\n",
       "      // Clean up Bokeh references\n",
       "      const cmd_clean = \"from bokeh.io.state import curstate; print(curstate().uuid_to_server['\" + server_id + \"'].get_sessions()[0].document.roots[0]._id)\";\n",
       "      cell.notebook.kernel.execute(cmd_clean, {\n",
       "        iopub: {\n",
       "          output: function(msg) {\n",
       "            const id = msg.content.text.trim();\n",
       "            if (id in Bokeh.index) {\n",
       "              Bokeh.index[id].model.document.clear();\n",
       "              delete Bokeh.index[id];\n",
       "            }\n",
       "          }\n",
       "        }\n",
       "      });\n",
       "      // Destroy server and session\n",
       "      const cmd_destroy = \"import bokeh.io.notebook as ion; ion.destroy_server('\" + server_id + \"')\";\n",
       "      cell.notebook.kernel.execute(cmd_destroy);\n",
       "    }\n",
       "  }\n",
       "\n",
       "  /**\n",
       "   * Handle when a new output is added\n",
       "   */\n",
       "  function handleAddOutput(event, handle) {\n",
       "    const output_area = handle.output_area;\n",
       "    const output = handle.output;\n",
       "\n",
       "    // limit handleAddOutput to display_data with EXEC_MIME_TYPE content only\n",
       "    if ((output.output_type != \"display_data\") || (!Object.prototype.hasOwnProperty.call(output.data, EXEC_MIME_TYPE))) {\n",
       "      return\n",
       "    }\n",
       "\n",
       "    const toinsert = output_area.element.find(\".\" + CLASS_NAME.split(' ')[0]);\n",
       "\n",
       "    if (output.metadata[EXEC_MIME_TYPE][\"id\"] !== undefined) {\n",
       "      toinsert[toinsert.length - 1].firstChild.textContent = output.data[JS_MIME_TYPE];\n",
       "      // store reference to embed id on output_area\n",
       "      output_area._bokeh_element_id = output.metadata[EXEC_MIME_TYPE][\"id\"];\n",
       "    }\n",
       "    if (output.metadata[EXEC_MIME_TYPE][\"server_id\"] !== undefined) {\n",
       "      const bk_div = document.createElement(\"div\");\n",
       "      bk_div.innerHTML = output.data[HTML_MIME_TYPE];\n",
       "      const script_attrs = bk_div.children[0].attributes;\n",
       "      for (let i = 0; i < script_attrs.length; i++) {\n",
       "        toinsert[toinsert.length - 1].firstChild.setAttribute(script_attrs[i].name, script_attrs[i].value);\n",
       "        toinsert[toinsert.length - 1].firstChild.textContent = bk_div.children[0].textContent\n",
       "      }\n",
       "      // store reference to server id on output_area\n",
       "      output_area._bokeh_server_id = output.metadata[EXEC_MIME_TYPE][\"server_id\"];\n",
       "    }\n",
       "  }\n",
       "\n",
       "  function register_renderer(events, OutputArea) {\n",
       "\n",
       "    function append_mime(data, metadata, element) {\n",
       "      // create a DOM node to render to\n",
       "      const toinsert = this.create_output_subarea(\n",
       "        metadata,\n",
       "        CLASS_NAME,\n",
       "        EXEC_MIME_TYPE\n",
       "      );\n",
       "      this.keyboard_manager.register_events(toinsert);\n",
       "      // Render to node\n",
       "      const props = {data: data, metadata: metadata[EXEC_MIME_TYPE]};\n",
       "      render(props, toinsert[toinsert.length - 1]);\n",
       "      element.append(toinsert);\n",
       "      return toinsert\n",
       "    }\n",
       "\n",
       "    /* Handle when an output is cleared or removed */\n",
       "    events.on('clear_output.CodeCell', handleClearOutput);\n",
       "    events.on('delete.Cell', handleClearOutput);\n",
       "\n",
       "    /* Handle when a new output is added */\n",
       "    events.on('output_added.OutputArea', handleAddOutput);\n",
       "\n",
       "    /**\n",
       "     * Register the mime type and append_mime function with output_area\n",
       "     */\n",
       "    OutputArea.prototype.register_mime_type(EXEC_MIME_TYPE, append_mime, {\n",
       "      /* Is output safe? */\n",
       "      safe: true,\n",
       "      /* Index of renderer in `output_area.display_order` */\n",
       "      index: 0\n",
       "    });\n",
       "  }\n",
       "\n",
       "  // register the mime type if in Jupyter Notebook environment and previously unregistered\n",
       "  if (root.Jupyter !== undefined) {\n",
       "    const events = require('base/js/events');\n",
       "    const OutputArea = require('notebook/js/outputarea').OutputArea;\n",
       "\n",
       "    if (OutputArea.prototype.mime_types().indexOf(EXEC_MIME_TYPE) == -1) {\n",
       "      register_renderer(events, OutputArea);\n",
       "    }\n",
       "  }\n",
       "  if (typeof (root._bokeh_timeout) === \"undefined\" || force === true) {\n",
       "    root._bokeh_timeout = Date.now() + 5000;\n",
       "    root._bokeh_failed_load = false;\n",
       "  }\n",
       "\n",
       "  const NB_LOAD_WARNING = {'data': {'text/html':\n",
       "     \"<div style='background-color: #fdd'>\\n\"+\n",
       "     \"<p>\\n\"+\n",
       "     \"BokehJS does not appear to have successfully loaded. If loading BokehJS from CDN, this \\n\"+\n",
       "     \"may be due to a slow or bad network connection. Possible fixes:\\n\"+\n",
       "     \"</p>\\n\"+\n",
       "     \"<ul>\\n\"+\n",
       "     \"<li>re-rerun `output_notebook()` to attempt to load from CDN again, or</li>\\n\"+\n",
       "     \"<li>use INLINE resources instead, as so:</li>\\n\"+\n",
       "     \"</ul>\\n\"+\n",
       "     \"<code>\\n\"+\n",
       "     \"from bokeh.resources import INLINE\\n\"+\n",
       "     \"output_notebook(resources=INLINE)\\n\"+\n",
       "     \"</code>\\n\"+\n",
       "     \"</div>\"}};\n",
       "\n",
       "  function display_loaded() {\n",
       "    const el = document.getElementById(\"d6e1ec86-a4b8-4016-8beb-ebd1872c7136\");\n",
       "    if (el != null) {\n",
       "      el.textContent = \"BokehJS is loading...\";\n",
       "    }\n",
       "    if (root.Bokeh !== undefined) {\n",
       "      if (el != null) {\n",
       "        el.textContent = \"BokehJS \" + root.Bokeh.version + \" successfully loaded.\";\n",
       "      }\n",
       "    } else if (Date.now() < root._bokeh_timeout) {\n",
       "      setTimeout(display_loaded, 100)\n",
       "    }\n",
       "  }\n",
       "\n",
       "  function run_callbacks() {\n",
       "    try {\n",
       "      root._bokeh_onload_callbacks.forEach(function(callback) {\n",
       "        if (callback != null)\n",
       "          callback();\n",
       "      });\n",
       "    } finally {\n",
       "      delete root._bokeh_onload_callbacks\n",
       "    }\n",
       "    console.debug(\"Bokeh: all callbacks have finished\");\n",
       "  }\n",
       "\n",
       "  function load_libs(css_urls, js_urls, callback) {\n",
       "    if (css_urls == null) css_urls = [];\n",
       "    if (js_urls == null) js_urls = [];\n",
       "\n",
       "    root._bokeh_onload_callbacks.push(callback);\n",
       "    if (root._bokeh_is_loading > 0) {\n",
       "      console.debug(\"Bokeh: BokehJS is being loaded, scheduling callback at\", now());\n",
       "      return null;\n",
       "    }\n",
       "    if (js_urls == null || js_urls.length === 0) {\n",
       "      run_callbacks();\n",
       "      return null;\n",
       "    }\n",
       "    console.debug(\"Bokeh: BokehJS not loaded, scheduling load and callback at\", now());\n",
       "    root._bokeh_is_loading = css_urls.length + js_urls.length;\n",
       "\n",
       "    function on_load() {\n",
       "      root._bokeh_is_loading--;\n",
       "      if (root._bokeh_is_loading === 0) {\n",
       "        console.debug(\"Bokeh: all BokehJS libraries/stylesheets loaded\");\n",
       "        run_callbacks()\n",
       "      }\n",
       "    }\n",
       "\n",
       "    function on_error(url) {\n",
       "      console.error(\"failed to load \" + url);\n",
       "    }\n",
       "\n",
       "    for (let i = 0; i < css_urls.length; i++) {\n",
       "      const url = css_urls[i];\n",
       "      const element = document.createElement(\"link\");\n",
       "      element.onload = on_load;\n",
       "      element.onerror = on_error.bind(null, url);\n",
       "      element.rel = \"stylesheet\";\n",
       "      element.type = \"text/css\";\n",
       "      element.href = url;\n",
       "      console.debug(\"Bokeh: injecting link tag for BokehJS stylesheet: \", url);\n",
       "      document.body.appendChild(element);\n",
       "    }\n",
       "\n",
       "    for (let i = 0; i < js_urls.length; i++) {\n",
       "      const url = js_urls[i];\n",
       "      const element = document.createElement('script');\n",
       "      element.onload = on_load;\n",
       "      element.onerror = on_error.bind(null, url);\n",
       "      element.async = false;\n",
       "      element.src = url;\n",
       "      console.debug(\"Bokeh: injecting script tag for BokehJS library: \", url);\n",
       "      document.head.appendChild(element);\n",
       "    }\n",
       "  };\n",
       "\n",
       "  function inject_raw_css(css) {\n",
       "    const element = document.createElement(\"style\");\n",
       "    element.appendChild(document.createTextNode(css));\n",
       "    document.body.appendChild(element);\n",
       "  }\n",
       "\n",
       "  const js_urls = [\"https://cdn.bokeh.org/bokeh/release/bokeh-3.2.0.min.js\", \"https://cdn.bokeh.org/bokeh/release/bokeh-gl-3.2.0.min.js\", \"https://cdn.bokeh.org/bokeh/release/bokeh-widgets-3.2.0.min.js\", \"https://cdn.bokeh.org/bokeh/release/bokeh-tables-3.2.0.min.js\", \"https://cdn.bokeh.org/bokeh/release/bokeh-mathjax-3.2.0.min.js\"];\n",
       "  const css_urls = [];\n",
       "\n",
       "  const inline_js = [    function(Bokeh) {\n",
       "      Bokeh.set_log_level(\"info\");\n",
       "    },\n",
       "function(Bokeh) {\n",
       "    }\n",
       "  ];\n",
       "\n",
       "  function run_inline_js() {\n",
       "    if (root.Bokeh !== undefined || force === true) {\n",
       "          for (let i = 0; i < inline_js.length; i++) {\n",
       "      inline_js[i].call(root, root.Bokeh);\n",
       "    }\n",
       "if (force === true) {\n",
       "        display_loaded();\n",
       "      }} else if (Date.now() < root._bokeh_timeout) {\n",
       "      setTimeout(run_inline_js, 100);\n",
       "    } else if (!root._bokeh_failed_load) {\n",
       "      console.log(\"Bokeh: BokehJS failed to load within specified timeout.\");\n",
       "      root._bokeh_failed_load = true;\n",
       "    } else if (force !== true) {\n",
       "      const cell = $(document.getElementById(\"d6e1ec86-a4b8-4016-8beb-ebd1872c7136\")).parents('.cell').data().cell;\n",
       "      cell.output_area.append_execute_result(NB_LOAD_WARNING)\n",
       "    }\n",
       "  }\n",
       "\n",
       "  if (root._bokeh_is_loading === 0) {\n",
       "    console.debug(\"Bokeh: BokehJS loaded, going straight to plotting\");\n",
       "    run_inline_js();\n",
       "  } else {\n",
       "    load_libs(css_urls, js_urls, function() {\n",
       "      console.debug(\"Bokeh: BokehJS plotting callback run at\", now());\n",
       "      run_inline_js();\n",
       "    });\n",
       "  }\n",
       "}(window));"
      ],
      "application/vnd.bokehjs_load.v0+json": "(function(root) {\n  function now() {\n    return new Date();\n  }\n\n  const force = true;\n\n  if (typeof root._bokeh_onload_callbacks === \"undefined\" || force === true) {\n    root._bokeh_onload_callbacks = [];\n    root._bokeh_is_loading = undefined;\n  }\n\n\n  if (typeof (root._bokeh_timeout) === \"undefined\" || force === true) {\n    root._bokeh_timeout = Date.now() + 5000;\n    root._bokeh_failed_load = false;\n  }\n\n  const NB_LOAD_WARNING = {'data': {'text/html':\n     \"<div style='background-color: #fdd'>\\n\"+\n     \"<p>\\n\"+\n     \"BokehJS does not appear to have successfully loaded. If loading BokehJS from CDN, this \\n\"+\n     \"may be due to a slow or bad network connection. Possible fixes:\\n\"+\n     \"</p>\\n\"+\n     \"<ul>\\n\"+\n     \"<li>re-rerun `output_notebook()` to attempt to load from CDN again, or</li>\\n\"+\n     \"<li>use INLINE resources instead, as so:</li>\\n\"+\n     \"</ul>\\n\"+\n     \"<code>\\n\"+\n     \"from bokeh.resources import INLINE\\n\"+\n     \"output_notebook(resources=INLINE)\\n\"+\n     \"</code>\\n\"+\n     \"</div>\"}};\n\n  function display_loaded() {\n    const el = document.getElementById(\"d6e1ec86-a4b8-4016-8beb-ebd1872c7136\");\n    if (el != null) {\n      el.textContent = \"BokehJS is loading...\";\n    }\n    if (root.Bokeh !== undefined) {\n      if (el != null) {\n        el.textContent = \"BokehJS \" + root.Bokeh.version + \" successfully loaded.\";\n      }\n    } else if (Date.now() < root._bokeh_timeout) {\n      setTimeout(display_loaded, 100)\n    }\n  }\n\n  function run_callbacks() {\n    try {\n      root._bokeh_onload_callbacks.forEach(function(callback) {\n        if (callback != null)\n          callback();\n      });\n    } finally {\n      delete root._bokeh_onload_callbacks\n    }\n    console.debug(\"Bokeh: all callbacks have finished\");\n  }\n\n  function load_libs(css_urls, js_urls, callback) {\n    if (css_urls == null) css_urls = [];\n    if (js_urls == null) js_urls = [];\n\n    root._bokeh_onload_callbacks.push(callback);\n    if (root._bokeh_is_loading > 0) {\n      console.debug(\"Bokeh: BokehJS is being loaded, scheduling callback at\", now());\n      return null;\n    }\n    if (js_urls == null || js_urls.length === 0) {\n      run_callbacks();\n      return null;\n    }\n    console.debug(\"Bokeh: BokehJS not loaded, scheduling load and callback at\", now());\n    root._bokeh_is_loading = css_urls.length + js_urls.length;\n\n    function on_load() {\n      root._bokeh_is_loading--;\n      if (root._bokeh_is_loading === 0) {\n        console.debug(\"Bokeh: all BokehJS libraries/stylesheets loaded\");\n        run_callbacks()\n      }\n    }\n\n    function on_error(url) {\n      console.error(\"failed to load \" + url);\n    }\n\n    for (let i = 0; i < css_urls.length; i++) {\n      const url = css_urls[i];\n      const element = document.createElement(\"link\");\n      element.onload = on_load;\n      element.onerror = on_error.bind(null, url);\n      element.rel = \"stylesheet\";\n      element.type = \"text/css\";\n      element.href = url;\n      console.debug(\"Bokeh: injecting link tag for BokehJS stylesheet: \", url);\n      document.body.appendChild(element);\n    }\n\n    for (let i = 0; i < js_urls.length; i++) {\n      const url = js_urls[i];\n      const element = document.createElement('script');\n      element.onload = on_load;\n      element.onerror = on_error.bind(null, url);\n      element.async = false;\n      element.src = url;\n      console.debug(\"Bokeh: injecting script tag for BokehJS library: \", url);\n      document.head.appendChild(element);\n    }\n  };\n\n  function inject_raw_css(css) {\n    const element = document.createElement(\"style\");\n    element.appendChild(document.createTextNode(css));\n    document.body.appendChild(element);\n  }\n\n  const js_urls = [\"https://cdn.bokeh.org/bokeh/release/bokeh-3.2.0.min.js\", \"https://cdn.bokeh.org/bokeh/release/bokeh-gl-3.2.0.min.js\", \"https://cdn.bokeh.org/bokeh/release/bokeh-widgets-3.2.0.min.js\", \"https://cdn.bokeh.org/bokeh/release/bokeh-tables-3.2.0.min.js\", \"https://cdn.bokeh.org/bokeh/release/bokeh-mathjax-3.2.0.min.js\"];\n  const css_urls = [];\n\n  const inline_js = [    function(Bokeh) {\n      Bokeh.set_log_level(\"info\");\n    },\nfunction(Bokeh) {\n    }\n  ];\n\n  function run_inline_js() {\n    if (root.Bokeh !== undefined || force === true) {\n          for (let i = 0; i < inline_js.length; i++) {\n      inline_js[i].call(root, root.Bokeh);\n    }\nif (force === true) {\n        display_loaded();\n      }} else if (Date.now() < root._bokeh_timeout) {\n      setTimeout(run_inline_js, 100);\n    } else if (!root._bokeh_failed_load) {\n      console.log(\"Bokeh: BokehJS failed to load within specified timeout.\");\n      root._bokeh_failed_load = true;\n    } else if (force !== true) {\n      const cell = $(document.getElementById(\"d6e1ec86-a4b8-4016-8beb-ebd1872c7136\")).parents('.cell').data().cell;\n      cell.output_area.append_execute_result(NB_LOAD_WARNING)\n    }\n  }\n\n  if (root._bokeh_is_loading === 0) {\n    console.debug(\"Bokeh: BokehJS loaded, going straight to plotting\");\n    run_inline_js();\n  } else {\n    load_libs(css_urls, js_urls, function() {\n      console.debug(\"Bokeh: BokehJS plotting callback run at\", now());\n      run_inline_js();\n    });\n  }\n}(window));"
     },
     "metadata": {},
     "output_type": "display_data"
    }
   ],
   "source": [
    "import numpy as np\n",
    "import pandas as pd\n",
    "import ipywidgets as ipw\n",
    "\n",
    "from scipy.interpolate import interp1d\n",
    "from scipy.linalg import expm\n",
    "from bokeh.palettes import RdYlBu11\n",
    "from bokeh.transform import linear_cmap\n",
    "from bokeh.io import push_notebook, output_notebook, show, curdoc\n",
    "from bokeh.layouts import row, column\n",
    "from bokeh.plotting import figure, curdoc\n",
    "from bokeh.models import ColumnDataSource, ColorBar, BasicTickFormatter, BasicTicker, FixedTicker, FuncTickFormatter\n",
    "from bokeh.client import push_session\n",
    "\n",
    "from ipywidgets import interact\n",
    "\n",
    "import matplotlib.pyplot as plt\n",
    "import matplotlib.animation as anim\n",
    "output_notebook()\n",
    "curdoc().theme = 'dark_minimal'"
   ]
  },
  {
   "cell_type": "markdown",
   "metadata": {},
   "source": [
    "# Wavepacket construction and propagation along the 1D chain \n",
    "\n",
    "## Introduction\n",
    "In this notebook, we demonstrate the wavepacket construction and propagation, which is at the heart of the semiclassical approximation. For simplicty, we will consider the familiar 1D chain described using the tight-binding Hamiltonian. We will have to take a sufficiently large number of sites $N$ and impose periodic boundary conditions. For simplicity, in the code below we assume lattice constant $a = 1$.\n"
   ]
  },
  {
   "cell_type": "code",
   "execution_count": 2,
   "metadata": {},
   "outputs": [
    {
     "data": {
      "text/html": [
       "\n",
       "  <div id=\"b02aab6b-686a-4bb3-99d3-02bfd70f3e6e\" data-root-id=\"p1001\" style=\"display: contents;\"></div>\n"
      ]
     },
     "metadata": {},
     "output_type": "display_data"
    },
    {
     "data": {
      "application/javascript": [
       "(function(root) {\n",
       "  function embed_document(root) {\n",
       "  const docs_json = {\"1779e053-31de-4341-9053-8118be885a6e\":{\"version\":\"3.2.0\",\"title\":\"Bokeh Application\",\"roots\":[{\"type\":\"object\",\"name\":\"Figure\",\"id\":\"p1001\",\"attributes\":{\"width\":700,\"height\":100,\"x_range\":{\"type\":\"object\",\"name\":\"Range1d\",\"id\":\"p1011\",\"attributes\":{\"start\":-27.500000000000004,\"end\":27.500000000000004}},\"y_range\":{\"type\":\"object\",\"name\":\"DataRange1d\",\"id\":\"p1003\"},\"x_scale\":{\"type\":\"object\",\"name\":\"LinearScale\",\"id\":\"p1012\"},\"y_scale\":{\"type\":\"object\",\"name\":\"LinearScale\",\"id\":\"p1013\"},\"title\":{\"type\":\"object\",\"name\":\"Title\",\"id\":\"p1004\",\"attributes\":{\"text\":\"1D atomic chain\",\"text_color\":\"#E0E0E0\",\"text_font\":\"Helvetica\",\"text_font_size\":\"1.15em\"}},\"outline_line_color\":\"#E0E0E0\",\"outline_line_alpha\":0.25,\"renderers\":[{\"type\":\"object\",\"name\":\"GlyphRenderer\",\"id\":\"p1040\",\"attributes\":{\"data_source\":{\"type\":\"object\",\"name\":\"ColumnDataSource\",\"id\":\"p1031\",\"attributes\":{\"selected\":{\"type\":\"object\",\"name\":\"Selection\",\"id\":\"p1032\",\"attributes\":{\"indices\":[],\"line_indices\":[]}},\"selection_policy\":{\"type\":\"object\",\"name\":\"UnionRenderers\",\"id\":\"p1033\"},\"data\":{\"type\":\"map\",\"entries\":[[\"xVal\",{\"type\":\"ndarray\",\"array\":{\"type\":\"bytes\",\"data\":\"AAAAAAAAOcAAAAAAAAA4wAAAAAAAADfAAAAAAAAANsAAAAAAAAA1wAAAAAAAADTAAAAAAAAAM8AAAAAAAAAywAAAAAAAADHAAAAAAAAAMMAAAAAAAAAuwAAAAAAAACzAAAAAAAAAKsAAAAAAAAAowAAAAAAAACbAAAAAAAAAJMAAAAAAAAAiwAAAAAAAACDAAAAAAAAAHMAAAAAAAAAYwAAAAAAAABTAAAAAAAAAEMAAAAAAAAAIwAAAAAAAAADAAAAAAAAA8L8AAAAAAAAAAAAAAAAAAPA/AAAAAAAAAEAAAAAAAAAIQAAAAAAAABBAAAAAAAAAFEAAAAAAAAAYQAAAAAAAABxAAAAAAAAAIEAAAAAAAAAiQAAAAAAAACRAAAAAAAAAJkAAAAAAAAAoQAAAAAAAACpAAAAAAAAALEAAAAAAAAAuQAAAAAAAADBAAAAAAAAAMUAAAAAAAAAyQAAAAAAAADNAAAAAAAAANEAAAAAAAAA1QAAAAAAAADZAAAAAAAAAN0AAAAAAAAA4QA==\"},\"shape\":[50],\"dtype\":\"float64\",\"order\":\"little\"}],[\"yVal\",{\"type\":\"ndarray\",\"array\":{\"type\":\"bytes\",\"data\":\"AAAAAAAAAAAAAAAAAAAAAAAAAAAAAAAAAAAAAAAAAAAAAAAAAAAAAAAAAAAAAAAAAAAAAAAAAAAAAAAAAAAAAAAAAAAAAAAAAAAAAAAAAAAAAAAAAAAAAAAAAAAAAAAAAAAAAAAAAAAAAAAAAAAAAAAAAAAAAAAAAAAAAAAAAAAAAAAAAAAAAAAAAAAAAAAAAAAAAAAAAAAAAAAAAAAAAAAAAAAAAAAAAAAAAAAAAAAAAAAAAAAAAAAAAAAAAAAAAAAAAAAAAAAAAAAAAAAAAAAAAAAAAAAAAAAAAAAAAAAAAAAAAAAAAAAAAAAAAAAAAAAAAAAAAAAAAAAAAAAAAAAAAAAAAAAAAAAAAAAAAAAAAAAAAAAAAAAAAAAAAAAAAAAAAAAAAAAAAAAAAAAAAAAAAAAAAAAAAAAAAAAAAAAAAAAAAAAAAAAAAAAAAAAAAAAAAAAAAAAAAAAAAAAAAAAAAAAAAAAAAAAAAAAAAAAAAAAAAAAAAAAAAAAAAAAAAAAAAAAAAAAAAAAAAAAAAA==\"},\"shape\":[50],\"dtype\":\"float64\",\"order\":\"little\"}]]}}},\"view\":{\"type\":\"object\",\"name\":\"CDSView\",\"id\":\"p1041\",\"attributes\":{\"filter\":{\"type\":\"object\",\"name\":\"AllIndices\",\"id\":\"p1042\"}}},\"glyph\":{\"type\":\"object\",\"name\":\"Circle\",\"id\":\"p1037\",\"attributes\":{\"x\":{\"type\":\"field\",\"field\":\"xVal\"},\"y\":{\"type\":\"field\",\"field\":\"yVal\"},\"size\":{\"type\":\"value\",\"value\":6},\"fill_color\":{\"type\":\"value\",\"value\":\"white\"}}},\"nonselection_glyph\":{\"type\":\"object\",\"name\":\"Circle\",\"id\":\"p1038\",\"attributes\":{\"x\":{\"type\":\"field\",\"field\":\"xVal\"},\"y\":{\"type\":\"field\",\"field\":\"yVal\"},\"size\":{\"type\":\"value\",\"value\":6},\"line_alpha\":{\"type\":\"value\",\"value\":0.1},\"fill_color\":{\"type\":\"value\",\"value\":\"white\"},\"fill_alpha\":{\"type\":\"value\",\"value\":0.1},\"hatch_alpha\":{\"type\":\"value\",\"value\":0.1}}},\"muted_glyph\":{\"type\":\"object\",\"name\":\"Circle\",\"id\":\"p1039\",\"attributes\":{\"x\":{\"type\":\"field\",\"field\":\"xVal\"},\"y\":{\"type\":\"field\",\"field\":\"yVal\"},\"size\":{\"type\":\"value\",\"value\":6},\"line_alpha\":{\"type\":\"value\",\"value\":0.2},\"fill_color\":{\"type\":\"value\",\"value\":\"white\"},\"fill_alpha\":{\"type\":\"value\",\"value\":0.2},\"hatch_alpha\":{\"type\":\"value\",\"value\":0.2}}}}}],\"toolbar\":{\"type\":\"object\",\"name\":\"Toolbar\",\"id\":\"p1010\",\"attributes\":{\"tools\":[{\"type\":\"object\",\"name\":\"PanTool\",\"id\":\"p1024\"},{\"type\":\"object\",\"name\":\"WheelZoomTool\",\"id\":\"p1025\"},{\"type\":\"object\",\"name\":\"BoxZoomTool\",\"id\":\"p1026\",\"attributes\":{\"overlay\":{\"type\":\"object\",\"name\":\"BoxAnnotation\",\"id\":\"p1027\",\"attributes\":{\"syncable\":false,\"level\":\"overlay\",\"visible\":false,\"left_units\":\"canvas\",\"right_units\":\"canvas\",\"bottom_units\":\"canvas\",\"top_units\":\"canvas\",\"line_color\":\"black\",\"line_alpha\":1.0,\"line_width\":2,\"line_dash\":[4,4],\"fill_color\":\"lightgrey\",\"fill_alpha\":0.5}}}},{\"type\":\"object\",\"name\":\"SaveTool\",\"id\":\"p1028\"},{\"type\":\"object\",\"name\":\"ResetTool\",\"id\":\"p1029\"},{\"type\":\"object\",\"name\":\"HelpTool\",\"id\":\"p1030\"}]}},\"left\":[{\"type\":\"object\",\"name\":\"LinearAxis\",\"id\":\"p1019\",\"attributes\":{\"ticker\":{\"type\":\"object\",\"name\":\"BasicTicker\",\"id\":\"p1020\",\"attributes\":{\"mantissas\":[1,2,5]}},\"formatter\":{\"type\":\"object\",\"name\":\"BasicTickFormatter\",\"id\":\"p1021\"},\"axis_label_standoff\":10,\"axis_label_text_color\":\"#E0E0E0\",\"axis_label_text_font\":\"Helvetica\",\"axis_label_text_font_size\":\"1.25em\",\"axis_label_text_font_style\":\"normal\",\"major_label_policy\":{\"type\":\"object\",\"name\":\"AllLabels\",\"id\":\"p1022\"},\"major_label_text_color\":\"#E0E0E0\",\"major_label_text_font\":\"Helvetica\",\"major_label_text_font_size\":\"1.025em\",\"axis_line_color\":\"#E0E0E0\",\"axis_line_alpha\":0,\"major_tick_line_color\":\"#E0E0E0\",\"major_tick_line_alpha\":0,\"minor_tick_line_color\":\"#E0E0E0\",\"minor_tick_line_alpha\":0}}],\"below\":[{\"type\":\"object\",\"name\":\"LinearAxis\",\"id\":\"p1014\",\"attributes\":{\"ticker\":{\"type\":\"object\",\"name\":\"BasicTicker\",\"id\":\"p1015\",\"attributes\":{\"mantissas\":[1,2,5]}},\"formatter\":{\"type\":\"object\",\"name\":\"BasicTickFormatter\",\"id\":\"p1016\"},\"axis_label\":\"r (a)\",\"axis_label_standoff\":10,\"axis_label_text_color\":\"#E0E0E0\",\"axis_label_text_font\":\"Helvetica\",\"axis_label_text_font_size\":\"1.25em\",\"axis_label_text_font_style\":\"normal\",\"major_label_policy\":{\"type\":\"object\",\"name\":\"AllLabels\",\"id\":\"p1017\"},\"major_label_text_color\":\"#E0E0E0\",\"major_label_text_font\":\"Helvetica\",\"major_label_text_font_size\":\"1.025em\",\"axis_line_color\":\"#E0E0E0\",\"axis_line_alpha\":0,\"major_tick_line_color\":\"#E0E0E0\",\"major_tick_line_alpha\":0,\"minor_tick_line_color\":\"#E0E0E0\",\"minor_tick_line_alpha\":0}}],\"center\":[{\"type\":\"object\",\"name\":\"Grid\",\"id\":\"p1018\",\"attributes\":{\"axis\":{\"id\":\"p1014\"},\"grid_line_color\":\"#E0E0E0\",\"grid_line_alpha\":0.25}},{\"type\":\"object\",\"name\":\"Grid\",\"id\":\"p1023\",\"attributes\":{\"dimension\":1,\"axis\":{\"id\":\"p1019\"},\"grid_line_color\":\"#E0E0E0\",\"grid_line_alpha\":0.25}}],\"background_fill_color\":\"#20262B\",\"border_fill_color\":\"#15191C\"}}]}};\n",
       "  const render_items = [{\"docid\":\"1779e053-31de-4341-9053-8118be885a6e\",\"roots\":{\"p1001\":\"b02aab6b-686a-4bb3-99d3-02bfd70f3e6e\"},\"root_ids\":[\"p1001\"]}];\n",
       "  root.Bokeh.embed.embed_items_notebook(docs_json, render_items);\n",
       "  }\n",
       "  if (root.Bokeh !== undefined) {\n",
       "    embed_document(root);\n",
       "  } else {\n",
       "    let attempts = 0;\n",
       "    const timer = setInterval(function(root) {\n",
       "      if (root.Bokeh !== undefined) {\n",
       "        clearInterval(timer);\n",
       "        embed_document(root);\n",
       "      } else {\n",
       "        attempts++;\n",
       "        if (attempts > 100) {\n",
       "          clearInterval(timer);\n",
       "          console.log(\"Bokeh: ERROR: Unable to run BokehJS code because BokehJS library is missing\");\n",
       "        }\n",
       "      }\n",
       "    }, 10, root)\n",
       "  }\n",
       "})(window);"
      ],
      "application/vnd.bokehjs_exec.v0+json": ""
     },
     "metadata": {
      "application/vnd.bokehjs_exec.v0+json": {
       "id": "p1001"
      }
     },
     "output_type": "display_data"
    }
   ],
   "source": [
    "# We start by setting up a 1D atomic chain with N atomic sites. Each site is separated by a distance 'a'. \n",
    "# We then plot the atomic chain for visualization.\n",
    "\n",
    "\n",
    "N = 50; # Number of atomic sites\n",
    "M = int((N)/2); # Number of atomic sites on each side of the origin\n",
    "a = 1.0 # Real space distance between each site\n",
    "lattx = np.arange(-a*M,a*M,a); # \n",
    "latty = np.zeros(lattx.size);\n",
    "lattice = figure(height=100, width=700, title=\"1D atomic chain\",x_range=[-1.1*a*M,1.1*a*M]);\n",
    "source1 = ColumnDataSource(data = {'xVal': lattx, 'yVal': latty});\n",
    "lattice.circle('xVal','yVal',source = source1, size = 6, line_color = 'black', fill_color = 'white');\n",
    "lattice.xaxis.axis_label = 'r (a)';\n",
    "show(lattice)"
   ]
  },
  {
   "cell_type": "markdown",
   "metadata": {},
   "source": [
    "## Eigenvalues\n",
    "The solution for the 1D chain with one atom per unit cell is known since the previous lectures:\n",
    "\n",
    "$$ E(k) = -2\\gamma \\cos (ka) $$\n",
    "\n",
    "The plot below reproduces the corresponsing band structure. Each of the $N$ points on the band corresponds to an eigenvalue of the $N$-site chain with periodic boundary (Born-von Karman) condition $\\psi(r) = \\psi(r + Na)$. We will also assume $\\gamma = -1$ in the code for simplicity."
   ]
  },
  {
   "cell_type": "code",
   "execution_count": 3,
   "metadata": {},
   "outputs": [],
   "source": [
    "# We now calculate the eigenvalues and the band structure for our atomic chain. \n",
    "# The eigenvalues give us the possible energy levels of the chain, \n",
    "# and the band structure provides a visual representation of these energy levels.\n",
    "\n",
    "\n",
    "k0 = 2*np.pi/(N*a); # spacing between values of k\n",
    "k = np.linspace(-M*k0,(M-1)*k0,N);\n",
    "energy = -2*np.cos(k);"
   ]
  },
  {
   "cell_type": "code",
   "execution_count": 4,
   "metadata": {},
   "outputs": [
    {
     "data": {
      "text/html": [
       "\n",
       "  <div id=\"afaf07ab-f954-42ae-8ddf-9ff3a9f44a98\" data-root-id=\"p1045\" style=\"display: contents;\"></div>\n"
      ]
     },
     "metadata": {},
     "output_type": "display_data"
    },
    {
     "data": {
      "application/javascript": [
       "(function(root) {\n",
       "  function embed_document(root) {\n",
       "  const docs_json = {\"5315c978-36b4-49e2-a03f-bfc1a0e6ed94\":{\"version\":\"3.2.0\",\"title\":\"Bokeh Application\",\"roots\":[{\"type\":\"object\",\"name\":\"Figure\",\"id\":\"p1045\",\"attributes\":{\"width\":700,\"height\":400,\"x_range\":{\"type\":\"object\",\"name\":\"Range1d\",\"id\":\"p1055\",\"attributes\":{\"start\":-1.1000000000000003,\"end\":1.1000000000000003}},\"y_range\":{\"type\":\"object\",\"name\":\"Range1d\",\"id\":\"p1056\",\"attributes\":{\"start\":-2.4,\"end\":2.4}},\"x_scale\":{\"type\":\"object\",\"name\":\"LinearScale\",\"id\":\"p1057\"},\"y_scale\":{\"type\":\"object\",\"name\":\"LinearScale\",\"id\":\"p1058\"},\"title\":{\"type\":\"object\",\"name\":\"Title\",\"id\":\"p1048\",\"attributes\":{\"text\":\"Band structure of the 1D chain and the eigenvalues of the N-site chain\",\"text_color\":\"#E0E0E0\",\"text_font\":\"Helvetica\",\"text_font_size\":\"1.15em\"}},\"outline_line_color\":\"#E0E0E0\",\"outline_line_alpha\":0.25,\"renderers\":[{\"type\":\"object\",\"name\":\"GlyphRenderer\",\"id\":\"p1085\",\"attributes\":{\"data_source\":{\"type\":\"object\",\"name\":\"ColumnDataSource\",\"id\":\"p1076\",\"attributes\":{\"selected\":{\"type\":\"object\",\"name\":\"Selection\",\"id\":\"p1077\",\"attributes\":{\"indices\":[],\"line_indices\":[]}},\"selection_policy\":{\"type\":\"object\",\"name\":\"UnionRenderers\",\"id\":\"p1078\"},\"data\":{\"type\":\"map\",\"entries\":[[\"xVal\",{\"type\":\"ndarray\",\"array\":{\"type\":\"bytes\",\"data\":\"AQAAAAAA8L+5HoXrUbjuv3I9CtejcO2/KlyPwvUo7L/iehSuR+Hqv5uZmZmZmem/U7gehetR6L8M16NwPQrnv8T1KFyPwuW/exSuR+F65L80MzMzMzPjv+xRuB6F6+G/pXA9Ctej4L+6HoXrUbjevypcj8L1KNy/m5mZmZmZ2b8M16NwPQrXv3sUrkfhetS/7lG4HoXr0b+6HoXrUbjOv5+ZmZmZmcm/fhSuR+F6xL+6HoXrUbi+v4MUrkfherS/gxSuR+F6pL8AAAAAAAAAAG8UrkfheqQ/eRSuR+F6tD+6HoXrUbi+P3kUrkfhesQ/mpmZmZmZyT+1HoXrUbjOP+tRuB6F69E/exSuR+F61D8M16NwPQrXP5eZmZmZmdk/J1yPwvUo3D+4HoXrUbjeP6RwPQrXo+A/7FG4HoXr4T8yMzMzMzPjP3oUrkfheuQ/wvUoXI/C5T8K16NwPQrnP1O4HoXrUeg/m5mZmZmZ6T/hehSuR+HqPylcj8L1KOw/cT0K16Nw7T+5HoXrUbjuPw==\"},\"shape\":[50],\"dtype\":\"float64\",\"order\":\"little\"}],[\"yVal\",{\"type\":\"ndarray\",\"array\":{\"type\":\"bytes\",\"data\":\"AAAAAAAAAEAB2YBUZ7//P+MeEB2i/v4/5VrvnbrA/T9ZwIFOtAr8P6r0l5t34/k/F7jSA7ZT9z++AbX+xmX0P1IrGDx+JfE/noElyfc/6z9X6S8378bjP4F6A2Uc/Nc/i5PgGwoTwD9kk+AbChPAv3V6A2Uc/Ne/TekvN+/G47+YgSXJ9z/rv1ArGDx+JfG/uQG1/sZl9L8WuNIDtlP3v6f0l5t34/m/V8CBTrQK/L/jWu+dusD9v+AeEB2i/v6/AdmAVGe//78AAAAAAAAAwAHZgFRnv/+/4h4QHaL+/r/jWu+dusD9v1nAgU60Cvy/qfSXm3fj+b8ZuNIDtlP3v7wBtf7GZfS/UCsYPH4l8b+YgSXJ9z/rv1npLzfvxuO/hXoDZRz817+Dk+AbChPAv3uT4BsKE8A/gXoDZRz81z9I6S8378bjP5aBJcn3P+s/TisYPH4l8T+7AbX+xmX0Pxe40gO2U/c/qvSXm3fj+T9XwIFOtAr8P+Na7526wP0/4h4QHaL+/j8B2YBUZ7//Pw==\"},\"shape\":[50],\"dtype\":\"float64\",\"order\":\"little\"}]]}}},\"view\":{\"type\":\"object\",\"name\":\"CDSView\",\"id\":\"p1086\",\"attributes\":{\"filter\":{\"type\":\"object\",\"name\":\"AllIndices\",\"id\":\"p1087\"}}},\"glyph\":{\"type\":\"object\",\"name\":\"Circle\",\"id\":\"p1082\",\"attributes\":{\"x\":{\"type\":\"field\",\"field\":\"xVal\"},\"y\":{\"type\":\"field\",\"field\":\"yVal\"},\"size\":{\"type\":\"value\",\"value\":6},\"line_color\":{\"type\":\"value\",\"value\":\"#1f77b4\"},\"fill_color\":{\"type\":\"value\",\"value\":\"#1f77b4\"}}},\"nonselection_glyph\":{\"type\":\"object\",\"name\":\"Circle\",\"id\":\"p1083\",\"attributes\":{\"x\":{\"type\":\"field\",\"field\":\"xVal\"},\"y\":{\"type\":\"field\",\"field\":\"yVal\"},\"size\":{\"type\":\"value\",\"value\":6},\"line_color\":{\"type\":\"value\",\"value\":\"#1f77b4\"},\"line_alpha\":{\"type\":\"value\",\"value\":0.1},\"fill_color\":{\"type\":\"value\",\"value\":\"#1f77b4\"},\"fill_alpha\":{\"type\":\"value\",\"value\":0.1},\"hatch_alpha\":{\"type\":\"value\",\"value\":0.1}}},\"muted_glyph\":{\"type\":\"object\",\"name\":\"Circle\",\"id\":\"p1084\",\"attributes\":{\"x\":{\"type\":\"field\",\"field\":\"xVal\"},\"y\":{\"type\":\"field\",\"field\":\"yVal\"},\"size\":{\"type\":\"value\",\"value\":6},\"line_color\":{\"type\":\"value\",\"value\":\"#1f77b4\"},\"line_alpha\":{\"type\":\"value\",\"value\":0.2},\"fill_color\":{\"type\":\"value\",\"value\":\"#1f77b4\"},\"fill_alpha\":{\"type\":\"value\",\"value\":0.2},\"hatch_alpha\":{\"type\":\"value\",\"value\":0.2}}}}},{\"type\":\"object\",\"name\":\"GlyphRenderer\",\"id\":\"p1094\",\"attributes\":{\"data_source\":{\"id\":\"p1076\"},\"view\":{\"type\":\"object\",\"name\":\"CDSView\",\"id\":\"p1095\",\"attributes\":{\"filter\":{\"type\":\"object\",\"name\":\"AllIndices\",\"id\":\"p1096\"}}},\"glyph\":{\"type\":\"object\",\"name\":\"Line\",\"id\":\"p1091\",\"attributes\":{\"x\":{\"type\":\"field\",\"field\":\"xVal\"},\"y\":{\"type\":\"field\",\"field\":\"yVal\"},\"line_color\":\"#1f77b4\"}},\"nonselection_glyph\":{\"type\":\"object\",\"name\":\"Line\",\"id\":\"p1092\",\"attributes\":{\"x\":{\"type\":\"field\",\"field\":\"xVal\"},\"y\":{\"type\":\"field\",\"field\":\"yVal\"},\"line_color\":\"#1f77b4\",\"line_alpha\":0.1}},\"muted_glyph\":{\"type\":\"object\",\"name\":\"Line\",\"id\":\"p1093\",\"attributes\":{\"x\":{\"type\":\"field\",\"field\":\"xVal\"},\"y\":{\"type\":\"field\",\"field\":\"yVal\"},\"line_color\":\"#1f77b4\",\"line_alpha\":0.2}}}}],\"toolbar\":{\"type\":\"object\",\"name\":\"Toolbar\",\"id\":\"p1054\",\"attributes\":{\"tools\":[{\"type\":\"object\",\"name\":\"PanTool\",\"id\":\"p1069\"},{\"type\":\"object\",\"name\":\"WheelZoomTool\",\"id\":\"p1070\"},{\"type\":\"object\",\"name\":\"BoxZoomTool\",\"id\":\"p1071\",\"attributes\":{\"overlay\":{\"type\":\"object\",\"name\":\"BoxAnnotation\",\"id\":\"p1072\",\"attributes\":{\"syncable\":false,\"level\":\"overlay\",\"visible\":false,\"left_units\":\"canvas\",\"right_units\":\"canvas\",\"bottom_units\":\"canvas\",\"top_units\":\"canvas\",\"line_color\":\"black\",\"line_alpha\":1.0,\"line_width\":2,\"line_dash\":[4,4],\"fill_color\":\"lightgrey\",\"fill_alpha\":0.5}}}},{\"type\":\"object\",\"name\":\"SaveTool\",\"id\":\"p1073\"},{\"type\":\"object\",\"name\":\"ResetTool\",\"id\":\"p1074\"},{\"type\":\"object\",\"name\":\"HelpTool\",\"id\":\"p1075\"}]}},\"left\":[{\"type\":\"object\",\"name\":\"LinearAxis\",\"id\":\"p1064\",\"attributes\":{\"ticker\":{\"type\":\"object\",\"name\":\"BasicTicker\",\"id\":\"p1065\",\"attributes\":{\"mantissas\":[1,2,5]}},\"formatter\":{\"type\":\"object\",\"name\":\"BasicTickFormatter\",\"id\":\"p1066\"},\"axis_label\":\"Energy/|gamma|\",\"axis_label_standoff\":10,\"axis_label_text_color\":\"#E0E0E0\",\"axis_label_text_font\":\"Helvetica\",\"axis_label_text_font_size\":\"1.25em\",\"axis_label_text_font_style\":\"normal\",\"major_label_policy\":{\"type\":\"object\",\"name\":\"AllLabels\",\"id\":\"p1067\"},\"major_label_text_color\":\"#E0E0E0\",\"major_label_text_font\":\"Helvetica\",\"major_label_text_font_size\":\"1.025em\",\"axis_line_color\":\"#E0E0E0\",\"axis_line_alpha\":0,\"major_tick_line_color\":\"#E0E0E0\",\"major_tick_line_alpha\":0,\"minor_tick_line_color\":\"#E0E0E0\",\"minor_tick_line_alpha\":0}}],\"below\":[{\"type\":\"object\",\"name\":\"LinearAxis\",\"id\":\"p1059\",\"attributes\":{\"ticker\":{\"type\":\"object\",\"name\":\"BasicTicker\",\"id\":\"p1060\",\"attributes\":{\"mantissas\":[1,2,5]}},\"formatter\":{\"type\":\"object\",\"name\":\"BasicTickFormatter\",\"id\":\"p1061\"},\"axis_label\":\"k ( \\u03c0 / a )\",\"axis_label_standoff\":10,\"axis_label_text_color\":\"#E0E0E0\",\"axis_label_text_font\":\"Helvetica\",\"axis_label_text_font_size\":\"1.25em\",\"axis_label_text_font_style\":\"normal\",\"major_label_policy\":{\"type\":\"object\",\"name\":\"AllLabels\",\"id\":\"p1062\"},\"major_label_text_color\":\"#E0E0E0\",\"major_label_text_font\":\"Helvetica\",\"major_label_text_font_size\":\"1.025em\",\"axis_line_color\":\"#E0E0E0\",\"axis_line_alpha\":0,\"major_tick_line_color\":\"#E0E0E0\",\"major_tick_line_alpha\":0,\"minor_tick_line_color\":\"#E0E0E0\",\"minor_tick_line_alpha\":0}}],\"center\":[{\"type\":\"object\",\"name\":\"Grid\",\"id\":\"p1063\",\"attributes\":{\"axis\":{\"id\":\"p1059\"},\"grid_line_color\":\"#E0E0E0\",\"grid_line_alpha\":0.25}},{\"type\":\"object\",\"name\":\"Grid\",\"id\":\"p1068\",\"attributes\":{\"dimension\":1,\"axis\":{\"id\":\"p1064\"},\"grid_line_color\":\"#E0E0E0\",\"grid_line_alpha\":0.25}}],\"background_fill_color\":\"#20262B\",\"border_fill_color\":\"#15191C\"}}]}};\n",
       "  const render_items = [{\"docid\":\"5315c978-36b4-49e2-a03f-bfc1a0e6ed94\",\"roots\":{\"p1045\":\"afaf07ab-f954-42ae-8ddf-9ff3a9f44a98\"},\"root_ids\":[\"p1045\"]}];\n",
       "  root.Bokeh.embed.embed_items_notebook(docs_json, render_items);\n",
       "  }\n",
       "  if (root.Bokeh !== undefined) {\n",
       "    embed_document(root);\n",
       "  } else {\n",
       "    let attempts = 0;\n",
       "    const timer = setInterval(function(root) {\n",
       "      if (root.Bokeh !== undefined) {\n",
       "        clearInterval(timer);\n",
       "        embed_document(root);\n",
       "      } else {\n",
       "        attempts++;\n",
       "        if (attempts > 100) {\n",
       "          clearInterval(timer);\n",
       "          console.log(\"Bokeh: ERROR: Unable to run BokehJS code because BokehJS library is missing\");\n",
       "        }\n",
       "      }\n",
       "    }, 10, root)\n",
       "  }\n",
       "})(window);"
      ],
      "application/vnd.bokehjs_exec.v0+json": ""
     },
     "metadata": {
      "application/vnd.bokehjs_exec.v0+json": {
       "id": "p1045"
      }
     },
     "output_type": "display_data"
    }
   ],
   "source": [
    "# Calcualte resulting dispersion relation using periodic boundary condition (PC)\n",
    "band = figure(height = 400, width = 700, title='Band structure of the 1D chain and the eigenvalues of the N-site chain', x_range = [-1.1*k0*M/np.pi,1.1*k0*M/np.pi], y_range= [1.2*energy.min(),1.2*energy.max()]);\n",
    "source2 = ColumnDataSource(data = {'xVal': k/np.pi, 'yVal' : energy});\n",
    "band.circle('xVal','yVal',source = source2,size = 6);\n",
    "band.line('xVal','yVal',source = source2);\n",
    "band.xaxis.axis_label='k ( \\u03c0 / a )';\n",
    "band.yaxis.axis_label='Energy/|gamma|';\n",
    "show(band)"
   ]
  },
  {
   "cell_type": "markdown",
   "metadata": {},
   "source": [
    "## Envelope function of the wavepacket\n",
    "This is the critical step of contructing the wavepacket. Below we define the envelope function $g(k)$ (see expression (6.3) of the handout) as the Gaussian function centered at momentum $k_0$ of width $\\sigma$\n",
    "\n",
    "$$ g(k) = e^{-\\frac{1}{2}\\left(\\frac{k-k_0}{\\sigma}\\right)^2 }$$\n",
    "\n",
    "The plot below superimposes $g(k)$ and the band structure."
   ]
  },
  {
   "cell_type": "code",
   "execution_count": 5,
   "metadata": {},
   "outputs": [],
   "source": [
    "# We will now define the envelope function of the wavepacket, which describes its shape. \n",
    "# For this, we use a Gaussian function centered at momentum 'kk0' with a width 'sigm'.\n",
    "\n",
    "# define the envelope function g(k) as the gaussian gunction centred at kk0 and of width sigm  \n",
    "sigm = 3.0*k0; # Envelope function width\n",
    "kk0 = 12.0*k0; # Envelope function center\n",
    "kk = np.linspace(-M*k0,(M-1)*k0, 200); # Create a smoother grid for illustration purpose\n",
    "phi_k0 = 1/(np.sqrt(2.0*np.pi)*sigm)*np.exp(-1/2*( (kk-kk0)/sigm )**2); # This is equivalent to g(k) in the handout"
   ]
  },
  {
   "cell_type": "code",
   "execution_count": 6,
   "metadata": {},
   "outputs": [
    {
     "data": {
      "text/html": [
       "\n",
       "  <div id=\"de1be112-edad-4b10-9409-bf5408071543\" data-root-id=\"p1099\" style=\"display: contents;\"></div>\n"
      ]
     },
     "metadata": {},
     "output_type": "display_data"
    },
    {
     "data": {
      "application/javascript": [
       "(function(root) {\n",
       "  function embed_document(root) {\n",
       "  const docs_json = {\"b7a41707-4a94-4e00-a28e-50d2a79cd226\":{\"version\":\"3.2.0\",\"title\":\"Bokeh Application\",\"roots\":[{\"type\":\"object\",\"name\":\"Figure\",\"id\":\"p1099\",\"attributes\":{\"width\":700,\"height\":400,\"x_range\":{\"type\":\"object\",\"name\":\"Range1d\",\"id\":\"p1109\",\"attributes\":{\"start\":-1.1000000000000003,\"end\":1.1000000000000003}},\"y_range\":{\"type\":\"object\",\"name\":\"Range1d\",\"id\":\"p1110\",\"attributes\":{\"start\":-2.4,\"end\":2.4}},\"x_scale\":{\"type\":\"object\",\"name\":\"LinearScale\",\"id\":\"p1111\"},\"y_scale\":{\"type\":\"object\",\"name\":\"LinearScale\",\"id\":\"p1112\"},\"title\":{\"type\":\"object\",\"name\":\"Title\",\"id\":\"p1102\",\"attributes\":{\"text\":\"Envelope function in k space\",\"text_color\":\"#E0E0E0\",\"text_font\":\"Helvetica\",\"text_font_size\":\"1.15em\"}},\"outline_line_color\":\"#E0E0E0\",\"outline_line_alpha\":0.25,\"renderers\":[{\"type\":\"object\",\"name\":\"GlyphRenderer\",\"id\":\"p1139\",\"attributes\":{\"data_source\":{\"type\":\"object\",\"name\":\"ColumnDataSource\",\"id\":\"p1130\",\"attributes\":{\"selected\":{\"type\":\"object\",\"name\":\"Selection\",\"id\":\"p1131\",\"attributes\":{\"indices\":[],\"line_indices\":[]}},\"selection_policy\":{\"type\":\"object\",\"name\":\"UnionRenderers\",\"id\":\"p1132\"},\"data\":{\"type\":\"map\",\"entries\":[[\"xVal\",{\"type\":\"ndarray\",\"array\":{\"type\":\"bytes\",\"data\":\"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\"},\"shape\":[200],\"dtype\":\"float64\",\"order\":\"little\"}],[\"yVal\",{\"type\":\"ndarray\",\"array\":{\"type\":\"bytes\",\"data\":\"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\"},\"shape\":[200],\"dtype\":\"float64\",\"order\":\"little\"}]]}}},\"view\":{\"type\":\"object\",\"name\":\"CDSView\",\"id\":\"p1140\",\"attributes\":{\"filter\":{\"type\":\"object\",\"name\":\"AllIndices\",\"id\":\"p1141\"}}},\"glyph\":{\"type\":\"object\",\"name\":\"Line\",\"id\":\"p1136\",\"attributes\":{\"x\":{\"type\":\"field\",\"field\":\"xVal\"},\"y\":{\"type\":\"field\",\"field\":\"yVal\"},\"line_color\":\"red\"}},\"nonselection_glyph\":{\"type\":\"object\",\"name\":\"Line\",\"id\":\"p1137\",\"attributes\":{\"x\":{\"type\":\"field\",\"field\":\"xVal\"},\"y\":{\"type\":\"field\",\"field\":\"yVal\"},\"line_color\":\"red\",\"line_alpha\":0.1}},\"muted_glyph\":{\"type\":\"object\",\"name\":\"Line\",\"id\":\"p1138\",\"attributes\":{\"x\":{\"type\":\"field\",\"field\":\"xVal\"},\"y\":{\"type\":\"field\",\"field\":\"yVal\"},\"line_color\":\"red\",\"line_alpha\":0.2}}}},{\"type\":\"object\",\"name\":\"GlyphRenderer\",\"id\":\"p1148\",\"attributes\":{\"data_source\":{\"type\":\"object\",\"name\":\"ColumnDataSource\",\"id\":\"p1076\",\"attributes\":{\"selected\":{\"type\":\"object\",\"name\":\"Selection\",\"id\":\"p1077\",\"attributes\":{\"indices\":[],\"line_indices\":[]}},\"selection_policy\":{\"type\":\"object\",\"name\":\"UnionRenderers\",\"id\":\"p1078\"},\"data\":{\"type\":\"map\",\"entries\":[[\"xVal\",{\"type\":\"ndarray\",\"array\":{\"type\":\"bytes\",\"data\":\"AQAAAAAA8L+5HoXrUbjuv3I9CtejcO2/KlyPwvUo7L/iehSuR+Hqv5uZmZmZmem/U7gehetR6L8M16NwPQrnv8T1KFyPwuW/exSuR+F65L80MzMzMzPjv+xRuB6F6+G/pXA9Ctej4L+6HoXrUbjevypcj8L1KNy/m5mZmZmZ2b8M16NwPQrXv3sUrkfhetS/7lG4HoXr0b+6HoXrUbjOv5+ZmZmZmcm/fhSuR+F6xL+6HoXrUbi+v4MUrkfherS/gxSuR+F6pL8AAAAAAAAAAG8UrkfheqQ/eRSuR+F6tD+6HoXrUbi+P3kUrkfhesQ/mpmZmZmZyT+1HoXrUbjOP+tRuB6F69E/exSuR+F61D8M16NwPQrXP5eZmZmZmdk/J1yPwvUo3D+4HoXrUbjeP6RwPQrXo+A/7FG4HoXr4T8yMzMzMzPjP3oUrkfheuQ/wvUoXI/C5T8K16NwPQrnP1O4HoXrUeg/m5mZmZmZ6T/hehSuR+HqPylcj8L1KOw/cT0K16Nw7T+5HoXrUbjuPw==\"},\"shape\":[50],\"dtype\":\"float64\",\"order\":\"little\"}],[\"yVal\",{\"type\":\"ndarray\",\"array\":{\"type\":\"bytes\",\"data\":\"AAAAAAAAAEAB2YBUZ7//P+MeEB2i/v4/5VrvnbrA/T9ZwIFOtAr8P6r0l5t34/k/F7jSA7ZT9z++AbX+xmX0P1IrGDx+JfE/noElyfc/6z9X6S8378bjP4F6A2Uc/Nc/i5PgGwoTwD9kk+AbChPAv3V6A2Uc/Ne/TekvN+/G47+YgSXJ9z/rv1ArGDx+JfG/uQG1/sZl9L8WuNIDtlP3v6f0l5t34/m/V8CBTrQK/L/jWu+dusD9v+AeEB2i/v6/AdmAVGe//78AAAAAAAAAwAHZgFRnv/+/4h4QHaL+/r/jWu+dusD9v1nAgU60Cvy/qfSXm3fj+b8ZuNIDtlP3v7wBtf7GZfS/UCsYPH4l8b+YgSXJ9z/rv1npLzfvxuO/hXoDZRz817+Dk+AbChPAv3uT4BsKE8A/gXoDZRz81z9I6S8378bjP5aBJcn3P+s/TisYPH4l8T+7AbX+xmX0Pxe40gO2U/c/qvSXm3fj+T9XwIFOtAr8P+Na7526wP0/4h4QHaL+/j8B2YBUZ7//Pw==\"},\"shape\":[50],\"dtype\":\"float64\",\"order\":\"little\"}]]}}},\"view\":{\"type\":\"object\",\"name\":\"CDSView\",\"id\":\"p1149\",\"attributes\":{\"filter\":{\"type\":\"object\",\"name\":\"AllIndices\",\"id\":\"p1150\"}}},\"glyph\":{\"type\":\"object\",\"name\":\"Circle\",\"id\":\"p1145\",\"attributes\":{\"x\":{\"type\":\"field\",\"field\":\"xVal\"},\"y\":{\"type\":\"field\",\"field\":\"yVal\"},\"size\":{\"type\":\"value\",\"value\":6},\"fill_color\":{\"type\":\"value\",\"value\":\"black\"}}},\"nonselection_glyph\":{\"type\":\"object\",\"name\":\"Circle\",\"id\":\"p1146\",\"attributes\":{\"x\":{\"type\":\"field\",\"field\":\"xVal\"},\"y\":{\"type\":\"field\",\"field\":\"yVal\"},\"size\":{\"type\":\"value\",\"value\":6},\"line_alpha\":{\"type\":\"value\",\"value\":0.1},\"fill_color\":{\"type\":\"value\",\"value\":\"black\"},\"fill_alpha\":{\"type\":\"value\",\"value\":0.1},\"hatch_alpha\":{\"type\":\"value\",\"value\":0.1}}},\"muted_glyph\":{\"type\":\"object\",\"name\":\"Circle\",\"id\":\"p1147\",\"attributes\":{\"x\":{\"type\":\"field\",\"field\":\"xVal\"},\"y\":{\"type\":\"field\",\"field\":\"yVal\"},\"size\":{\"type\":\"value\",\"value\":6},\"line_alpha\":{\"type\":\"value\",\"value\":0.2},\"fill_color\":{\"type\":\"value\",\"value\":\"black\"},\"fill_alpha\":{\"type\":\"value\",\"value\":0.2},\"hatch_alpha\":{\"type\":\"value\",\"value\":0.2}}}}}],\"toolbar\":{\"type\":\"object\",\"name\":\"Toolbar\",\"id\":\"p1108\",\"attributes\":{\"tools\":[{\"type\":\"object\",\"name\":\"PanTool\",\"id\":\"p1123\"},{\"type\":\"object\",\"name\":\"WheelZoomTool\",\"id\":\"p1124\"},{\"type\":\"object\",\"name\":\"BoxZoomTool\",\"id\":\"p1125\",\"attributes\":{\"overlay\":{\"type\":\"object\",\"name\":\"BoxAnnotation\",\"id\":\"p1126\",\"attributes\":{\"syncable\":false,\"level\":\"overlay\",\"visible\":false,\"left_units\":\"canvas\",\"right_units\":\"canvas\",\"bottom_units\":\"canvas\",\"top_units\":\"canvas\",\"line_color\":\"black\",\"line_alpha\":1.0,\"line_width\":2,\"line_dash\":[4,4],\"fill_color\":\"lightgrey\",\"fill_alpha\":0.5}}}},{\"type\":\"object\",\"name\":\"SaveTool\",\"id\":\"p1127\"},{\"type\":\"object\",\"name\":\"ResetTool\",\"id\":\"p1128\"},{\"type\":\"object\",\"name\":\"HelpTool\",\"id\":\"p1129\"}]}},\"left\":[{\"type\":\"object\",\"name\":\"LinearAxis\",\"id\":\"p1118\",\"attributes\":{\"ticker\":{\"type\":\"object\",\"name\":\"BasicTicker\",\"id\":\"p1119\",\"attributes\":{\"mantissas\":[1,2,5]}},\"formatter\":{\"type\":\"object\",\"name\":\"BasicTickFormatter\",\"id\":\"p1120\"},\"axis_label\":\"g(k)\",\"axis_label_standoff\":10,\"axis_label_text_color\":\"#E0E0E0\",\"axis_label_text_font\":\"Helvetica\",\"axis_label_text_font_size\":\"1.25em\",\"axis_label_text_font_style\":\"normal\",\"major_label_policy\":{\"type\":\"object\",\"name\":\"AllLabels\",\"id\":\"p1121\"},\"major_label_text_color\":\"#E0E0E0\",\"major_label_text_font\":\"Helvetica\",\"major_label_text_font_size\":\"1.025em\",\"axis_line_color\":\"#E0E0E0\",\"axis_line_alpha\":0,\"major_tick_line_color\":\"#E0E0E0\",\"major_tick_line_alpha\":0,\"minor_tick_line_color\":\"#E0E0E0\",\"minor_tick_line_alpha\":0}}],\"below\":[{\"type\":\"object\",\"name\":\"LinearAxis\",\"id\":\"p1113\",\"attributes\":{\"ticker\":{\"type\":\"object\",\"name\":\"BasicTicker\",\"id\":\"p1114\",\"attributes\":{\"mantissas\":[1,2,5]}},\"formatter\":{\"type\":\"object\",\"name\":\"BasicTickFormatter\",\"id\":\"p1115\"},\"axis_label\":\"k ( \\u03c0 / a )\",\"axis_label_standoff\":10,\"axis_label_text_color\":\"#E0E0E0\",\"axis_label_text_font\":\"Helvetica\",\"axis_label_text_font_size\":\"1.25em\",\"axis_label_text_font_style\":\"normal\",\"major_label_policy\":{\"type\":\"object\",\"name\":\"AllLabels\",\"id\":\"p1116\"},\"major_label_text_color\":\"#E0E0E0\",\"major_label_text_font\":\"Helvetica\",\"major_label_text_font_size\":\"1.025em\",\"axis_line_color\":\"#E0E0E0\",\"axis_line_alpha\":0,\"major_tick_line_color\":\"#E0E0E0\",\"major_tick_line_alpha\":0,\"minor_tick_line_color\":\"#E0E0E0\",\"minor_tick_line_alpha\":0}}],\"center\":[{\"type\":\"object\",\"name\":\"Grid\",\"id\":\"p1117\",\"attributes\":{\"axis\":{\"id\":\"p1113\"},\"grid_line_color\":\"#E0E0E0\",\"grid_line_alpha\":0.25}},{\"type\":\"object\",\"name\":\"Grid\",\"id\":\"p1122\",\"attributes\":{\"dimension\":1,\"axis\":{\"id\":\"p1118\"},\"grid_line_color\":\"#E0E0E0\",\"grid_line_alpha\":0.25}}],\"background_fill_color\":\"#20262B\",\"border_fill_color\":\"#15191C\"}}]}};\n",
       "  const render_items = [{\"docid\":\"b7a41707-4a94-4e00-a28e-50d2a79cd226\",\"roots\":{\"p1099\":\"de1be112-edad-4b10-9409-bf5408071543\"},\"root_ids\":[\"p1099\"]}];\n",
       "  root.Bokeh.embed.embed_items_notebook(docs_json, render_items);\n",
       "  }\n",
       "  if (root.Bokeh !== undefined) {\n",
       "    embed_document(root);\n",
       "  } else {\n",
       "    let attempts = 0;\n",
       "    const timer = setInterval(function(root) {\n",
       "      if (root.Bokeh !== undefined) {\n",
       "        clearInterval(timer);\n",
       "        embed_document(root);\n",
       "      } else {\n",
       "        attempts++;\n",
       "        if (attempts > 100) {\n",
       "          clearInterval(timer);\n",
       "          console.log(\"Bokeh: ERROR: Unable to run BokehJS code because BokehJS library is missing\");\n",
       "        }\n",
       "      }\n",
       "    }, 10, root)\n",
       "  }\n",
       "})(window);"
      ],
      "application/vnd.bokehjs_exec.v0+json": ""
     },
     "metadata": {
      "application/vnd.bokehjs_exec.v0+json": {
       "id": "p1099"
      }
     },
     "output_type": "display_data"
    }
   ],
   "source": [
    "# Initialize an electron at the center of the 1D chain with a gaussian distribution to indicates its probability density\n",
    "dist0 = figure(height = 400, width = 700, title='Envelope function in k space', x_range = [-1.1*k0*M/np.pi,1.1*k0*M/np.pi], y_range= [1.2*energy.min(),1.2*energy.max()]);\n",
    "source3 = ColumnDataSource(data = {'xVal': kk/np.pi, 'yVal': phi_k0/phi_k0.max()});\n",
    "dist0.line('xVal','yVal', source = source3, line_color = 'red');\n",
    "dist0.circle('xVal','yVal',source = source2, size = 6, line_color = 'black', fill_color = 'black');\n",
    "dist0.xaxis.axis_label='k ( \\u03c0 / a )';\n",
    "dist0.yaxis.axis_label='g(k)';\n",
    "show(dist0)"
   ]
  },
  {
   "cell_type": "markdown",
   "metadata": {},
   "source": [
    "## Wavepacket at t = 0\n",
    "Below, we built the Hamiltonian of our N-site chain with periodic boundary conditions and define the wavepacket at initial time $t = 0$. Assuming $t = 0$ in expression (6.3) \n",
    "\n",
    "$$ \\psi(r,t) = \\sum_k g(k) \\psi_k(r) e^{\\left[ -\\frac{i}{\\hbar}E(k)t \\right]}$$\n",
    "\n",
    "gives simply\n",
    "\n",
    "$$ \\psi(r,t) = \\sum_k g(k) e^{ika}$$"
   ]
  },
  {
   "cell_type": "code",
   "execution_count": 7,
   "metadata": {},
   "outputs": [],
   "source": [
    "# Now, let's construct the Hamiltonian matrix for our atomic chain. \n",
    "# This matrix describes the system's total energy in terms of kinetic and potential energy.\n",
    "# We also define the initial wavepacket at time t = 0.\n",
    "\n",
    "\n",
    "# Construct hamiltonian using occupation number basis and set initial wavefunction\n",
    "asd = np.zeros((N-1,N-1),complex);\n",
    "np.fill_diagonal(asd,-1);\n",
    "b = np.append(asd,np.zeros((N-1,1),complex), axis = 1);\n",
    "c = np.append(np.zeros((1,N),complex),b,axis = 0);\n",
    "hamil = c + np.transpose(c);\n",
    "np.fill_diagonal(hamil,0);\n",
    "psi0 = np.zeros((N,1),complex);\n",
    "rho0 = np.zeros((N,1), float);\n",
    "\n",
    "phi_k0 = 1/(np.sqrt(2*np.pi)*sigm)*np.exp(-1/2*( (k-kk0)/sigm )**2); # Calculate the initial wavefunction using really k points ('k' instead of 'kk').\n",
    "for nn in range(0,psi0.size):\n",
    "    psi_temp = 0.0;\n",
    "    for kn in range(k.size):\n",
    "        psi_temp = psi_temp + phi_k0[kn]*np.exp(1j*(k[kn]*(nn-M)*a));\n",
    "    psi0[nn] = psi_temp;\n",
    "    rho0[nn] = np.abs(psi0[nn]);\n",
    "\n",
    "hamil[N-1][0] = -1; #Apply periodic boundry condition\n",
    "hamil[0][N-1] = -1;"
   ]
  },
  {
   "cell_type": "markdown",
   "metadata": {},
   "source": [
    "## Time evolution operator\n",
    "We will now propagate our wavepacket in time by acting on it with the time evolution operator\n",
    "\n",
    "$$ \\psi(r,t) = e^{-iHt/\\hbar} \\psi(r,t=0)$$\n",
    "\n",
    "For numerical reasons, we will approximate this operator its first-order Taylor expansion $1-iHdt/\\hbar$ assuming a small timestep $dt$ . "
   ]
  },
  {
   "cell_type": "code",
   "execution_count": 8,
   "metadata": {},
   "outputs": [],
   "source": [
    "# Now, let's construct the Hamiltonian matrix for our atomic chain. \n",
    "# This matrix describes the system's total energy in terms of kinetic and potential energy.\n",
    "# We also define the initial wavepacket at time t = 0.\n",
    "\n",
    "\n",
    "# Define time evolution operator\n",
    "dt = 0.1; # Define time step (has to be small if using asymptotic exponential for evolution operator)\n",
    "endt = 5000;\n",
    "\n",
    "# Option 1: Use first order Taylor expansion to approximate the evolution operator\n",
    "diaganol = np.ones(N);\n",
    "evol = np.diag(diaganol)-1.j*hamil*dt; # first order Taylor expansion\n",
    "\n",
    "## Option 2: Use Pade approximation in scipy package to approximate the evolution operator\n",
    "# evol = expm(1.j*hamil*dt);\n",
    "\n",
    "ts = np.arange(0,endt*dt,dt);\n",
    "psis = np.empty(ts.size,dtype = object); # Initiate a container for the wavefunctions at different time slice\n",
    "phis = np.empty(ts.size,dtype = object); # Initiate a container for the phase at different time slice\n",
    "rhos = np.empty(ts.size,dtype = object); # Initiate a container for the probability density at different time slice\n",
    "psis[0]=psi0;\n",
    "for ii in range(0,ts.size-1):\n",
    "    psis[ii+1] = np.dot(evol,psis[ii]);\n",
    "for ii in range(0,ts.size-1):\n",
    "    phis[ii] = np.angle((psis[ii]));\n",
    "    rhos[ii] = np.abs(psis[ii]);"
   ]
  },
  {
   "cell_type": "markdown",
   "metadata": {},
   "source": [
    "## Simulations\n",
    "\n",
    "We will now perform simulations using the framework we defined above. The static image below shows the probability density of the wavepacket, while its phase is colorcoded in the lattice sites.\n",
    "\n",
    "You can now advance time using the slider below. Have fun! "
   ]
  },
  {
   "cell_type": "code",
   "execution_count": 9,
   "metadata": {},
   "outputs": [
    {
     "data": {
      "text/html": [
       "\n",
       "  <div id=\"ac9be886-4cce-42d2-ac80-783e8ea49445\" data-root-id=\"p1155\" style=\"display: contents;\"></div>\n"
      ]
     },
     "metadata": {},
     "output_type": "display_data"
    },
    {
     "data": {
      "application/javascript": [
       "(function(root) {\n",
       "  function embed_document(root) {\n",
       "  const docs_json = {\"40e08535-9ee9-4431-ba63-830410f4406a\":{\"version\":\"3.2.0\",\"title\":\"Bokeh Application\",\"roots\":[{\"type\":\"object\",\"name\":\"Figure\",\"id\":\"p1155\",\"attributes\":{\"width\":700,\"height\":300,\"x_range\":{\"type\":\"object\",\"name\":\"Range1d\",\"id\":\"p1165\",\"attributes\":{\"start\":-27.500000000000004,\"end\":27.500000000000004}},\"y_range\":{\"type\":\"object\",\"name\":\"DataRange1d\",\"id\":\"p1157\"},\"x_scale\":{\"type\":\"object\",\"name\":\"LinearScale\",\"id\":\"p1166\"},\"y_scale\":{\"type\":\"object\",\"name\":\"LinearScale\",\"id\":\"p1167\"},\"title\":{\"type\":\"object\",\"name\":\"Title\",\"id\":\"p1158\",\"attributes\":{\"text\":\"Wavepacket\",\"text_color\":\"#E0E0E0\",\"text_font\":\"Helvetica\",\"text_font_size\":\"1.15em\"}},\"outline_line_color\":\"#E0E0E0\",\"outline_line_alpha\":0.25,\"renderers\":[{\"type\":\"object\",\"name\":\"GlyphRenderer\",\"id\":\"p1198\",\"attributes\":{\"data_source\":{\"type\":\"object\",\"name\":\"ColumnDataSource\",\"id\":\"p1185\",\"attributes\":{\"selected\":{\"type\":\"object\",\"name\":\"Selection\",\"id\":\"p1186\",\"attributes\":{\"indices\":[],\"line_indices\":[]}},\"selection_policy\":{\"type\":\"object\",\"name\":\"UnionRenderers\",\"id\":\"p1187\"},\"data\":{\"type\":\"map\",\"entries\":[[\"xVal\",{\"type\":\"ndarray\",\"array\":{\"type\":\"bytes\",\"data\":\"AAAAAAAAOcAAAAAAAAA4wAAAAAAAADfAAAAAAAAANsAAAAAAAAA1wAAAAAAAADTAAAAAAAAAM8AAAAAAAAAywAAAAAAAADHAAAAAAAAAMMAAAAAAAAAuwAAAAAAAACzAAAAAAAAAKsAAAAAAAAAowAAAAAAAACbAAAAAAAAAJMAAAAAAAAAiwAAAAAAAACDAAAAAAAAAHMAAAAAAAAAYwAAAAAAAABTAAAAAAAAAEMAAAAAAAAAIwAAAAAAAAADAAAAAAAAA8L8AAAAAAAAAAAAAAAAAAPA/AAAAAAAAAEAAAAAAAAAIQAAAAAAAABBAAAAAAAAAFEAAAAAAAAAYQAAAAAAAABxAAAAAAAAAIEAAAAAAAAAiQAAAAAAAACRAAAAAAAAAJkAAAAAAAAAoQAAAAAAAACpAAAAAAAAALEAAAAAAAAAuQAAAAAAAADBAAAAAAAAAMUAAAAAAAAAyQAAAAAAAADNAAAAAAAAANEAAAAAAAAA1QAAAAAAAADZAAAAAAAAAN0AAAAAAAAA4QA==\"},\"shape\":[50],\"dtype\":\"float64\",\"order\":\"little\"}],[\"yVal\",{\"type\":\"ndarray\",\"array\":{\"type\":\"bytes\",\"data\":\"AAAAAAAAAAAAAAAAAAAAAAAAAAAAAAAAAAAAAAAAAAAAAAAAAAAAAAAAAAAAAAAAAAAAAAAAAAAAAAAAAAAAAAAAAAAAAAAAAAAAAAAAAAAAAAAAAAAAAAAAAAAAAAAAAAAAAAAAAAAAAAAAAAAAAAAAAAAAAAAAAAAAAAAAAAAAAAAAAAAAAAAAAAAAAAAAAAAAAAAAAAAAAAAAAAAAAAAAAAAAAAAAAAAAAAAAAAAAAAAAAAAAAAAAAAAAAAAAAAAAAAAAAAAAAAAAAAAAAAAAAAAAAAAAAAAAAAAAAAAAAAAAAAAAAAAAAAAAAAAAAAAAAAAAAAAAAAAAAAAAAAAAAAAAAAAAAAAAAAAAAAAAAAAAAAAAAAAAAAAAAAAAAAAAAAAAAAAAAAAAAAAAAAAAAAAAAAAAAAAAAAAAAAAAAAAAAAAAAAAAAAAAAAAAAAAAAAAAAAAAAAAAAAAAAAAAAAAAAAAAAAAAAAAAAAAAAAAAAAAAAAAAAAAAAAAAAAAAAAAAAAAAAAAAAAAAAA==\"},\"shape\":[50],\"dtype\":\"float64\",\"order\":\"little\"}],[\"cVal\",{\"type\":\"ndarray\",\"array\":{\"type\":\"bytes\",\"data\":\"5gBihH4/sz0U77H3hfEIQA62tjUPH6i/PLBAplaSCEBXUqjIeq+3v6/uk7xwOAhASNrnAkE1wb/B++NWq+cHQECF/jJ+4cW/L8QQesyhB0DH4cidIPjIv9i/QIxmBwhAn/NDcqNC2r/6sCZHidfwP8vlzNyWxwFAxDVMqvkwBMBeZAxxswrwv5aCYhcBHOA/X4uyABAVAECLKmTFFR4GwGd+3krlGvS/6urqaAEW0D/hL0m/9CX8Py7xhTmhIAjAJcsMeo8g+L8AAAAAAAAAACXLDHqPIPg/LvGFOaEgCEDhL0m/9CX8v+rq6mgBFtC/Z37eSuUa9D+LKmTFFR4GQF+LsgAQFQDAloJiFwEc4L9eZAxxswrwP8Q1TKr5MARAy+XM3JbHAcD6sCZHidfwv5/zQ3KjQto/2L9AjGYHCMDH4cidIPjIPy/EEHrMoQfAQIX+Mn7hxT/B++NWq+cHwEja5wJBNcE/r+6TvHA4CMBXUqjIeq+3PzywQKZWkgjADra2NQ8fqD8U77H3hfEIwA==\"},\"shape\":[50],\"dtype\":\"float64\",\"order\":\"little\"}]]}}},\"view\":{\"type\":\"object\",\"name\":\"CDSView\",\"id\":\"p1199\",\"attributes\":{\"filter\":{\"type\":\"object\",\"name\":\"AllIndices\",\"id\":\"p1200\"}}},\"glyph\":{\"type\":\"object\",\"name\":\"Circle\",\"id\":\"p1195\",\"attributes\":{\"x\":{\"type\":\"field\",\"field\":\"xVal\"},\"y\":{\"type\":\"field\",\"field\":\"yVal\"},\"size\":{\"type\":\"value\",\"value\":6},\"line_color\":{\"type\":\"field\",\"field\":\"cVal\",\"transform\":{\"type\":\"object\",\"name\":\"LinearColorMapper\",\"id\":\"p1191\",\"attributes\":{\"palette\":[\"#313695\",\"#4575b4\",\"#74add1\",\"#abd9e9\",\"#e0f3f8\",\"#ffffbf\",\"#fee090\",\"#fdae61\",\"#f46d43\",\"#d73027\",\"#a50026\"],\"low\":-3.1179313040901295,\"high\":3.1179313040901295}}},\"fill_color\":{\"type\":\"field\",\"field\":\"cVal\",\"transform\":{\"id\":\"p1191\"}}}},\"nonselection_glyph\":{\"type\":\"object\",\"name\":\"Circle\",\"id\":\"p1196\",\"attributes\":{\"x\":{\"type\":\"field\",\"field\":\"xVal\"},\"y\":{\"type\":\"field\",\"field\":\"yVal\"},\"size\":{\"type\":\"value\",\"value\":6},\"line_color\":{\"type\":\"field\",\"field\":\"cVal\",\"transform\":{\"id\":\"p1191\"}},\"line_alpha\":{\"type\":\"value\",\"value\":0.1},\"fill_color\":{\"type\":\"field\",\"field\":\"cVal\",\"transform\":{\"id\":\"p1191\"}},\"fill_alpha\":{\"type\":\"value\",\"value\":0.1},\"hatch_alpha\":{\"type\":\"value\",\"value\":0.1}}},\"muted_glyph\":{\"type\":\"object\",\"name\":\"Circle\",\"id\":\"p1197\",\"attributes\":{\"x\":{\"type\":\"field\",\"field\":\"xVal\"},\"y\":{\"type\":\"field\",\"field\":\"yVal\"},\"size\":{\"type\":\"value\",\"value\":6},\"line_color\":{\"type\":\"field\",\"field\":\"cVal\",\"transform\":{\"id\":\"p1191\"}},\"line_alpha\":{\"type\":\"value\",\"value\":0.2},\"fill_color\":{\"type\":\"field\",\"field\":\"cVal\",\"transform\":{\"id\":\"p1191\"}},\"fill_alpha\":{\"type\":\"value\",\"value\":0.2},\"hatch_alpha\":{\"type\":\"value\",\"value\":0.2}}}}},{\"type\":\"object\",\"name\":\"GlyphRenderer\",\"id\":\"p1207\",\"attributes\":{\"data_source\":{\"type\":\"object\",\"name\":\"ColumnDataSource\",\"id\":\"p1188\",\"attributes\":{\"selected\":{\"type\":\"object\",\"name\":\"Selection\",\"id\":\"p1189\",\"attributes\":{\"indices\":[],\"line_indices\":[]}},\"selection_policy\":{\"type\":\"object\",\"name\":\"UnionRenderers\",\"id\":\"p1190\"},\"data\":{\"type\":\"map\",\"entries\":[[\"xVal_s\",{\"type\":\"ndarray\",\"array\":{\"type\":\"bytes\",\"data\":\"AAAAAAAAOcBirLb+9sA4wMRYbf3tgTjAJQUk/ORCOMCHsdr62wM4wOldkfnSxDfASwpI+MmFN8Cstv72wEY3wA5jtfW3BzfAcA9s9K7INsDSuyLzpYk2wDNo2fGcSjbAlRSQ8JMLNsD3wEbvisw1wFlt/e2BjTXAuhm07HhONcAcxmrrbw81wH5yIepm0DTA4B7Y6F2RNMBCy47nVFI0wKN3ReZLEzTABST85ELUM8Bn0LLjOZUzwMh8aeIwVjPAKikg4ScXM8CM1dbfHtgywO6Bjd4VmTLAUC5E3QxaMsCy2vrbAxsywBOHsdr62zHAdTNo2fGcMcDX3x7Y6F0xwDiM1dbfHjHAmjiM1dbfMMD85ELUzaAwwF6R+dLEYTDAwD2w0bsiMMBD1M2gZccvwAYtO55TSS/AyoWom0HLLsCN3hWZL00uwFE3g5Ydzy3AFJDwkwtRLcDY6F2R+dIswJtBy47nVCzAX5o4jNXWK8Ai86WJw1grwOZLE4ex2irAqqSAhJ9cKsBt/e2Bjd4pwDFWW397YCnA9K7IfGniKMC4BzZ6V2QowHtgo3dF5ifAP7kQdTNoJ8ACEn5yIeomwMZq628PbCbAicNYbf3tJcBNHMZq628lwBB1M2jZ8STA1M2gZcdzJMCXJg5jtfUjwFt/e2CjdyPAHtjoXZH5IsDiMFZbf3siwKaJw1ht/SHAauIwVlt/IcAsO55TSQEhwPCTC1E3gyDAtOx4TiUFIMDwisyXJg4fwHQ8p5ICEh7A/O2Bjd4VHcCEn1yIuhkcwAxRN4OWHRvAkAISfnIhGsAYtOx4TiUZwKBlx3MqKRjAKBeibgYtF8CsyHxp4jAWwDR6V2S+NBXAvCsyX5o4FMBE3QxadjwTwMyO51RSQBLAUEDCTy5EEcDY8ZxKCkgQwMBG74rMlw7A0KmkgISfDMDYDFp2PKcKwOhvD2z0rgjA+NLEYay2BsAINnpXZL4EwBCZL00cxgLAIPzkQtTNAMBgvjRxGKv9v4CEn1yIuvm/oEoKSPjJ9b+wEHUzaNnxv6Ctvz2w0eu/4DmVFJDw479AjNXW3x7YvwBJAQk/ucC/AAxRN4OWvT+AKikg4SfXPwAJP7kQdeM/4Hxp4jBW6z9Q+MmFqJvxPzAyX5o4jPU/EGz0rsh8+T8AponDWG39P/BvD2z0rgBA4AxadjynAkDQqaSAhJ8EQMBG74rMlwZAuOM5lRSQCECogISfXIgKQJgdz6mkgAxAiLoZtOx4DkDAKzJfmjgQQDh6V2S+NBFAsMh8aeIwEkAoF6JuBi0TQKRlx3MqKRRAHLTseE4lFUCUAhJ+ciEWQAxRN4OWHRdAiJ9ciLoZGEAA7oGN3hUZQHg8p5ICEhpA8IrMlyYOG0Bo2fGcSgocQOAnF6JuBh1AWHY8p5ICHkDYxGGstv4eQFATh7Ha+h9A5DBWW397IEAg2OhdkfkgQFx/e2CjdyFAmCYOY7X1IUDUzaBlx3MiQBB1M2jZ8SJAUBzGautvI0CMw1ht/e0jQMhq628PbCRABBJ+ciHqJEBAuRB1M2glQHxgo3dF5iVAuAc2eldkJkD0rsh8aeImQDBWW397YCdAcP3tgY3eJ0CspICEn1woQOhLE4ex2ihAJPOlicNYKUBgmjiM1dYpQJxBy47nVCpA2OhdkfnSKkAUkPCTC1ErQFQ3g5YdzytAkN4VmS9NLEDMhaibQcssQAgtO55TSS1ARNTNoGXHLUCAe2Cjd0UuQLwi86WJwy5A+MmFqJtBL0A0cRirrb8vQDqM1dbfHjBA2N8e2OhdMEB2M2jZ8ZwwQBSHsdr62zBAstr62wMbMUBQLkTdDFoxQO6Bjd4VmTFAjNXW3x7YMUAsKSDhJxcyQMp8aeIwVjJAaNCy4zmVMkAGJPzkQtQyQKR3ReZLEzNAQsuO51RSM0DgHtjoXZEzQH5yIepm0DNAHMZq628PNEC8GbTseE40QFpt/e2BjTRA+MBG74rMNECWFJDwkws1QDRo2fGcSjVA0rsi86WJNUBwD2z0rsg1QA5jtfW3BzZArLb+9sBGNkBMCkj4yYU2QOpdkfnSxDZAiLHa+tsDN0AmBST85EI3QMRYbf3tgTdAYqy2/vbAN0AAAAAAAAA4QA==\"},\"shape\":[200],\"dtype\":\"float64\",\"order\":\"little\"}],[\"yVal_s\",{\"type\":\"ndarray\",\"array\":{\"type\":\"bytes\",\"data\":\"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\"},\"shape\":[200],\"dtype\":\"float64\",\"order\":\"little\"}]]}}},\"view\":{\"type\":\"object\",\"name\":\"CDSView\",\"id\":\"p1208\",\"attributes\":{\"filter\":{\"type\":\"object\",\"name\":\"AllIndices\",\"id\":\"p1209\"}}},\"glyph\":{\"type\":\"object\",\"name\":\"Line\",\"id\":\"p1204\",\"attributes\":{\"x\":{\"type\":\"field\",\"field\":\"xVal_s\"},\"y\":{\"type\":\"field\",\"field\":\"yVal_s\"},\"line_color\":\"red\"}},\"nonselection_glyph\":{\"type\":\"object\",\"name\":\"Line\",\"id\":\"p1205\",\"attributes\":{\"x\":{\"type\":\"field\",\"field\":\"xVal_s\"},\"y\":{\"type\":\"field\",\"field\":\"yVal_s\"},\"line_color\":\"red\",\"line_alpha\":0.1}},\"muted_glyph\":{\"type\":\"object\",\"name\":\"Line\",\"id\":\"p1206\",\"attributes\":{\"x\":{\"type\":\"field\",\"field\":\"xVal_s\"},\"y\":{\"type\":\"field\",\"field\":\"yVal_s\"},\"line_color\":\"red\",\"line_alpha\":0.2}}}}],\"toolbar\":{\"type\":\"object\",\"name\":\"Toolbar\",\"id\":\"p1164\",\"attributes\":{\"tools\":[{\"type\":\"object\",\"name\":\"PanTool\",\"id\":\"p1178\"},{\"type\":\"object\",\"name\":\"WheelZoomTool\",\"id\":\"p1179\"},{\"type\":\"object\",\"name\":\"BoxZoomTool\",\"id\":\"p1180\",\"attributes\":{\"overlay\":{\"type\":\"object\",\"name\":\"BoxAnnotation\",\"id\":\"p1181\",\"attributes\":{\"syncable\":false,\"level\":\"overlay\",\"visible\":false,\"left_units\":\"canvas\",\"right_units\":\"canvas\",\"bottom_units\":\"canvas\",\"top_units\":\"canvas\",\"line_color\":\"black\",\"line_alpha\":1.0,\"line_width\":2,\"line_dash\":[4,4],\"fill_color\":\"lightgrey\",\"fill_alpha\":0.5}}}},{\"type\":\"object\",\"name\":\"SaveTool\",\"id\":\"p1182\"},{\"type\":\"object\",\"name\":\"ResetTool\",\"id\":\"p1183\"},{\"type\":\"object\",\"name\":\"HelpTool\",\"id\":\"p1184\"}]}},\"left\":[{\"type\":\"object\",\"name\":\"LinearAxis\",\"id\":\"p1173\",\"attributes\":{\"ticker\":{\"type\":\"object\",\"name\":\"BasicTicker\",\"id\":\"p1174\",\"attributes\":{\"mantissas\":[1,2,5]}},\"formatter\":{\"type\":\"object\",\"name\":\"BasicTickFormatter\",\"id\":\"p1175\"},\"axis_label_standoff\":10,\"axis_label_text_color\":\"#E0E0E0\",\"axis_label_text_font\":\"Helvetica\",\"axis_label_text_font_size\":\"1.25em\",\"axis_label_text_font_style\":\"normal\",\"major_label_policy\":{\"type\":\"object\",\"name\":\"AllLabels\",\"id\":\"p1176\"},\"major_label_text_color\":\"#E0E0E0\",\"major_label_text_font\":\"Helvetica\",\"major_label_text_font_size\":\"1.025em\",\"axis_line_color\":\"#E0E0E0\",\"axis_line_alpha\":0,\"major_tick_line_color\":\"#E0E0E0\",\"major_tick_line_alpha\":0,\"minor_tick_line_color\":\"#E0E0E0\",\"minor_tick_line_alpha\":0}}],\"below\":[{\"type\":\"object\",\"name\":\"LinearAxis\",\"id\":\"p1168\",\"attributes\":{\"ticker\":{\"type\":\"object\",\"name\":\"BasicTicker\",\"id\":\"p1169\",\"attributes\":{\"mantissas\":[1,2,5]}},\"formatter\":{\"type\":\"object\",\"name\":\"BasicTickFormatter\",\"id\":\"p1170\"},\"axis_label_standoff\":10,\"axis_label_text_color\":\"#E0E0E0\",\"axis_label_text_font\":\"Helvetica\",\"axis_label_text_font_size\":\"1.25em\",\"axis_label_text_font_style\":\"normal\",\"major_label_policy\":{\"type\":\"object\",\"name\":\"AllLabels\",\"id\":\"p1171\"},\"major_label_text_color\":\"#E0E0E0\",\"major_label_text_font\":\"Helvetica\",\"major_label_text_font_size\":\"1.025em\",\"axis_line_color\":\"#E0E0E0\",\"axis_line_alpha\":0,\"major_tick_line_color\":\"#E0E0E0\",\"major_tick_line_alpha\":0,\"minor_tick_line_color\":\"#E0E0E0\",\"minor_tick_line_alpha\":0}},{\"type\":\"object\",\"name\":\"ColorBar\",\"id\":\"p1210\",\"attributes\":{\"location\":[150,0],\"orientation\":\"horizontal\",\"width\":300,\"title_text_color\":\"#E0E0E0\",\"title_text_font\":\"Helvetica\",\"title_text_font_size\":\"1.025em\",\"title_text_font_style\":\"normal\",\"major_label_policy\":{\"type\":\"object\",\"name\":\"NoOverlap\",\"id\":\"p1211\"},\"major_label_text_color\":\"#E0E0E0\",\"major_label_text_font\":\"Helvetica\",\"major_label_text_font_size\":\"1.025em\",\"major_tick_line_alpha\":0,\"bar_line_alpha\":0,\"background_fill_color\":\"#15191C\",\"color_mapper\":{\"id\":\"p1191\"}}}],\"center\":[{\"type\":\"object\",\"name\":\"Grid\",\"id\":\"p1172\",\"attributes\":{\"axis\":{\"id\":\"p1168\"},\"grid_line_color\":\"#E0E0E0\",\"grid_line_alpha\":0.25}},{\"type\":\"object\",\"name\":\"Grid\",\"id\":\"p1177\",\"attributes\":{\"dimension\":1,\"axis\":{\"id\":\"p1173\"},\"grid_line_color\":\"#E0E0E0\",\"grid_line_alpha\":0.25}}],\"background_fill_color\":\"#20262B\",\"border_fill_color\":\"#15191C\"}}]}};\n",
       "  const render_items = [{\"docid\":\"40e08535-9ee9-4431-ba63-830410f4406a\",\"roots\":{\"p1155\":\"ac9be886-4cce-42d2-ac80-783e8ea49445\"},\"root_ids\":[\"p1155\"]}];\n",
       "  root.Bokeh.embed.embed_items_notebook(docs_json, render_items);\n",
       "  }\n",
       "  if (root.Bokeh !== undefined) {\n",
       "    embed_document(root);\n",
       "  } else {\n",
       "    let attempts = 0;\n",
       "    const timer = setInterval(function(root) {\n",
       "      if (root.Bokeh !== undefined) {\n",
       "        clearInterval(timer);\n",
       "        embed_document(root);\n",
       "      } else {\n",
       "        attempts++;\n",
       "        if (attempts > 100) {\n",
       "          clearInterval(timer);\n",
       "          console.log(\"Bokeh: ERROR: Unable to run BokehJS code because BokehJS library is missing\");\n",
       "        }\n",
       "      }\n",
       "    }, 10, root)\n",
       "  }\n",
       "})(window);"
      ],
      "application/vnd.bokehjs_exec.v0+json": ""
     },
     "metadata": {
      "application/vnd.bokehjs_exec.v0+json": {
       "id": "p1155"
      }
     },
     "output_type": "display_data"
    }
   ],
   "source": [
    "# Finally, we are ready to run our simulations. \n",
    "# We will calculate and store the phase and the probability density of the wavepacket at each time step. \n",
    "# We can then visualize these quantities.\n",
    "\n",
    "\n",
    "# Plot the phase of the wavefunction at time = t*dt\n",
    "t = 0;\n",
    "phi_t = np.squeeze(phis[t]);\n",
    "rho_t = interp1d(lattx,np.squeeze(rhos[t]), kind = 'cubic');\n",
    "wavefunc_t = figure(height=300, width=700, title=\"Wavepacket\",x_range=[-1.1*a*M,1.1*a*M]);\n",
    "source4 = ColumnDataSource(data = {'xVal': lattx, 'yVal' : latty, 'cVal': phi_t});\n",
    "lattx_smooth = np.linspace(-a*M,a*(M-1),num = 200, endpoint = True);\n",
    "source5 = ColumnDataSource(data = {'xVal_s': lattx_smooth, 'yVal_s': rho_t(lattx_smooth)/rho_t(lattx_smooth).max()});\n",
    "\n",
    "#phis_smooth = np.empty(ts.size,dtype = object); # Initiate a container for the phase at different time slice\n",
    "#for ii in range(0,ts.size-1): # Option 1: use smoothed curve to show phase variation\n",
    "#    phis_smooth[ii] = interp1d(lattx,np.squeeze(phis[ii]), kind = 'cubic');\n",
    "#wavefunc_t.line('xVal','yVal', source = source4); \n",
    "\n",
    "mapper = linear_cmap(field_name = 'cVal', palette = RdYlBu11, low = min(phi_t), high = max(phi_t));\n",
    "wavefunc_t.circle('xVal','yVal',source = source4, size = 6, line_color = mapper, fill_color = mapper);\n",
    "wavefunc_t.line('xVal_s','yVal_s',source = source5, line_color = 'red');\n",
    "color_bar = ColorBar(color_mapper = mapper['transform'], width = 300, location = (150,0), orientation = \"horizontal\");\n",
    "wavefunc_t.add_layout(color_bar, 'below');\n",
    "show(wavefunc_t)"
   ]
  },
  {
   "cell_type": "code",
   "execution_count": 10,
   "metadata": {},
   "outputs": [],
   "source": [
    "# Now, we define an update function that will be used to update our simulation at each time step.\n",
    "# This function is called each time the user moves the slider, allowing us to see the wavepacket evolution over time.\n",
    "\n",
    "\n",
    "def update(time):\n",
    "    time = int(time/dt);\n",
    "    rho_t = interp1d(lattx,np.squeeze(rhos[time]), kind = 'cubic');\n",
    "    source4.data['cVal'] = np.squeeze(phis[time]);\n",
    "    source5.data['yVal_s'] = rho_t(lattx_smooth)/rho_t(lattx_smooth).max();\n",
    "    \n",
    "    push_notebook()"
   ]
  },
  {
   "cell_type": "code",
   "execution_count": 11,
   "metadata": {},
   "outputs": [
    {
     "data": {
      "text/html": [
       "\n",
       "  <div id=\"fc41b466-0c4c-46d0-9bd9-152c1927730f\" data-root-id=\"p1155\" style=\"display: contents;\"></div>\n"
      ]
     },
     "metadata": {},
     "output_type": "display_data"
    },
    {
     "data": {
      "application/javascript": [
       "(function(root) {\n",
       "  function embed_document(root) {\n",
       "  const docs_json = {\"8f18615a-4405-4df6-a7f3-f7508e8db68b\":{\"version\":\"3.2.0\",\"title\":\"Bokeh Application\",\"roots\":[{\"type\":\"object\",\"name\":\"Figure\",\"id\":\"p1155\",\"attributes\":{\"width\":700,\"height\":300,\"x_range\":{\"type\":\"object\",\"name\":\"Range1d\",\"id\":\"p1165\",\"attributes\":{\"start\":-27.500000000000004,\"end\":27.500000000000004}},\"y_range\":{\"type\":\"object\",\"name\":\"DataRange1d\",\"id\":\"p1157\"},\"x_scale\":{\"type\":\"object\",\"name\":\"LinearScale\",\"id\":\"p1166\"},\"y_scale\":{\"type\":\"object\",\"name\":\"LinearScale\",\"id\":\"p1167\"},\"title\":{\"type\":\"object\",\"name\":\"Title\",\"id\":\"p1158\",\"attributes\":{\"text\":\"Wavepacket\",\"text_color\":\"#E0E0E0\",\"text_font\":\"Helvetica\",\"text_font_size\":\"1.15em\"}},\"outline_line_color\":\"#E0E0E0\",\"outline_line_alpha\":0.25,\"renderers\":[{\"type\":\"object\",\"name\":\"GlyphRenderer\",\"id\":\"p1198\",\"attributes\":{\"data_source\":{\"type\":\"object\",\"name\":\"ColumnDataSource\",\"id\":\"p1185\",\"attributes\":{\"selected\":{\"type\":\"object\",\"name\":\"Selection\",\"id\":\"p1186\",\"attributes\":{\"indices\":[],\"line_indices\":[]}},\"selection_policy\":{\"type\":\"object\",\"name\":\"UnionRenderers\",\"id\":\"p1187\"},\"data\":{\"type\":\"map\",\"entries\":[[\"xVal\",{\"type\":\"ndarray\",\"array\":{\"type\":\"bytes\",\"data\":\"AAAAAAAAOcAAAAAAAAA4wAAAAAAAADfAAAAAAAAANsAAAAAAAAA1wAAAAAAAADTAAAAAAAAAM8AAAAAAAAAywAAAAAAAADHAAAAAAAAAMMAAAAAAAAAuwAAAAAAAACzAAAAAAAAAKsAAAAAAAAAowAAAAAAAACbAAAAAAAAAJMAAAAAAAAAiwAAAAAAAACDAAAAAAAAAHMAAAAAAAAAYwAAAAAAAABTAAAAAAAAAEMAAAAAAAAAIwAAAAAAAAADAAAAAAAAA8L8AAAAAAAAAAAAAAAAAAPA/AAAAAAAAAEAAAAAAAAAIQAAAAAAAABBAAAAAAAAAFEAAAAAAAAAYQAAAAAAAABxAAAAAAAAAIEAAAAAAAAAiQAAAAAAAACRAAAAAAAAAJkAAAAAAAAAoQAAAAAAAACpAAAAAAAAALEAAAAAAAAAuQAAAAAAAADBAAAAAAAAAMUAAAAAAAAAyQAAAAAAAADNAAAAAAAAANEAAAAAAAAA1QAAAAAAAADZAAAAAAAAAN0AAAAAAAAA4QA==\"},\"shape\":[50],\"dtype\":\"float64\",\"order\":\"little\"}],[\"yVal\",{\"type\":\"ndarray\",\"array\":{\"type\":\"bytes\",\"data\":\"AAAAAAAAAAAAAAAAAAAAAAAAAAAAAAAAAAAAAAAAAAAAAAAAAAAAAAAAAAAAAAAAAAAAAAAAAAAAAAAAAAAAAAAAAAAAAAAAAAAAAAAAAAAAAAAAAAAAAAAAAAAAAAAAAAAAAAAAAAAAAAAAAAAAAAAAAAAAAAAAAAAAAAAAAAAAAAAAAAAAAAAAAAAAAAAAAAAAAAAAAAAAAAAAAAAAAAAAAAAAAAAAAAAAAAAAAAAAAAAAAAAAAAAAAAAAAAAAAAAAAAAAAAAAAAAAAAAAAAAAAAAAAAAAAAAAAAAAAAAAAAAAAAAAAAAAAAAAAAAAAAAAAAAAAAAAAAAAAAAAAAAAAAAAAAAAAAAAAAAAAAAAAAAAAAAAAAAAAAAAAAAAAAAAAAAAAAAAAAAAAAAAAAAAAAAAAAAAAAAAAAAAAAAAAAAAAAAAAAAAAAAAAAAAAAAAAAAAAAAAAAAAAAAAAAAAAAAAAAAAAAAAAAAAAAAAAAAAAAAAAAAAAAAAAAAAAAAAAAAAAAAAAAAAAAAAAA==\"},\"shape\":[50],\"dtype\":\"float64\",\"order\":\"little\"}],[\"cVal\",{\"type\":\"ndarray\",\"array\":{\"type\":\"bytes\",\"data\":\"5gBihH4/sz0U77H3hfEIQA62tjUPH6i/PLBAplaSCEBXUqjIeq+3v6/uk7xwOAhASNrnAkE1wb/B++NWq+cHQECF/jJ+4cW/L8QQesyhB0DH4cidIPjIv9i/QIxmBwhAn/NDcqNC2r/6sCZHidfwP8vlzNyWxwFAxDVMqvkwBMBeZAxxswrwv5aCYhcBHOA/X4uyABAVAECLKmTFFR4GwGd+3krlGvS/6urqaAEW0D/hL0m/9CX8Py7xhTmhIAjAJcsMeo8g+L8AAAAAAAAAACXLDHqPIPg/LvGFOaEgCEDhL0m/9CX8v+rq6mgBFtC/Z37eSuUa9D+LKmTFFR4GQF+LsgAQFQDAloJiFwEc4L9eZAxxswrwP8Q1TKr5MARAy+XM3JbHAcD6sCZHidfwv5/zQ3KjQto/2L9AjGYHCMDH4cidIPjIPy/EEHrMoQfAQIX+Mn7hxT/B++NWq+cHwEja5wJBNcE/r+6TvHA4CMBXUqjIeq+3PzywQKZWkgjADra2NQ8fqD8U77H3hfEIwA==\"},\"shape\":[50],\"dtype\":\"float64\",\"order\":\"little\"}]]}}},\"view\":{\"type\":\"object\",\"name\":\"CDSView\",\"id\":\"p1199\",\"attributes\":{\"filter\":{\"type\":\"object\",\"name\":\"AllIndices\",\"id\":\"p1200\"}}},\"glyph\":{\"type\":\"object\",\"name\":\"Circle\",\"id\":\"p1195\",\"attributes\":{\"x\":{\"type\":\"field\",\"field\":\"xVal\"},\"y\":{\"type\":\"field\",\"field\":\"yVal\"},\"size\":{\"type\":\"value\",\"value\":6},\"line_color\":{\"type\":\"field\",\"field\":\"cVal\",\"transform\":{\"type\":\"object\",\"name\":\"LinearColorMapper\",\"id\":\"p1191\",\"attributes\":{\"palette\":[\"#313695\",\"#4575b4\",\"#74add1\",\"#abd9e9\",\"#e0f3f8\",\"#ffffbf\",\"#fee090\",\"#fdae61\",\"#f46d43\",\"#d73027\",\"#a50026\"],\"low\":-3.1179313040901295,\"high\":3.1179313040901295}}},\"fill_color\":{\"type\":\"field\",\"field\":\"cVal\",\"transform\":{\"id\":\"p1191\"}}}},\"nonselection_glyph\":{\"type\":\"object\",\"name\":\"Circle\",\"id\":\"p1196\",\"attributes\":{\"x\":{\"type\":\"field\",\"field\":\"xVal\"},\"y\":{\"type\":\"field\",\"field\":\"yVal\"},\"size\":{\"type\":\"value\",\"value\":6},\"line_color\":{\"type\":\"field\",\"field\":\"cVal\",\"transform\":{\"id\":\"p1191\"}},\"line_alpha\":{\"type\":\"value\",\"value\":0.1},\"fill_color\":{\"type\":\"field\",\"field\":\"cVal\",\"transform\":{\"id\":\"p1191\"}},\"fill_alpha\":{\"type\":\"value\",\"value\":0.1},\"hatch_alpha\":{\"type\":\"value\",\"value\":0.1}}},\"muted_glyph\":{\"type\":\"object\",\"name\":\"Circle\",\"id\":\"p1197\",\"attributes\":{\"x\":{\"type\":\"field\",\"field\":\"xVal\"},\"y\":{\"type\":\"field\",\"field\":\"yVal\"},\"size\":{\"type\":\"value\",\"value\":6},\"line_color\":{\"type\":\"field\",\"field\":\"cVal\",\"transform\":{\"id\":\"p1191\"}},\"line_alpha\":{\"type\":\"value\",\"value\":0.2},\"fill_color\":{\"type\":\"field\",\"field\":\"cVal\",\"transform\":{\"id\":\"p1191\"}},\"fill_alpha\":{\"type\":\"value\",\"value\":0.2},\"hatch_alpha\":{\"type\":\"value\",\"value\":0.2}}}}},{\"type\":\"object\",\"name\":\"GlyphRenderer\",\"id\":\"p1207\",\"attributes\":{\"data_source\":{\"type\":\"object\",\"name\":\"ColumnDataSource\",\"id\":\"p1188\",\"attributes\":{\"selected\":{\"type\":\"object\",\"name\":\"Selection\",\"id\":\"p1189\",\"attributes\":{\"indices\":[],\"line_indices\":[]}},\"selection_policy\":{\"type\":\"object\",\"name\":\"UnionRenderers\",\"id\":\"p1190\"},\"data\":{\"type\":\"map\",\"entries\":[[\"xVal_s\",{\"type\":\"ndarray\",\"array\":{\"type\":\"bytes\",\"data\":\"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\"},\"shape\":[200],\"dtype\":\"float64\",\"order\":\"little\"}],[\"yVal_s\",{\"type\":\"ndarray\",\"array\":{\"type\":\"bytes\",\"data\":\"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\"},\"shape\":[200],\"dtype\":\"float64\",\"order\":\"little\"}]]}}},\"view\":{\"type\":\"object\",\"name\":\"CDSView\",\"id\":\"p1208\",\"attributes\":{\"filter\":{\"type\":\"object\",\"name\":\"AllIndices\",\"id\":\"p1209\"}}},\"glyph\":{\"type\":\"object\",\"name\":\"Line\",\"id\":\"p1204\",\"attributes\":{\"x\":{\"type\":\"field\",\"field\":\"xVal_s\"},\"y\":{\"type\":\"field\",\"field\":\"yVal_s\"},\"line_color\":\"red\"}},\"nonselection_glyph\":{\"type\":\"object\",\"name\":\"Line\",\"id\":\"p1205\",\"attributes\":{\"x\":{\"type\":\"field\",\"field\":\"xVal_s\"},\"y\":{\"type\":\"field\",\"field\":\"yVal_s\"},\"line_color\":\"red\",\"line_alpha\":0.1}},\"muted_glyph\":{\"type\":\"object\",\"name\":\"Line\",\"id\":\"p1206\",\"attributes\":{\"x\":{\"type\":\"field\",\"field\":\"xVal_s\"},\"y\":{\"type\":\"field\",\"field\":\"yVal_s\"},\"line_color\":\"red\",\"line_alpha\":0.2}}}}],\"toolbar\":{\"type\":\"object\",\"name\":\"Toolbar\",\"id\":\"p1164\",\"attributes\":{\"tools\":[{\"type\":\"object\",\"name\":\"PanTool\",\"id\":\"p1178\"},{\"type\":\"object\",\"name\":\"WheelZoomTool\",\"id\":\"p1179\"},{\"type\":\"object\",\"name\":\"BoxZoomTool\",\"id\":\"p1180\",\"attributes\":{\"overlay\":{\"type\":\"object\",\"name\":\"BoxAnnotation\",\"id\":\"p1181\",\"attributes\":{\"syncable\":false,\"level\":\"overlay\",\"visible\":false,\"left_units\":\"canvas\",\"right_units\":\"canvas\",\"bottom_units\":\"canvas\",\"top_units\":\"canvas\",\"line_color\":\"black\",\"line_alpha\":1.0,\"line_width\":2,\"line_dash\":[4,4],\"fill_color\":\"lightgrey\",\"fill_alpha\":0.5}}}},{\"type\":\"object\",\"name\":\"SaveTool\",\"id\":\"p1182\"},{\"type\":\"object\",\"name\":\"ResetTool\",\"id\":\"p1183\"},{\"type\":\"object\",\"name\":\"HelpTool\",\"id\":\"p1184\"}]}},\"left\":[{\"type\":\"object\",\"name\":\"LinearAxis\",\"id\":\"p1173\",\"attributes\":{\"ticker\":{\"type\":\"object\",\"name\":\"BasicTicker\",\"id\":\"p1174\",\"attributes\":{\"mantissas\":[1,2,5]}},\"formatter\":{\"type\":\"object\",\"name\":\"BasicTickFormatter\",\"id\":\"p1175\"},\"axis_label_standoff\":10,\"axis_label_text_color\":\"#E0E0E0\",\"axis_label_text_font\":\"Helvetica\",\"axis_label_text_font_size\":\"1.25em\",\"axis_label_text_font_style\":\"normal\",\"major_label_policy\":{\"type\":\"object\",\"name\":\"AllLabels\",\"id\":\"p1176\"},\"major_label_text_color\":\"#E0E0E0\",\"major_label_text_font\":\"Helvetica\",\"major_label_text_font_size\":\"1.025em\",\"axis_line_color\":\"#E0E0E0\",\"axis_line_alpha\":0,\"major_tick_line_color\":\"#E0E0E0\",\"major_tick_line_alpha\":0,\"minor_tick_line_color\":\"#E0E0E0\",\"minor_tick_line_alpha\":0}}],\"below\":[{\"type\":\"object\",\"name\":\"LinearAxis\",\"id\":\"p1168\",\"attributes\":{\"ticker\":{\"type\":\"object\",\"name\":\"BasicTicker\",\"id\":\"p1169\",\"attributes\":{\"mantissas\":[1,2,5]}},\"formatter\":{\"type\":\"object\",\"name\":\"BasicTickFormatter\",\"id\":\"p1170\"},\"axis_label_standoff\":10,\"axis_label_text_color\":\"#E0E0E0\",\"axis_label_text_font\":\"Helvetica\",\"axis_label_text_font_size\":\"1.25em\",\"axis_label_text_font_style\":\"normal\",\"major_label_policy\":{\"type\":\"object\",\"name\":\"AllLabels\",\"id\":\"p1171\"},\"major_label_text_color\":\"#E0E0E0\",\"major_label_text_font\":\"Helvetica\",\"major_label_text_font_size\":\"1.025em\",\"axis_line_color\":\"#E0E0E0\",\"axis_line_alpha\":0,\"major_tick_line_color\":\"#E0E0E0\",\"major_tick_line_alpha\":0,\"minor_tick_line_color\":\"#E0E0E0\",\"minor_tick_line_alpha\":0}},{\"type\":\"object\",\"name\":\"ColorBar\",\"id\":\"p1210\",\"attributes\":{\"location\":[150,0],\"orientation\":\"horizontal\",\"width\":300,\"title_text_color\":\"#E0E0E0\",\"title_text_font\":\"Helvetica\",\"title_text_font_size\":\"1.025em\",\"title_text_font_style\":\"normal\",\"major_label_policy\":{\"type\":\"object\",\"name\":\"NoOverlap\",\"id\":\"p1211\"},\"major_label_text_color\":\"#E0E0E0\",\"major_label_text_font\":\"Helvetica\",\"major_label_text_font_size\":\"1.025em\",\"major_tick_line_alpha\":0,\"bar_line_alpha\":0,\"background_fill_color\":\"#15191C\",\"color_mapper\":{\"id\":\"p1191\"}}}],\"center\":[{\"type\":\"object\",\"name\":\"Grid\",\"id\":\"p1172\",\"attributes\":{\"axis\":{\"id\":\"p1168\"},\"grid_line_color\":\"#E0E0E0\",\"grid_line_alpha\":0.25}},{\"type\":\"object\",\"name\":\"Grid\",\"id\":\"p1177\",\"attributes\":{\"dimension\":1,\"axis\":{\"id\":\"p1173\"},\"grid_line_color\":\"#E0E0E0\",\"grid_line_alpha\":0.25}}],\"background_fill_color\":\"#20262B\",\"border_fill_color\":\"#15191C\"}}]}};\n",
       "  const render_items = [{\"docid\":\"8f18615a-4405-4df6-a7f3-f7508e8db68b\",\"roots\":{\"p1155\":\"fc41b466-0c4c-46d0-9bd9-152c1927730f\"},\"root_ids\":[\"p1155\"],\"notebook_comms_target\":\"p1217\"}];\n",
       "  root.Bokeh.embed.embed_items_notebook(docs_json, render_items);\n",
       "  }\n",
       "  if (root.Bokeh !== undefined) {\n",
       "    embed_document(root);\n",
       "  } else {\n",
       "    let attempts = 0;\n",
       "    const timer = setInterval(function(root) {\n",
       "      if (root.Bokeh !== undefined) {\n",
       "        clearInterval(timer);\n",
       "        embed_document(root);\n",
       "      } else {\n",
       "        attempts++;\n",
       "        if (attempts > 100) {\n",
       "          clearInterval(timer);\n",
       "          console.log(\"Bokeh: ERROR: Unable to run BokehJS code because BokehJS library is missing\");\n",
       "        }\n",
       "      }\n",
       "    }, 10, root)\n",
       "  }\n",
       "})(window);"
      ],
      "application/vnd.bokehjs_exec.v0+json": ""
     },
     "metadata": {
      "application/vnd.bokehjs_exec.v0+json": {
       "id": "p1155"
      }
     },
     "output_type": "display_data"
    }
   ],
   "source": [
    "show(wavefunc_t, notebook_handle = True);"
   ]
  },
  {
   "cell_type": "code",
   "execution_count": 12,
   "metadata": {},
   "outputs": [
    {
     "data": {
      "application/vnd.jupyter.widget-view+json": {
       "model_id": "07b19639935c4113b42812d16a229f05",
       "version_major": 2,
       "version_minor": 0
      },
      "text/plain": [
       "interactive(children=(FloatSlider(value=0.0, description='time', max=499.8), Output()), _dom_classes=('widget-…"
      ]
     },
     "metadata": {},
     "output_type": "display_data"
    }
   ],
   "source": [
    "interact(update, time = ipw.FloatSlider(min = 0, max = (endt-2)*dt, step = dt, value = 0));"
   ]
  },
  {
   "cell_type": "markdown",
   "metadata": {},
   "source": [
    "# Questions\n",
    "\n",
    "When answering the following questions, please think of the answer first and then modify and run the code\n",
    "\n",
    "- What happens upon changing the sign of $k_0$?\n",
    "- Explain the behavior of wavepacket when $k_0 = 0$.\n",
    "- Explain the changes of the wavepacket at sufficient large $t$.  \n",
    "- What are the effects of changing wavepacket width $\\sigma$?\n",
    "- How does the evolution of the wavepacket change if periodic boundary condition are replaced with potential well boundaries (i.e. break the bond between sites 1 and $N$)?\n",
    "- What happens if a different on-site energy $E$ is set for one of the sites?\n",
    "- What are the timescales (units of $t$) in our simulations?\n",
    "- Which function describes the probability density of the wavepacket at $t = 0$?"
   ]
  },
  {
   "cell_type": "code",
   "execution_count": null,
   "metadata": {},
   "outputs": [],
   "source": []
  }
 ],
 "metadata": {
  "kernelspec": {
   "display_name": "Python3",
   "language": "python",
   "name": "python3"
  },
  "language_info": {
   "codemirror_mode": {
    "name": "ipython",
    "version": 3
   },
   "file_extension": ".py",
   "mimetype": "text/x-python",
   "name": "python",
   "nbconvert_exporter": "python",
   "pygments_lexer": "ipython3",
   "version": "3.11.5"
  }
 },
 "nbformat": 4,
 "nbformat_minor": 4
}
