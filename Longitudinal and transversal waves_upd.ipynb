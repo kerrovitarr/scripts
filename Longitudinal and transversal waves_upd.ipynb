{
 "cells": [
  {
   "cell_type": "code",
   "execution_count": 1,
   "metadata": {
    "tags": []
   },
   "outputs": [],
   "source": [
    "# Import required libraries\n",
    "import matplotlib.pyplot as plt\n",
    "import numpy as np\n",
    "from ipywidgets import interactive\n",
    "from matplotlib import animation\n",
    "from IPython.display import HTML\n",
    "\n",
    "# Enable interactive widgets in Jupyter Notebook\n",
    "%matplotlib widget\n",
    "\n",
    "# Define the positions of the original lattice\n",
    "x = np.linspace(0,6,7)\n",
    "y = np.linspace(-3,3,7)\n",
    "x_origine,y_origine = np.meshgrid(x,y)  # Create a 2D grid of x, y values\n"
   ]
  },
  {
   "cell_type": "markdown",
   "metadata": {},
   "source": [
    "# Theoretical Reference Guide: Solid State Physics\n",
    "\n",
    "## Introduction\n",
    "In the provided script, we explore the physics of waves in a crystalline lattice which is a common model in solid state physics to describe the behavior of electrons in a material. The script visualizes two types of waves: longitudinal and transverse waves, as they propagate through a one-dimensional lattice.\n",
    "\n",
    "## Key Concepts\n",
    "\n",
    "### Wave Vector (k)\n",
    "The wave vector $\\ k \\$ represents the direction and wavelength of a wave. It is defined as $\\ k = \\frac{2\\pi}{\\lambda} \\$, where $\\ \\lambda \\$ is the wavelength of the wave. The script allows interactive visualization of wave propagation for different values of $( k \\$.\n",
    "\n",
    "### Angular Frequency (ω)\n",
    "The angular frequency $\\ \\omega \\$ describes the speed of wave oscillation and is defined as $\\ \\omega = 2\\pi f \\$, where $\\ f \\$ is the frequency of the wave. In the script, $\\ \\omega \\$ is set to 3.\n",
    "\n",
    "### Lattice Displacement\n",
    "The displacement of lattice points from their equilibrium positions is shown in the script. For longitudinal waves, the displacement is along the direction of wave propagation, while for transverse waves, it is perpendicular to the direction of wave propagation.\n",
    "\n",
    "#### Longitudinal Displacement\n",
    "$\\ x_p = x + \\sin(kx - \\omega t)\\ $\n",
    "\n",
    "#### Transverse Displacement\n",
    "$\\ y_p = y + \\sin(kx - \\omega t) \\$\n",
    "\n",
    "### Meshgrid\n",
    "The `np.meshgrid` function is used to create a 2D grid of x, y values which represents the lattice. This is essential for visualizing the displacement of lattice points as waves propagate through it.\n",
    "\n",
    "## Figures\n",
    "Two figures are generated to visualize the behavior of longitudinal and transverse waves. The figures are interactive and update based on the value of the wave vector $\\ k \\$ chosen by the user.\n",
    "\n",
    "### Longitudinal Wave\n",
    "The figure titled \"Longitudinal\" shows the displacement of lattice points along the direction of wave propagation as a function of time.\n",
    "\n",
    "### Transverse Wave\n",
    "The figure titled \"Transverse\" shows the displacement of lattice points perpendicular to the direction of wave propagation as a function of time.\n",
    "\n",
    "## Animation\n",
    "The `matplotlib.animation` module is used to create animations of the lattice as waves propagate through it. This visual representation aids in understanding how the position of lattice points changes over time due to the wave.\n",
    "\n",
    "## Conclusion\n",
    "Understanding the propagation of waves through a lattice is fundamental in solid state physics. It helps in understanding various phenomena like phonons, electron behavior, and other quantum mechanical effects in a solid.\n"
   ]
  },
  {
   "cell_type": "code",
   "execution_count": 10,
   "metadata": {
    "tags": []
   },
   "outputs": [
    {
     "data": {
      "application/vnd.jupyter.widget-view+json": {
       "model_id": "1dd29e3721fd4561bdab0505ad0d0041",
       "version_major": 2,
       "version_minor": 0
      },
      "text/plain": [
       "interactive(children=(FloatSlider(value=0.0, description='k', max=1.0, min=-1.0, step=0.01), Output()), _dom_c…"
      ]
     },
     "execution_count": 10,
     "metadata": {},
     "output_type": "execute_result"
    },
    {
     "data": {
      "application/vnd.jupyter.widget-view+json": {
       "model_id": "9f792bc3d4e64c3c8f4f26ee5e98e9be",
       "version_major": 2,
       "version_minor": 0
      },
      "image/png": "[encoded data removed]",
      "text/html": [
       "\n",
       "            <div style=\"display: inline-block;\">\n",
       "                <div class=\"jupyter-widgets widget-label\" style=\"text-align: center;\">\n",
       "                    Figure\n",
       "                </div>\n",
       "                <img src='data:image/png;base64,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' width=1000.0/>\n",
       "            </div>\n",
       "        "
      ],
      "text/plain": [
       "Canvas(toolbar=Toolbar(toolitems=[('Home', 'Reset original view', 'home', 'home'), ('Back', 'Back to previous …"
      ]
     },
     "metadata": {},
     "output_type": "display_data"
    }
   ],
   "source": [
    "def interactive_wave_plot(k):\n",
    "    '''\n",
    "    :param k: wave number\n",
    "    '''\n",
    "    global current_k  # Declare current_k as a global variable so it can be accessed outside this function\n",
    "    current_k= k  # Set the current wave number to the input value k\n",
    "    \n",
    "    # Define the position of the displaced lattice for longitudinal wave\n",
    "    x_p = x + np.sin(k*x)  # Displace x positions based on a sine function of k and x\n",
    "    x_long,y_long = np.meshgrid(x_p,y)  # Create a 2D grid of x, y values for the displaced lattice\n",
    "    \n",
    "    x_p = x + np.sin(k*x)  # Displace x positions again (this line seems redundant and can possibly be removed)\n",
    "    y_p = y + np.sin(k*(x-np.mean(x)))  # Displace y positions based on a sine function of k and (x - mean(x))\n",
    "    \n",
    "    x_trans=x_origine  # x positions for transverse wave remains the same as the original lattice\n",
    "    y_trans = y_origine+np.sin(k*x)  # Displace y positions based on a sine function of k and x for transverse wave\n",
    "\n",
    "    fig1.clear()  # Clear previous plot on fig1\n",
    "    fig1.set_xticks([])  # Remove x-axis ticks on fig1\n",
    "    fig1.set_yticks([])  # Remove y-axis ticks on fig1\n",
    "    fig1.axis([-1,7,-4.5,4.5])  # Set axis limits on fig1\n",
    "    fig1.set_title('Transverse')  # Set title on fig1 as 'Transverse'\n",
    "    fig1.plot(x_origine,y_origine,'ko', mfc='none')  # Plot original lattice positions on fig1\n",
    "    fig1.plot(x_trans,y_trans,'ko')  # Plot displaced lattice positions for transverse wave on fig1\n",
    "    \n",
    "    fig2.clear()  # Clear previous plot on fig2\n",
    "    fig2.set_title('Longitudinal')  # Set title on fig2 as 'Longitudinal'\n",
    "    fig2.set_xticks([])  # Remove x-axis ticks on fig2\n",
    "    fig2.set_yticks([])  # Remove y-axis ticks on fig2\n",
    "    fig2.axis([-1,7,-4.5,4.5])  # Set axis limits on fig2\n",
    "    fig2.plot(x_origine,y_origine,'ko', mfc='none')  # Plot original lattice positions on fig2\n",
    "    fig2.plot(x_long,y_long,'ko')  # Plot displaced lattice positions for longitudinal wave on fig2\n",
    "\n",
    "fig, (fig1, fig2) = plt.subplots(1,2, figsize=(10,5))  # Initialize a figure with two subplots (fig1 and fig2) side by side\n",
    "plt.ion()  # Turn on interactive mode for plotting\n",
    "interactive(interactive_wave_plot,k=(-1,1,0.01))  # Create an interactive plot using the function interactive_wave_plot with wave number k ranging from -1 to 1 with a step of 0.01\n"
   ]
  },
  {
   "cell_type": "code",
   "execution_count": 11,
   "metadata": {
    "tags": []
   },
   "outputs": [
    {
     "data": {
      "application/vnd.jupyter.widget-view+json": {
       "model_id": "686c4d1b315f4aa5b747bcf4ee9f3ea3",
       "version_major": 2,
       "version_minor": 0
      },
      "image/png": "[encoded data removed]",
      "text/html": [
       "\n",
       "            <div style=\"display: inline-block;\">\n",
       "                <div class=\"jupyter-widgets widget-label\" style=\"text-align: center;\">\n",
       "                    Figure\n",
       "                </div>\n",
       "                <img src='data:image/png;base64,iVBORw0KGgoAAAANSUhEUgAAAoAAAAHgCAYAAAA10dzkAAAAOXRFWHRTb2Z0d2FyZQBNYXRwbG90bGliIHZlcnNpb24zLjcuMSwgaHR0cHM6Ly9tYXRwbG90bGliLm9yZy/bCgiHAAAACXBIWXMAAA9hAAAPYQGoP6dpAAARRElEQVR4nO3daYiV5f/H8e9x+THaqGkNkWVWFlFRRJstGrZqhWIPIrAIKVCTIokKbCEDobIyi/awfFCWULTQakWLBj2INiraqIlKqGhRISubmd+D/s6/ky3jz3TKz+v17Fxz3+e6bhHmzX1fZ06jq6urqwAAiNGntxcAAMDmJQABAMIIQACAMAIQACCMAAQACCMAAQDCCEAAgDACEAAgjAAEAAgjAAEAwghAAIAwAhAAIIwABAAIIwABAMIIQACAMAIQACCMAAQACCMAAQDCCEAAgDACEAAgjAAEAAgjAAEAwghAAIAwAhAAIIwABAAIIwABAMIIQACAMAIQACCMAAQACCMAAQDCCEAAgDACEAAgjAAEAAgjAAEAwghAIM7zzz9fjUajnn/++c0y37hx42rcuHHdr9vb26vRaNSiRYs26bw777xzTZ06dZPOAfw7CUBgk1i0aFE1Go165ZVXenspPbJ48eJasGBBby8DYLPo19sLANjcjjjiiFqzZk395z//6R5bvHhxvfXWWzVr1qxNPv/IkSNrzZo11b9//00+F8DvEYBAnD59+lRLS0uvzd9oNHp1fgCPgIFe89prr9Xxxx9fgwcPrtbW1jr66KPr5Zdfbjpm3aPkl156qc4777xqa2urrbbaqk466aT66quvmo7t7OysOXPm1PDhw2vgwIF15JFH1jvvvLPeXrjf7gEcN25cPfbYY/XJJ59Uo9GoRqNRO++8c9P87e3tTXP90T7C22+/vUaNGlUDBgyogw8+uJYtW7bedf/eHsCpU6dWa2trff755zV58uRqbW2ttra2Ov/886ujo6Pp/GuuuaYOO+yw2mabbWrAgAF1wAEH1P333//X/+AA/8cdQKBXvP322zV27NgaPHhwXXjhhdW/f/+67bbbaty4cfXCCy/U6NGjm44/55xzaujQoXXZZZdVe3t7LViwoM4+++xasmRJ9zGzZ8+uefPm1cSJE2v8+PH1xhtv1Pjx4+uHH37407VcfPHFtXLlyvrss8/quuuuq6qq1tbWDb6mhQsX1vTp0+uwww6rWbNm1UcffVSTJk2qYcOG1YgRI/7y/I6Ojho/fnyNHj26rrnmmnrmmWfq2muvrVGjRtVZZ53Vfdz1119fkyZNqlNPPbV++umnuu++++rkk0+uRx99tE488cQNXjeQRwACveKSSy6ptWvX1vLly2vXXXetqqrTTz+99thjj7rwwgvrhRdeaDp+m222qaVLl1aj0aiqX+723XDDDbVy5coaMmRIffHFFzV//vyaPHlyPfjgg93nXX755TVnzpw/Xcuxxx5bO+ywQ3377bd12mmn/U/Xs3bt2rroootqv/32q+eee657f+Fee+1V06ZN61EA/vDDD3XKKafUpZdeWlVVM2bMqP33378WLlzYFIDvv/9+DRgwoPv12WefXfvvv3/Nnz9fAAI94hEwsNl1dHTU0qVLa/Lkyd3xV1W1/fbb15QpU2r58uW1atWqpnOmTZvWHX9VVWPHjq2Ojo765JNPqqrq2WefrZ9//rlmzpzZdN4555yzCa/k/73yyiv15Zdf1owZM5o+XDJ16tQaMmRIj99nxowZTa/Hjh1bH330UdPYr+Pv22+/rZUrV9bYsWPr1Vdf/R9XD6QRgMBm99VXX9X3339fe+yxx3o/23PPPauzs7M+/fTTpvGddtqp6fXQoUOr6pcAqqruENxtt92ajhs2bFj3sZvSuvl33333pvH+/fs3Re6faWlpqba2tqaxoUOHdl/jOo8++mgdcsgh1dLSUsOGDau2tra65ZZbauXKlRtxBUASAQj8K/Tt2/d3x7u6ujbpvL++6/hrv/1gxt/hj67x15YtW1aTJk2qlpaWuvnmm+vxxx+vp59+uqZMmbLJ/y2ALYcABDa7tra2GjhwYL333nvr/ezdd9+tPn369GjP3K+NHDmyqqo+/PDDpvGvv/56vTtov+ePQm/d3cPvvvuuaXzdHb/fzv/BBx80ja9du7Y+/vjjv5y/px544IFqaWmpp556qs4444w6/vjj65hjjvnb3h/IIACBza5v37513HHH1cMPP9z051W++OKLWrx4cY0ZM6YGDx68Qe959NFHV79+/eqWW25pGr/xxht7dP5WW231u49QR40aVVVVL774YvdYR0dH3X777U3HHXjggdXW1la33npr/fTTT93jixYtWi8eN0bfvn2r0Wg03YFsb2+vhx566G+bA9jy+RQwsEndeeed9eSTT643PmfOnHr66adrzJgxNXPmzOrXr1/ddttt9eOPP9a8efM2eJ7tttuuzj333Lr22mtr0qRJNWHChHrjjTfqiSeeqG233fYP7/Ctc8ABB9SSJUvqvPPOq4MOOqhaW1tr4sSJtffee9chhxxSs2fPrm+++aaGDRtW9913X/38889N5/fv37/mzp1b06dPr6OOOqpOOeWU+vjjj+uuu+7q8R7AnjjxxBNr/vz5NWHChJoyZUp9+eWXddNNN9Vuu+1Wb7755t82D7BlE4DAJvXbO3LrTJ06tZYtW1azZ8+uK664ojo7O2v06NF19913r/c3AHvqqquuqoEDB9Ydd9xRzzzzTB166KG1dOnSGjNmzF9+88bMmTPr9ddfr7vuuquuu+66GjlyZE2cOLGqqu65556aPn16XXnllbX11lvXmWeeWUceeWQde+yxTe8xbdq06ujoqKuvvrouuOCC2meffeqRRx7p/rMuf4ejjjqqFi5cWFdeeWXNmjWrdtlll7rqqquqvb1dAAI91uiyaxjYgn333Xc1dOjQmjt3bl188cW9vRyAfwR7AIEtxpo1a9YbW7BgQVX98nVvAPzCI2Bgi7FkyZJatGhRnXDCCdXa2lrLly+ve++9t4477rg6/PDDe3t5AP8YAhDYYuy7777Vr1+/mjdvXq1atar7gyFz587t7aUB/KPYAwgAEMYeQACAMAIQACCMAAQACONDIBuhs7OzVqxYUYMGDfrLbxkAAP4Zurq6avXq1TV8+PDq0yfzXpgA3AgrVqzY4C+sBwD+GT799NPacccde3sZvUIAboRBgwZV1S//gTb0i+sBgN6xatWqGjFiRPfv8UQCcCOse+w7ePBgAQgA/zLJ27cyH3wDAAQTgAAAYQQgAEAYAQgAEEYAAgCEEYAAAGEEIABAGAEIABBGAAIAhBGAAABhBCAAQBgBCAAQRgACAIQRgAAAYQQgAEAYAQgAEEYAAgCEEYAAAGEEIABAGAEIABBGAAIAhBGAAABhBCAAQBgBCAAQRgACAIQRgAAAYQQgAEAYAQgAEEYAAgCEEYAAAGEEIABAGAEIABBGAAIAhBGAAABhBCAAQBgBCAAQRgACAIQRgAAAYQQgAEAYAQgAEEYAAgCEEYAAAGEEIABAGAEIABBGAAIAhBGAAABhBCAAQBgBCAAQRgACAIQRgAAAYQQgAEAYAQgAEEYAAgCEEYAAAGEEIABAGAEIABBGAAIAhBGAAABhBCAAQBgBCAAQRgACAIQRgAAAYQQgAEAYAQgAEEYAAgCEEYAAAGEEIABAGAEIABBGAAIAhBGAAABhBCAAQBgBCAAQRgACAIQRgAAAYQQgAEAYAQgAEEYAAgCEEYAAAGEEIABAGAEIABBGAAIAhBGAAABhBCAAQBgBCAAQRgACAIQRgAAAYQQgAEAYAQgAEEYAAgCEEYAAAGEEIABAGAEIABBGAAIAhBGAAABhBCAAQBgBCAAQRgACAIQRgAAAYQQgAEAYAQgAEEYAAgCEEYAAAGEEIABAGAEIABBGAAIAhBGAAABhBCAAQBgBCAAQRgACAIQRgAAAYQQgAEAYAQgAEEYAAgCEEYAAAGEEIABAGAEIABBGAAIAhBGAAABhBCAAQBgBCAAQRgACAIQRgAAAYQQgAEAYAQgAEEYAAgCEEYAAAGEEIABAGAEIABBGAAIAhBGAAABhBCAAQBgBCAAQRgACAIQRgAAAYQQgAEAYAQgAEEYAAgCEEYAAAGEEIABAGAEIABBGAAIAhBGAAABhBCAAQBgBCAAQRgACAIQRgAAAYQQgAEAYAQgAEEYAAgCEEYAAAGEEIABAGAEIABBGAAIAhBGAAABhBCAAQBgBCAAQRgACAIQRgAAAYQQgAEAYAQgAEEYAAgCEEYAAAGEEIABAGAEIABBGAAIAhBGAAABhBCAAQBgBCAAQRgACAIQRgAAAYQQgAEAYAQgAEEYAAgCEEYAAAGEEIABAGAEIABBGAAIAhBGAAABhBCAAQBgBCAAQRgACAIQRgAAAYQQgAEAYAQgAEEYAAgCEEYAAAGEEIABAGAEIABBGAAIAhBGAAABhBCAAQBgBCAAQRgACAIQRgAAAYQQgAEAYAQgAEEYAAgCEEYAAAGEEIABAGAEIABBGAAIAhBGAAABhBCAAQBgBCAAQRgACAIQRgAAAYQQgAEAYAQgAEEYAAgCEEYAAAGEEIABAGAEIABBGAAIAhBGAAABhBCAAQBgBCAAQRgACAIQRgAAAYQQgAEAYAQgAEEYAAgCEEYAAAGEEIABAGAEIABBGAAIAhBGAAABhBCAAQBgBCAAQRgACAIQRgAAAYQQgAEAYAQgAEEYAAgCEEYAAAGEEIABAGAEIABBGAAIAhBGAAABhBCAAQBgBCAAQRgACAIQRgAAAYQQgAEAYAQgAEEYAAgCEEYAAAGEEIABAGAEIABBGAAIAhBGAAABhBCAAQBgBCAAQRgACAIQRgAAAYQQgAEAYAQgAEEYAAgCEEYAAAGEEIABAGAEIABBGAAIAhBGAAABhBCAAQBgBCAAQRgACAIQRgAAAYQQgAEAYAQgAEEYAAgCEEYAAAGEEIABAGAEIABBGAAIAhBGAAABhBCAAQBgBCAAQRgACAIQRgAAAYQQgAEAYAQgAEEYAAgCEEYAAAGEEIABAGAEIABBGAAIAhBGAAABhBCAAQBgBCAAQRgACAIQRgAAAYQQgAEAYAQgAEEYAAgCEEYAAAGEEIABAGAEIABBGAAIAhBGAAABhBCAAQBgBCAAQRgACAIQRgAAAYQQgAEAYAQgAEEYAAgCEEYAAAGEEIABAGAEIABBGAAIAhBGAAABhBCAAQBgBCAAQRgACAIQRgAAAYQQgAEAYAQgAEEYAAgCEEYAAAGEEIABAGAEIABBGAAIAhBGAAABhBCAAQBgBCAAQRgACAIQRgAAAYQQgAEAYAQgAEEYAAgCEEYAAAGEEIABAGAEIABBGAAIAhBGAAABhBCAAQBgBCAAQRgACAIQRgAAAYQQgAEAYAQgAEEYAAgCEEYAAAGEEIABAGAEIABBGAAIAhBGAAABhBCAAQBgBCAAQRgACAIQRgAAAYQQgAEAYAQgAEEYAAgCEEYAAAGEEIABAGAEIABBGAAIAhBGAAABhBCAAQBgBCAAQRgACAIQRgAAAYQQgAEAYAQgAEEYAAgCE6dfbC/g36+rqqqqqVatW9fJKAICeWvd7e93v8UQCcCOsXr26qqpGjBjRyysBADbU6tWra8iQIb29jF7R6ErO343U2dlZK1asqEGDBlWj0ejt5QAAPdDV1VWrV6+u4cOHV58+mbvhBCAAQJjM7AUACCYAAQDCCEAAgDACEAAgjAAEAAgjAAEAwghAAIAwAhAAIIwABAAIIwABAMIIQACAMAIQACCMAAQACCMAAQDCCEAAgDACEAAgjAAEAAgjAAEAwghAAIAwAhAAIIwABAAIIwABAMIIQACAMAIQACCMAAQACCMAAQDCCEAAgDACEAAgjAAEAAgjAAEAwghAAIAwAhAAIIwABAAIIwABAMIIQACAMAIQACCMAAQACCMAAQDCCEAAgDACEAAgjAAEAAgjAAEAwghAAIAwAhAAIIwABAAIIwABAMIIQACAMAIQACCMAAQACCMAAQDC/Bcef5J0NoVZmwAAAABJRU5ErkJggg==' width=640.0/>\n",
       "            </div>\n",
       "        "
      ],
      "text/plain": [
       "Canvas(toolbar=Toolbar(toolitems=[('Home', 'Reset original view', 'home', 'home'), ('Back', 'Back to previous …"
      ]
     },
     "metadata": {},
     "output_type": "display_data"
    }
   ],
   "source": [
    "# Create a new figure for the longitudinal wave animation\n",
    "fig_long = plt.figure()\n",
    "ax = plt.axes()  # Create axes for the figure\n",
    "ax.set_xlim((-1.5,7.5))  # Set x-axis limits\n",
    "ax.set_ylim((-5,5))  # Set y-axis limits\n",
    "line_or, = ax.plot([], [], 'ko', mfc=None)  # Initialize an empty plot for the original lattice positions\n",
    "line_mov, = ax.plot([], [], 'ko')  # Initialize an empty plot for the moving lattice positions\n",
    "plt.title(\"Longitudinal\")  # Set the title of the plot to \"Longitudinal\"\n",
    "ax.set_xticks([])  # Remove x-axis ticks\n",
    "ax.set_yticks([])  # Remove y-axis ticks\n",
    "\n",
    "# Initialization function: plot the background of each frame\n",
    "def init_long():\n",
    "    line_or.set_data([], [])  # Clear the data of the original lattice plot\n",
    "    line_mov.set_data([], [])  # Clear the data of the moving lattice plot\n",
    "    return line_or,  # Return the original lattice plot line object\n",
    "\n",
    "# Animation function which updates figure data. This is called sequentially\n",
    "def animate_long(iteration):\n",
    "    global current_k  # Access the global variable current_k\n",
    "    k = current_k  # Assign the value of current_k to k\n",
    "    omega = 3  # Define angular frequency\n",
    "    t = omega * 2 * (1/100) / np.pi * iteration  # Calculate time based on the iteration number\n",
    "    \n",
    "    x = np.linspace(0, 6, 7)  # Define x positions\n",
    "    y = np.linspace(-3, 3, 7)  # Define y positions\n",
    "    \n",
    "    x_origine, y_origine = np.meshgrid(x, y)  # Create a 2D grid of x, y values\n",
    "    \n",
    "    # Define the position of the displaced lattice for longitudinal wave\n",
    "    x_p = x + np.sin(k * x - omega * t)  # Displace x positions based on a sine function\n",
    "    x_long, y_long = np.meshgrid(x_p, y)  # Create a 2D grid of displaced x, y values\n",
    "    \n",
    "    x_trans = x_origine  # x positions for transverse wave remains the same as the original lattice\n",
    "    y_trans = y_origine + np.sin(k * x - omega * t)  # Displace y positions based on a sine function for transverse wave\n",
    "    line_mov.set_data(np.asarray([x_long, y_long]))  # Update the data of the moving lattice plot\n",
    "    return line_mov,  # Return the moving lattice plot line object\n",
    "\n",
    "# Check if anim_trans is already defined to avoid re-creating the animation unnecessarily\n",
    "if 'anim_trans' in locals():\n",
    "    anim_trans.event_source.stop()  # Stop any previous animations\n",
    "anim_long = animation.FuncAnimation(fig_long, animate_long, init_func=init_long, frames=112, interval=25, blit=True)  # Create the animation for longitudinal wave\n"
   ]
  },
  {
   "cell_type": "code",
   "execution_count": 12,
   "metadata": {
    "tags": []
   },
   "outputs": [
    {
     "data": {
      "application/vnd.jupyter.widget-view+json": {
       "model_id": "f5c5be5a46604642b96b5461cdb7e65c",
       "version_major": 2,
       "version_minor": 0
      },
      "image/png": "[encoded data removed]",
      "text/html": [
       "\n",
       "            <div style=\"display: inline-block;\">\n",
       "                <div class=\"jupyter-widgets widget-label\" style=\"text-align: center;\">\n",
       "                    Figure\n",
       "                </div>\n",
       "                <img src='data:image/png;base64,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' width=640.0/>\n",
       "            </div>\n",
       "        "
      ],
      "text/plain": [
       "Canvas(toolbar=Toolbar(toolitems=[('Home', 'Reset original view', 'home', 'home'), ('Back', 'Back to previous …"
      ]
     },
     "metadata": {},
     "output_type": "display_data"
    }
   ],
   "source": [
    "# Create a new figure for the transverse wave animation\n",
    "fig_trans = plt.figure()\n",
    "ax_trans = plt.axes()  # Create axes for the figure\n",
    "ax_trans.set_xlim((-1.5,7.5))  # Set x-axis limits\n",
    "ax_trans.set_ylim((-5,5))  # Set y-axis limits\n",
    "line_or, = ax_trans.plot([], [], 'ko', mfc=None)  # Initialize an empty plot for the original lattice positions\n",
    "line_mov, = ax_trans.plot([], [], 'ko')  # Initialize an empty plot for the moving lattice positions\n",
    "plt.title(\"Transverse\")  # Set the title of the plot to \"Transverse\"\n",
    "ax_trans.set_xticks([])  # Remove x-axis ticks\n",
    "ax_trans.set_yticks([])  # Remove y-axis ticks\n",
    "\n",
    "# Initialization function: plot the background of each frame\n",
    "def init():\n",
    "    line_or.set_data([], [])  # Clear the data of the original lattice plot\n",
    "    line_mov.set_data([], [])  # Clear the data of the moving lattice plot\n",
    "    return line_or,  # Return the original lattice plot line object\n",
    "\n",
    "# Animation function which updates figure data. This is called sequentially\n",
    "def animate(iteration):\n",
    "    global current_k  # Access the global variable current_k\n",
    "    k = current_k  # Assign the value of current_k to k\n",
    "    omega = 3  # Define angular frequency\n",
    "    t = omega * 2 * (1/100) / np.pi * iteration  # Calculate time based on the iteration number\n",
    "    \n",
    "    x_origine, y_origine = np.meshgrid(np.linspace(0, 6, 7), np.linspace(-3, 3, 7))  # Create a 2D grid of x, y values\n",
    "    \n",
    "    x_trans = x_origine  # x positions for transverse wave remains the same as the original lattice\n",
    "    y_trans = y_origine + np.sin(k * x - omega * t)  # Displace y positions based on a sine function for transverse wave\n",
    "    \n",
    "    line_mov.set_data(np.asarray([x_trans, y_trans]))  # Update the data of the moving lattice plot\n",
    "    return line_mov,  # Return the moving lattice plot line object\n",
    "\n",
    "# Check if anim_long is already defined to avoid re-creating the animation unnecessarily\n",
    "if 'anim_long' in locals():\n",
    "    anim_long.event_source.stop()  # Stop any previous animations\n",
    "anim_trans = animation.FuncAnimation(fig_trans, animate, init_func=init, frames=112, interval=25, blit=True)  # Create the animation for transverse wave\n"
   ]
  },
  {
   "cell_type": "markdown",
   "metadata": {
    "tags": []
   },
   "source": [
    "# Self-Study Questions\n",
    "\n",
    "1. **Wave Vector and Wavelength Relationship:**\n",
    "    - What is the relationship between the wave vector $\\ k \\$ and the wavelength $\\ \\lambda \\$?\n",
    "    - How does changing the wave vector $( k \\$ affect the wavelength and frequency of the wave?\n",
    "\n",
    "2. **Longitudinal and Transverse Waves:**\n",
    "    - What are the distinguishing characteristics of longitudinal and transverse waves?\n",
    "    - How are the displacements of lattice points different in longitudinal and transverse waves?\n",
    "    \n",
    "3. **Angular Frequency:**\n",
    "    - What is the significance of angular frequency $\\ \\omega \\$ in wave mechanics?\n",
    "    - How does changing the angular frequency $( \\omega \\$ affect the wave propagation?\n",
    "\n",
    "4. **Lattice Displacement:**\n",
    "    - How is the lattice displacement calculated in the script for both longitudinal and transverse waves?\n",
    "    - What is the physical significance of lattice displacement in solid state physics?\n",
    "\n",
    "5. **Interactive Visualization:**\n",
    "    - How does the interactive visualization help in understanding wave propagation through a lattice?\n",
    "    - Experiment with different values of the wave vector $\\ k \\$ in the interactive visualization. What observations can you make regarding the behavior of waves in the lattice?\n",
    "\n",
    "6. **Animation:**\n",
    "    - How does the animation illustrate the propagation of waves through the lattice?\n",
    "    - What insights can be gained from observing the animation regarding the behavior of longitudinal and transverse waves?\n",
    "\n",
    "7. **Meshgrid:**\n",
    "    - What is the purpose of using the `np.meshgrid` function in the script?\n",
    "    - How does `np.meshgrid` aid in visualizing the displacement of lattice points?\n",
    "\n",
    "8. **Extension:**\n",
    "    - Explore the concept of phonons and relate it to the lattice vibrations illustrated in the script.\n",
    "    - How might the script be extended or modified to include other key concepts in solid state physics, such as the effect of an external electric or magnetic field?\n",
    "\n"
   ]
  },
  {
   "cell_type": "code",
   "execution_count": null,
   "metadata": {},
   "outputs": [],
   "source": []
  }
 ],
 "metadata": {
  "kernelspec": {
   "display_name": "Python3",
   "language": "python",
   "name": "python3"
  },
  "language_info": {
   "codemirror_mode": {
    "name": "ipython",
    "version": 3
   },
   "file_extension": ".py",
   "mimetype": "text/x-python",
   "name": "python",
   "nbconvert_exporter": "python",
   "pygments_lexer": "ipython3",
   "version": "3.11.5"
  }
 },
 "nbformat": 4,
 "nbformat_minor": 4
}
