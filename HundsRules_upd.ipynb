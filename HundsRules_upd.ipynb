{
 "cells": [
  {
   "cell_type": "code",
   "execution_count": 6,
   "metadata": {
    "tags": []
   },
   "outputs": [],
   "source": [
    "import numpy as np\n",
    "import matplotlib.pyplot as plt\n",
    "\n",
    "# from __future__ import print_function\n",
    "from ipywidgets import interact, interactive, fixed, interact_manual\n",
    "import ipywidgets as widgets\n",
    "\n"
   ]
  },
  {
   "cell_type": "markdown",
   "metadata": {},
   "source": [
    "# Hund's Rule and Electron Configuration\n",
    "\n",
    "## Introduction\n",
    "\n",
    "Understanding the distribution of electrons within an atom is pivotal in grasping chemical properties and behaviors. In atomic physics and quantum chemistry, the electron configuration is the distribution of electrons of an atom or molecule (or other physical structure) in atomic or molecular orbitals.\n",
    "\n",
    "## Atomic Orbitals\n",
    "\n",
    "- **What are they?**  \n",
    "  Atomic orbitals provide a mathematical way to describe the likely location of an electron around a nucleus. They give us a probability distribution for the electron, which is typically represented in shapes (spheres, dumbbells, etc.) where the electron is likely to be found.\n",
    "  \n",
    "- **Types of Orbitals:**\n",
    "  - **s-orbital:** Spherical shape, can hold up to 2 electrons.\n",
    "  - **p-orbital:** Dumbbell shape, can hold up to 6 electrons.\n",
    "  - **d-orbital:** Complex shape, can hold up to 10 electrons.\n",
    "  - **f-orbital:** More complex shape, can hold up to 14 electrons.\n",
    "\n",
    "- **Quantum Numbers:**  \n",
    "  These numbers describe the state of an electron in an atom. Each electron is described by four quantum numbers:  \n",
    "  - **Principal Quantum Number (n):** Specifies the energy level (shell) of an electron in an atom and its size.\n",
    "  - **Azimuthal Quantum Number (l):** Defines the shape of the orbital, and also defines the subshell.\n",
    "  - **Magnetic Quantum Number (mₗ):** Describes the orientation of the orbital in space.\n",
    "  - **Spin Quantum Number (mₛ):** Describes the spin direction of the electron (-½ or +½).\n",
    "\n",
    "## Hund's Rule\n",
    "\n",
    "Hund’s Rule, established by Friedrich Hund in 1925, guides the arrangement of electrons within the same subshell. It defines that:\n",
    "1. **Maximum Multiplicity:** Electrons prefer to inhabit different orbitals in a subshell with parallel spins to maximize total spin before pairing up.\n",
    "2. **Electron Repulsion:** Electrons are negatively charged and hence repel each other. Spreading out into different orbitals minimizes this repulsion.\n",
    "3. **Stable Configuration:** Electrons configure themselves to provide the most stable arrangement within an atom.\n",
    "\n",
    "Example:  \n",
    "Consider the p-orbitals which can hold a maximum of 6 electrons. According to Hund’s rule, each p-orbital will first be singly occupied by electrons with parallel spins before any pairing occurs.\n",
    "\n"
   ]
  },
  {
   "cell_type": "code",
   "execution_count": 10,
   "metadata": {
    "tags": []
   },
   "outputs": [
    {
     "data": {
      "application/vnd.jupyter.widget-view+json": {
       "model_id": "011c51f7a7e5409e8a64cd40ab39c3dd",
       "version_major": 2,
       "version_minor": 0
      },
      "text/plain": [
       "interactive(children=(IntSlider(value=5, description='elecs', max=10, min=1), Output()), _dom_classes=('widget…"
      ]
     },
     "metadata": {},
     "output_type": "display_data"
    }
   ],
   "source": [
    "\"\"\"\n",
    "Hund's Rule and Electron Configuration Visualization Script\n",
    "\n",
    "This script visualizes the arrangement of electrons within an atomic orbital\n",
    "according to Hund's rule and other electron configuration principles. It is \n",
    "intended as an educational tool for understanding electronic structures in atoms.\n",
    "\"\"\"\n",
    "\n",
    "import numpy as np\n",
    "import matplotlib.pyplot as plt\n",
    "from ipywidgets import interact, interactive, fixed, interact_manual\n",
    "import ipywidgets as widgets\n",
    "\n",
    "spdf=['s','p','d','f','g','h']\n",
    "\n",
    "def interactive_hund(orbit, elecs):\n",
    "    \"\"\"\n",
    "    Visualize electron distribution in atomic orbitals according to Hund's rule.\n",
    "    \n",
    "    Parameters:\n",
    "    - orbit (int): The shell number.\n",
    "    - elecs (int): The number of electrons to distribute among the orbitals.\n",
    "    \n",
    "    This function creates a visualization of how electrons fill up orbitals\n",
    "    within a given shell based on Hund's rule and other electron configuration\n",
    "    principles. It generates a simple plot, displaying electrons as arrows\n",
    "    within rectangles representing orbitals.\n",
    "    \"\"\"\n",
    "    nn = orbit * 2 - 1\n",
    "    ml = orbit - 1\n",
    "    L, S, J = 0, 0, 0\n",
    "    \n",
    "    plt.xlim(nn - ml - 0.1, 0 - ml - 1 + 0.1)\n",
    "    plt.ylim(-1.5, 2.5)\n",
    "    plt.yticks([])\n",
    "    plt.xlabel('ml')\n",
    "    \n",
    "    print(spdf[ml], 'shell')\n",
    "    print('number of electrons =', elecs)\n",
    "    \n",
    "    for x in range(-ml, ml + 1):\n",
    "        plt.gca().add_patch(plt.Rectangle((x-0.4,-0.1), 0.9, 1.2, fill=False))\n",
    "    \n",
    "    if elecs <= nn:\n",
    "        for x in range(-ml, elecs - ml):\n",
    "            plt.arrow(-x, 0, 0, 0.8, head_width=0.2)\n",
    "            S = S + 0.5\n",
    "            L = L + x\n",
    "        J = abs(abs(L) - abs(S))\n",
    "    else:\n",
    "        for x in range(0 - ml, elecs - nn - ml):\n",
    "            plt.arrow((-x + 0.1), 0, 0, 0.8, head_width=0.2)\n",
    "            plt.arrow((-x - 0.1), 1, 0, -0.8, head_width=0.2)\n",
    "            S = S + 0\n",
    "            L = L + x * 2\n",
    "        for x in range(elecs - nn - ml, nn - ml):\n",
    "            plt.arrow(-x, 0, 0, 0.8, head_width=0.2)\n",
    "            S = S + 0.5\n",
    "            L = L + x\n",
    "        J = abs(L) + abs(S)\n",
    "    \n",
    "    print('L =', abs(L), 'S =', S)\n",
    "    print('J =', J)\n",
    "    return\n",
    "\n",
    "def interactive_hunds(shell):\n",
    "    \"\"\"\n",
    "    Interface function for interacting with the interactive_hund function.\n",
    "    \n",
    "    Parameters:\n",
    "    - shell (int): The shell number.\n",
    "    \n",
    "    Utilizing ipywidgets, this function allows for an interactive exploration\n",
    "    of electron configurations within different atomic orbitals by adjusting \n",
    "    the number of electrons.\n",
    "    \"\"\"\n",
    "    interact(interactive_hund, orbit=fixed(shell + 1), elecs=(1, (shell + 1) * 4 - 2))\n",
    "    return\n",
    "\n",
    "# Example usage\n",
    "# Uncomment the line below and adjust the shell number to visualize different scenarios.\n",
    "interactive_hunds(1)\n"
   ]
  },
  {
   "cell_type": "markdown",
   "metadata": {
    "tags": []
   },
   "source": [
    "# Self-Study Questions\n",
    "\n",
    "1. **Fundamentals:**\n",
    "   - What are atomic orbitals?\n",
    "   - How are they defined mathematically?\n",
    "   \n",
    "2. **Hund's Rule Application:**\n",
    "   - Provide the electron configuration for an oxygen atom using Hund’s rules.\n",
    "   - What are possible exceptions to Hund's rule?\n",
    "\n",
    "3. **Quantum Numbers:**\n",
    "   - Explain the significance of each quantum number.\n",
    "   - Provide the four quantum numbers for the last electron of the Carbon atom.\n",
    "   \n",
    "4. **Practical Application:**\n",
    "   - Try modifying the code above to visualize the electron configuration of atoms in the 2nd period of the periodic table. What patterns do you observe?\n"
   ]
  },
  {
   "cell_type": "code",
   "execution_count": null,
   "metadata": {},
   "outputs": [],
   "source": []
  }
 ],
 "metadata": {
  "kernelspec": {
   "display_name": "Python3",
   "language": "python",
   "name": "python3"
  },
  "language_info": {
   "codemirror_mode": {
    "name": "ipython",
    "version": 3
   },
   "file_extension": ".py",
   "mimetype": "text/x-python",
   "name": "python",
   "nbconvert_exporter": "python",
   "pygments_lexer": "ipython3",
   "version": "3.11.5"
  }
 },
 "nbformat": 4,
 "nbformat_minor": 4
}
