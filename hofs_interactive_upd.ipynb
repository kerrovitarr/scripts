{
 "cells": [
  {
   "cell_type": "markdown",
   "id": "671abcfc-182c-4221-a776-90fc0c19fa76",
   "metadata": {
    "tags": []
   },
   "source": [
    "### Theoretical Background on Energy Spectrum in Crystalline Lattices\n",
    "\n",
    "The code you've been examining showcases the energy spectrum of electrons in a crystalline lattice. In solid-state physics, understanding this spectrum is crucial, as it determines many of the material's physical properties.\n",
    "\n",
    "#### Crystalline Lattices and Quantum Mechanics:\n",
    "Crystalline solids are characterized by a repeating, periodic arrangement of atoms or molecules, known as a lattice. Electrons in these lattices can only occupy specific energy levels, and the collection of these levels forms the energy spectrum.\n",
    "\n",
    "#### Bloch's Theorem:\n",
    "One of the foundational theorems in solid-state physics is Bloch's theorem, which states that electrons in a periodic potential (like a crystalline lattice) have wavefunctions that can be expressed as a product of a plane wave and a function with the same periodicity as the lattice. Mathematically, this is expressed as:\n",
    "\n",
    "$\n",
    "\\psi_k(r) = e^{ik \\cdot r} u_k(r) $\n",
    "\n",
    "where $ \\psi_k(r) $ is the electron's wavefunction, $ e^{ik \\cdot r} $ is a plane wave, and $ u_k(r) $ is a periodic function with the same periodicity as the lattice.\n",
    "\n",
    "#### Band Structure:\n",
    "As a result of the periodic potential, electrons in a crystal do not have a continuous range of energy values they can occupy. Instead, they form bands separated by forbidden regions called band gaps. The energy spectrum plotted in the code visualizes these bands.\n",
    "\n",
    "#### Butterfly Effect in Lattices:\n",
    "In certain lattice configurations and under specific conditions, the energy spectrum can exhibit intricate and fractal-like patterns, reminiscent of a butterfly. This effect is a manifestation of the quantum mechanics of the system and the specific geometry and interactions of the lattice.\n",
    "\n",
    "#### Applications:\n",
    "The energy spectrum of a material determines its electronic properties. For example, whether a material is a conductor, insulator, or semiconductor depends on its band structure. Understanding the energy spectrum is thus crucial for the design of electronic devices.\n",
    "\n"
   ]
  },
  {
   "cell_type": "code",
   "execution_count": 1,
   "id": "303b5796-9bbf-497f-8229-d5e30280a8ea",
   "metadata": {
    "tags": []
   },
   "outputs": [
    {
     "data": {
      "application/vnd.jupyter.widget-view+json": {
       "model_id": "b4a0137d308040899a0fb01949ddd46a",
       "version_major": 2,
       "version_minor": 0
      },
      "text/plain": [
       "interactive(children=(IntSlider(value=20, description='nq', max=40), Output()), _dom_classes=('widget-interact…"
      ]
     },
     "metadata": {},
     "output_type": "display_data"
    },
    {
     "data": {
      "text/plain": [
       "<function __main__.interactive_butterfly(nq)>"
      ]
     },
     "execution_count": 1,
     "metadata": {},
     "output_type": "execute_result"
    }
   ],
   "source": [
    "import matplotlib.pyplot as plt\n",
    "import numpy as np\n",
    "from ipywidgets import interact\n",
    "\n",
    "def interactive_butterfly(nq):\n",
    "    '''\n",
    "    :param k: wave number\n",
    "    '''\n",
    "    if nq == 0:  # Avoid division by zero or invalid operations\n",
    "        return\n",
    "\n",
    "    # Define the position of the original lattice\n",
    "    qs = np.arange(nq)\n",
    "    plx = np.zeros((nq, nq))\n",
    "    ply = np.zeros((nq, nq))\n",
    "    \n",
    "    for i in range(0, nq):\n",
    "        y = np.ones(nq - 1)\n",
    "        mat = np.diag(y, -1) + np.diag(y, 1)  # nearest neighbor positions\n",
    "        mat = np.roll(mat, (1, 1), axis=(0, 1))  # Shift to have the diagonal elements in the main diagonal\n",
    "        mat = mat.astype(np.complex128)  # Convert matrix to complex\n",
    "        \n",
    "        z = np.exp(np.arange(0, nq) * 2 * np.pi * 1j * i / nq)\n",
    "        mat += np.diag(z)\n",
    "        \n",
    "        ply[i] = np.linalg.eigvalsh(mat)\n",
    "        plx[i] = np.ones(nq) * i\n",
    "    \n",
    "    # Plotting\n",
    "    plt.figure(figsize=(10, 8))\n",
    "    \n",
    "    plt.subplot(2, 2, 3)\n",
    "    plt.scatter(plx, ply)\n",
    "    plt.title(\"Scatter Plot\")\n",
    "    \n",
    "    plt.subplot(2, 2, 1)\n",
    "    plt.imshow(np.abs(mat))\n",
    "    plt.title(\"Magnitude\")\n",
    "    \n",
    "    plt.subplot(2, 2, 2)\n",
    "    plt.imshow(np.angle(mat))\n",
    "    plt.title(\"Angle\")\n",
    "    plt.colorbar()\n",
    "    \n",
    "    plt.tight_layout()\n",
    "    plt.show()\n",
    "\n",
    "interact(interactive_butterfly, nq=(0, 40, 1))\n"
   ]
  },
  {
   "cell_type": "code",
   "execution_count": 2,
   "id": "70484cbd-deb4-4a16-9f02-0ee0fab89465",
   "metadata": {
    "tags": []
   },
   "outputs": [
    {
     "data": {
      "application/vnd.jupyter.widget-view+json": {
       "model_id": "4ea2a78bf2b941e9905e33294052e86e",
       "version_major": 2,
       "version_minor": 0
      },
      "text/plain": [
       "interactive(children=(IntSlider(value=2, description='nq', max=40, min=1), Output()), _dom_classes=('widget-in…"
      ]
     },
     "metadata": {},
     "output_type": "display_data"
    },
    {
     "data": {
      "text/plain": [
       "<function __main__.interactive_butterfly_corrected(nq=2)>"
      ]
     },
     "execution_count": 2,
     "metadata": {},
     "output_type": "execute_result"
    }
   ],
   "source": [
    "import matplotlib.pyplot as plt\n",
    "import numpy as np\n",
    "from ipywidgets import interact, interactive, fixed, interact_manual\n",
    "import ipywidgets as widgets\n",
    "\n",
    "%matplotlib notebook\n",
    "\n",
    "def interactive_butterfly_corrected(nq=2):\n",
    "    \"\"\"\n",
    "    :param nq: number of quantum states\n",
    "    \"\"\"\n",
    "    if nq < 1:\n",
    "        print(\"nq must be at least 1.\")\n",
    "        return\n",
    "\n",
    "    # Initialize arrays for plotting\n",
    "    plx = np.tile(np.arange(nq), (nq, 1)).T  # Make plx the same shape as ply\n",
    "    ply = np.zeros((nq, nq))\n",
    "\n",
    "    # Loop through each quantum state\n",
    "    for i in range(nq):\n",
    "        # Create matrix\n",
    "        y = np.ones(nq-1, dtype=np.complex128)  # Adjusted the size here\n",
    "        mat = np.diag(y, -1) + np.diag(y, 1)\n",
    "        mat = mat.astype(np.complex128)  # Explicitly convert to complex type\n",
    "        mat[0, -1] = 1\n",
    "        mat[-1, 0] = 1\n",
    "        z = np.exp(2 * np.pi * 1j * np.arange(nq) * i / nq)\n",
    "\n",
    "        # Add diagonal elements, ensuring z is the same size as the diagonal\n",
    "        mat[np.diag_indices(nq)] += z\n",
    "\n",
    "        # Compute eigenvalues and add to ply\n",
    "        ply[i, :] = np.linalg.eigvalsh(mat)\n",
    "\n",
    "    # Create plots\n",
    "    plt.figure()\n",
    "    plt.subplot(2, 2, 4)\n",
    "    plt.scatter(plx.ravel(), ply.ravel())  # Flatten arrays for scatter plot\n",
    "    plt.subplot(2, 2, 1)\n",
    "    plt.imshow(np.abs(mat))\n",
    "    plt.subplot(2, 2, 2)\n",
    "    plt.imshow(np.angle(mat))\n",
    "    plt.colorbar()\n",
    "    plt.show()\n",
    "\n",
    "interact(interactive_butterfly_corrected, nq=(1, 40, 1))\n"
   ]
  },
  {
   "cell_type": "markdown",
   "id": "7cca5891-0035-4a1a-81d8-a7222a288ecf",
   "metadata": {},
   "source": [
    "### Questions for Self-study:\n",
    "\n",
    "1. **Basic Understanding**:\n",
    "   - What is a crystalline lattice?\n",
    "   - How does the periodic potential of a lattice affect the allowed energy levels of electrons?\n",
    "   \n",
    "2. **Deep Dive**:\n",
    "   - Explain Bloch's theorem in your own words. Why is it significant for understanding electron behavior in crystals?\n",
    "   - What is band structure, and how does it determine whether a material is a conductor or insulator?\n",
    "   \n",
    "3. **Applications**:\n",
    "   - How does the energy spectrum of a material influence its electronic properties?\n",
    "   - Can you think of real-world materials whose properties might be influenced by the patterns seen in the butterfly effect?\n",
    "   \n",
    "4. **Beyond the Notebook**:\n",
    "   - How might impurities or defects in a lattice affect the energy spectrum?\n",
    "   - Are there any experimental techniques used to measure the band structure of materials?\n",
    "\n",
    "Exploring these questions will provide a deeper understanding of the quantum mechanics of crystalline materials and their importance in modern technology."
   ]
  },
  {
   "cell_type": "code",
   "execution_count": null,
   "id": "d443e543-505e-45b4-bf3e-3cb1ddc3ebe5",
   "metadata": {},
   "outputs": [],
   "source": []
  }
 ],
 "metadata": {
  "kernelspec": {
   "display_name": "Python3",
   "language": "python",
   "name": "python3"
  },
  "language_info": {
   "codemirror_mode": {
    "name": "ipython",
    "version": 3
   },
   "file_extension": ".py",
   "mimetype": "text/x-python",
   "name": "python",
   "nbconvert_exporter": "python",
   "pygments_lexer": "ipython3",
   "version": "3.11.5"
  }
 },
 "nbformat": 4,
 "nbformat_minor": 5
}
