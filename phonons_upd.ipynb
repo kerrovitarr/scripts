{
 "cells": [
  {
   "cell_type": "code",
   "execution_count": 33,
   "metadata": {
    "tags": []
   },
   "outputs": [],
   "source": [
    "import numpy as np\n",
    "import matplotlib.pyplot as plt\n",
    "from matplotlib import animation\n",
    "from matplotlib import rc\n",
    "import ipywidgets as ipw\n",
    "\n",
    "from ipywidgets import interact, interactive\n",
    "import ipywidgets as widgets\n",
    "\n",
    "from IPython.display import HTML\n",
    "rc('text', usetex=True)\n",
    "\n",
    "%matplotlib widget\n",
    "\n",
    "global_branche = 1\n",
    "global_selected_k = 0 \n",
    "global_omega = 0 \n",
    "global_K1 = 0  \n",
    "global_K2 = 0  "
   ]
  },
  {
   "cell_type": "markdown",
   "metadata": {},
   "source": [
    "## Theoretical Background for Lattice Vibrations Simulation\n",
    "\n",
    "The given script simulates the phonon dispersion relations and atomic vibrations in a one-dimensional diatomic chain, which is a simplified model to understand vibrational properties of crystalline materials. Below are the key concepts and parameters involved in the script:\n",
    "\n",
    "### Phonon Dispersion Relations\n",
    "The dispersion relations depict how phonon frequencies vary with wavevector $k$. For a diatomic chain, there are two branches of dispersion relations, namely acoustic and optical branches, arising from the different vibrational modes of the two atoms in the unit cell. The dispersion relations are derived from the dynamical matrix of the system and are given by:\n",
    "\n",
    "$\\ \\omega_{\\text{acoustic,optical}}(k) = G + K \\pm \\sqrt{(G+K)^2 - 4GK\\sin^2(ka)} \\$\n",
    "\n",
    "where:\n",
    "- $ \\omega $ is the phonon frequency,\n",
    "- $ k $ is the wavevector,\n",
    "- $ G $ and $ K $ are the interatomic force constants,\n",
    "- $ a $ is the lattice parameter.\n",
    "\n",
    "### Atomic Vibrations\n",
    "The vibrations of atoms are modeled as simple harmonic oscillations. The relative displacements of atoms from their equilibrium positions give rise to vibrations. The amplitude of vibration depends on the wavevector and the nature of the vibrational mode (acoustic or optical). The vibrational mode also determines the phase difference in vibrations between the two atoms in the unit cell. \n",
    "\n",
    "The displacement of atoms in the nth unit cell are given by:\n",
    "\n",
    "$ u_n(t) = u_0 \\exp(i(kna - \\omega t)$\n",
    "$ v_n(t) = v_0 \\exp(i(kna - \\omega t + \\phi) $\n",
    "\n",
    "where:\n",
    "- $ u_n(t) $ and $ v_n(t) $ are the displacements of atoms in the nth unit cell,\n",
    "- $ u_0 $ and $ v_0 $ are the maximum amplitudes of vibrations,\n",
    "- $ \\phi $ is the phase difference in vibrations between the two atoms,\n",
    "- $ t $ is time.\n",
    "\n",
    "The relative phase $ \\phi $ and the amplitudes $ u_0 $ and $ v_0 $ are determined by the vibrational mode (acoustic or optical) and the force constants $ G $ and $ K $.\n",
    "\n",
    "### Simulation\n",
    "The script first plots the phonon dispersion relations, allowing the user to select a wavevector $k$ by clicking on the plot. The selected wavevector determines the frequency $ \\omega $ and vibrational mode (acoustic or optical). The script then simulates the vibrations of atoms in a one-dimensional diatomic chain, displaying the time evolution of atomic positions in an animated plot.\n",
    "\n",
    "### Parameters\n",
    "- `G` and `K`: These are the force constants representing the strength of interactions between atoms.\n",
    "- `a`: This is the lattice parameter representing the spacing between unit cells.\n",
    "- `d`: This is the distance between atoms within a unit cell.\n",
    "- `N`: This is the number of unit cells in the chain.\n",
    "\n",
    "The script provides interactive widgets to vary the force constants `G` and `K`, and visualizes the resulting changes in phonon dispersion relations and atomic vibrations.\n",
    "\n",
    "### Visualization\n",
    "The script provides two visualizations:\n",
    "1. Phonon dispersion relations plot: Shows the acoustic and optical branches, allowing the user to select a wavevector by clicking on the plot.\n",
    "2. Atomic vibrations plot: Displays the time evolution of atomic positions in the diatomic chain, with the vibrations corresponding to the selected wavevector and vibrational mode.\n"
   ]
  },
  {
   "cell_type": "code",
   "execution_count": 34,
   "metadata": {
    "tags": []
   },
   "outputs": [],
   "source": [
    "\n",
    "def get_closest_point(clic_x, clic_y):\n",
    "    ax= plt.gca()  # get axis handle\n",
    "    acoustic_data = ax.lines[1]\n",
    "    optic_data = ax.lines[0]\n",
    "\n",
    "    k_a = acoustic_data.get_xdata()\n",
    "    k_o = optic_data.get_xdata()\n",
    "    diff_k_a = np.abs(k_a-clic_x)\n",
    "    diff_k_o = np.abs(k_o-clic_x)\n",
    "    index_a = np.argmin(diff_k_a)\n",
    "    index_o = np.argmin(diff_k_o)\n",
    "\n",
    "    y_diff_a = np.abs(acoustic_data.get_ydata()[index_a]-clic_y)\n",
    "    y_diff_o = np.abs(optic_data.get_ydata()[index_o]-clic_y)\n",
    "\n",
    "    ac_is_closer = y_diff_a < y_diff_o\n",
    "    global global_branche\n",
    "    global global_selected_k\n",
    "    global global_omega\n",
    "    \n",
    "    if(ac_is_closer):\n",
    "        global_branche=1\n",
    "        global_selected_k = acoustic_data.get_xdata()[index_a]\n",
    "        global_omega = acoustic_data.get_ydata()[index_a]\n",
    "        return [acoustic_data.get_xdata()[index_a], acoustic_data.get_ydata()[index_a]]\n",
    "    else:\n",
    "        global_branche=2\n",
    "        global_selected_k = optic_data.get_xdata()[index_a]\n",
    "        global_omega = optic_data.get_ydata()[index_a]\n",
    "        return [optic_data.get_xdata()[index_a], optic_data.get_ydata()[index_a]]\n"
   ]
  },
  {
   "cell_type": "code",
   "execution_count": 35,
   "metadata": {
    "tags": []
   },
   "outputs": [],
   "source": [
    "def interactive_lattice_plot(G, K):\n",
    "    global global_K1\n",
    "    global global_K2\n",
    "    global_K1 = G\n",
    "    global_K2 = K\n",
    "    \n",
    "    k = np.linspace(-np.pi/2, np.pi/2, 100)\n",
    "    omega_o = G + K - np.sqrt((G + K)**2 - 4*G*K*np.sin(k)**2)\n",
    "    omega_a = G + K + np.sqrt((G + K)**2 - 4*G*K*np.sin(k)**2)\n",
    "    \n",
    "    ax1.clear()\n",
    "    ax1.plot(k, np.sqrt(omega_a))\n",
    "    ax1.plot(k, np.sqrt(omega_o))\n",
    "    ax1.set_xlabel(\"k\")\n",
    "    ax1.set_ylabel(\"$\\omega$\")\n",
    "    ax1.set_xticks(np.linspace(-np.pi/2, np.pi/2, 5))\n",
    "    ax1.set_xticklabels(['$-\\pi/a$', '', '0', '', '$\\pi/a$'])\n",
    "       \n",
    "    def onclick(event):    \n",
    "        for i in np.arange(3, len(ax1.lines) + 1):\n",
    "            ax1.lines.pop()\n",
    "        [x, y] = get_closest_point(event.xdata, event.ydata)\n",
    "        ax1.plot(x, y, '.', color='red')\n",
    "    \n",
    "    cid = plt.gcf().canvas.mpl_connect('button_press_event', onclick)"
   ]
  },
  {
   "cell_type": "code",
   "execution_count": 36,
   "metadata": {
    "tags": []
   },
   "outputs": [
    {
     "data": {
      "application/vnd.jupyter.widget-view+json": {
       "model_id": "d68b6ff6d70a46f1a425ba8315a3d108",
       "version_major": 2,
       "version_minor": 0
      },
      "text/plain": [
       "interactive(children=(FloatSlider(value=6.0, description='G', max=6.0, min=1.0, step=0.05), FloatSlider(value=…"
      ]
     },
     "execution_count": 36,
     "metadata": {},
     "output_type": "execute_result"
    },
    {
     "data": {
      "application/vnd.jupyter.widget-view+json": {
       "model_id": "551d6add815449fdb9ce04fba1ddd3f3",
       "version_major": 2,
       "version_minor": 0
      },
      "image/png": "[encoded data removed]",
      "text/html": [
       "\n",
       "            <div style=\"display: inline-block;\">\n",
       "                <div class=\"jupyter-widgets widget-label\" style=\"text-align: center;\">\n",
       "                    Figure\n",
       "                </div>\n",
       "                <img src='data:image/png;base64,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' width=640.0/>\n",
       "            </div>\n",
       "        "
      ],
      "text/plain": [
       "Canvas(toolbar=Toolbar(toolitems=[('Home', 'Reset original view', 'home', 'home'), ('Back', 'Back to previous …"
      ]
     },
     "metadata": {},
     "output_type": "display_data"
    }
   ],
   "source": [
    "g = ipw.FloatSlider(min=1, max=6, step=0.05, value=6);\n",
    "k = ipw.FloatSlider(min=1, max=6, step=0.05, value=1);\n",
    "fig=plt.figure()\n",
    "ax1=plt.axes()\n",
    "plt.ion()\n",
    "interactive(interactive_lattice_plot, G=g, K=k)"
   ]
  },
  {
   "cell_type": "code",
   "execution_count": 39,
   "metadata": {
    "tags": []
   },
   "outputs": [
    {
     "data": {
      "application/vnd.jupyter.widget-view+json": {
       "model_id": "f7bf259406e24587bcd24fa07e68ab23",
       "version_major": 2,
       "version_minor": 0
      },
      "image/png": "[encoded data removed]",
      "text/html": [
       "\n",
       "            <div style=\"display: inline-block;\">\n",
       "                <div class=\"jupyter-widgets widget-label\" style=\"text-align: center;\">\n",
       "                    Figure\n",
       "                </div>\n",
       "                <img src='data:image/png;base64,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' width=640.0/>\n",
       "            </div>\n",
       "        "
      ],
      "text/plain": [
       "Canvas(toolbar=Toolbar(toolitems=[('Home', 'Reset original view', 'home', 'home'), ('Back', 'Back to previous …"
      ]
     },
     "metadata": {},
     "output_type": "display_data"
    }
   ],
   "source": [
    "fig2 = plt.figure()\n",
    "ax2 = plt.axes()\n",
    "ax2.set_xlim([-2,10])\n",
    "ax2.set_xticks([])\n",
    "ax2.set_yticks([])\n",
    "line_u, = ax2.plot([], [], \"ok\")\n",
    "line_v, = ax2.plot([], [], \"ob\")\n",
    "if global_branche == 1:\n",
    "    ax2.title.set_text(\"Acoustic\")\n",
    "else : \n",
    "    ax2.title.set_text(\"Optic\")\n",
    "\n",
    "a = 2 # lattice parameter\n",
    "d = 0.5 # distance between atoms 1 and 2 in basis \n",
    "N=5 # number of repeated basis\n",
    "pos_u = np.arange(N)*a \n",
    "pos_v = np.arange(N)*a+d\n",
    "ax2.plot(pos_u,np.zeros(N),\"ok\",mfc='none')\n",
    "ax2.plot(pos_v,np.zeros(N),\"ob\",mfc='none')\n",
    "\n",
    "# Initialization function: plot the background of each frame\n",
    "def init():\n",
    "    line_u.set_data([], [])\n",
    "    line_v.set_data([], [])\n",
    "    return line_u,\n",
    "\n",
    "# Animation function which updates figure data.  This is called sequentially\n",
    "def animate(iteration):\n",
    "    global global_branche\n",
    "    global global_selected_k\n",
    "    global global_omega\n",
    "    global global_K1\n",
    "    global global_K2\n",
    "    \n",
    "    t=0.05*iteration\n",
    "    a = 2 # lattice parameter\n",
    "    d = 0.5 # distance between atoms 1 and 2 in basis \n",
    "    N=5 # number of repeated basis \n",
    "    relative_phase = (-1)** (1+global_branche) # relative phase between atom 1 and 2 in the basis\n",
    "\n",
    "    a_nu = d/3.45*(relative_phase*(global_K1+global_K2*np.exp(1j*global_selected_k*a))/np.abs(global_K1+global_K2*np.exp(1j*global_selected_k*a)))\n",
    "    b_nu = d/3.45 \n",
    "    \n",
    "    ns = np.arange(N)\n",
    "    u_n = np.real(a_nu*np.exp(1j*global_selected_k*ns*a-1j*global_omega*t))\n",
    "    v_n = np.real(b_nu*np.exp(1j*global_selected_k*ns*a-1j*global_omega*t))\n",
    "    \n",
    "    pos_u = np.arange(N)*a + u_n\n",
    "    pos_v = np.arange(N)*a+d+v_n\n",
    "    \n",
    "    line_u.set_data(np.asarray([pos_u,np.zeros(N)]))\n",
    "    line_v.set_data(np.asarray([pos_v,np.zeros(N)]))\n",
    "    return line_u,\n",
    "\n",
    "# Call the animator\n",
    "anim = animation.FuncAnimation(fig2, animate, init_func=init, frames=300, interval=30, blit=True)\n",
    "\n"
   ]
  },
  {
   "cell_type": "markdown",
   "metadata": {},
   "source": [
    "## Self-Study Questions\n",
    "\n",
    "1. **Fundamental Concepts:**\n",
    "   - Explain the concept of phonons and their significance in understanding the vibrational properties of crystalline materials.\n",
    "   - Differentiate between acoustic and optical phonons. \n",
    "   - How are phonon dispersion relations derived?\n",
    "\n",
    "2. **Exploration of the Script:**\n",
    "   - Describe the role of the force constants `G` and `K` in the script. How do changes in these constants affect the phonon dispersion relations and atomic vibrations?\n",
    "   - Explain the significance of the lattice parameter `a` and the distance `d` in the script.\n",
    "\n",
    "3. **Mathematical Understanding:**\n",
    "   - Derive the expressions for phonon frequencies $ \\omega_{\\text{acoustic,optical}}(k) $ for a one-dimensional diatomic chain.\n",
    "   - Derive the expressions for atomic displacements $ u_n(t) $ and $ v_n(t) $ given in the theoretical background.\n",
    "\n",
    "4. **Simulation Analysis:**\n",
    "   - Explain the steps involved in the simulation of atomic vibrations in the script. \n",
    "   - Discuss how the script visualizes the phonon dispersion relations and atomic vibrations.\n",
    "   \n",
    "5. **Extension Questions:**\n",
    "   - How would the simulation and results change for a three-dimensional diatomic lattice?\n",
    "   - How would the inclusion of anharmonic interactions affect the phonon dispersion relations and atomic vibrations?\n",
    "   - Propose a method to extend the script to simulate phonons in a monoatomic chain or a more complex crystalline structure.\n",
    "\n",
    "6. **Real-world Applications:**\n",
    "   - Discuss the real-world applications of understanding phonon dispersion relations and atomic vibrations.\n",
    "   - How are phonon properties related to thermal conductivity in materials?\n",
    "   \n",
    "7. **Coding:**\n",
    "   - Suggest improvements or additional features that could be incorporated into the script to enhance its functionality or user interactivity.\n",
    "   - Explore how different programming or simulation tools could be used to study phonon properties in materials.\n",
    "\n",
    "8. **Visualization:**\n",
    "   - Explain the importance of visualization in understanding phonon properties.\n",
    "   - Discuss other visualization techniques that could be employed to represent phonon dispersion relations and atomic vibrations.\n",
    "\n",
    "\n"
   ]
  },
  {
   "cell_type": "code",
   "execution_count": null,
   "metadata": {},
   "outputs": [],
   "source": []
  }
 ],
 "metadata": {
  "kernelspec": {
   "display_name": "Python3",
   "language": "python",
   "name": "python3"
  },
  "language_info": {
   "codemirror_mode": {
    "name": "ipython",
    "version": 3
   },
   "file_extension": ".py",
   "mimetype": "text/x-python",
   "name": "python",
   "nbconvert_exporter": "python",
   "pygments_lexer": "ipython3",
   "version": "3.11.5"
  }
 },
 "nbformat": 4,
 "nbformat_minor": 4
}
