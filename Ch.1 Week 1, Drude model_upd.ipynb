{
 "cells": [
  {
   "cell_type": "code",
   "execution_count": 1,
   "metadata": {},
   "outputs": [],
   "source": [
    "%matplotlib widget\n",
    "import matplotlib.pyplot as plt\n",
    "import numpy as np\n",
    "import ipywidgets as ipw\n",
    "\n",
    "from numpy import random\n",
    "from ipywidgets import interact\n",
    "from matplotlib import animation\n",
    "from IPython.display import HTML"
   ]
  },
  {
   "cell_type": "markdown",
   "metadata": {},
   "source": [
    "# Chapter 1: Drude Model - Simulation and Analysis\n",
    "\n",
    "## Theoretical Background\n",
    "\n",
    "#### Drude model serves as one of the seminal models in solid state physics, offering insights into the behavior of electrons in metallic solids. The key premise lies in considering electrons as small solid particles moving through a lattice made up of stationary, heavier atoms. While the model might seem rudimentary, it provides fundamental insights into the electron dynamics in solids.\n",
    "\n",
    "#### The concept of \"mean free time\" ($\\tau$) is integral to the Drude model. It represents the average time taken by an electron before it encounters a scattering event, caused by lattice imperfections, phonons, or other electrons. The frequency with which these scatterings happen can dictate the macroscopic properties of the material, like its conductivity.\n",
    "\n",
    "#### In the provided Jupyter notebook, the core constants essential to the simulation include:\n",
    "- Elementary electron charge ($e$)\n",
    "- (Bare) electron mass ($m$)\n",
    "- Mean free time ($\\tau$)\n",
    "- $V_0$: Represents an average restarting velocity post-collision, introduced to simplify simulation dynamics.\n",
    "\n",
    "#### Different scenarios or cases are designed in the simulation:\n",
    "1. Solely focusing on the effects of the Electric field, with a short $\\tau$.\n",
    "2. A playground case mirroring case 1, but allowing user-driven modifications to variables.\n",
    "\n",
    "#### The simulation uses a step-wise method to monitor electron behavior in a 2D material with limited width but infinite length. During each step, velocities and positions are updated based on the applied external electric and magnetic fields. The cumulative average of the x-direction velocity is computed and plotted alongside instantaneous velocities. This cumulative average, over time, should approach the drift velocity, a metric indicative of the material's conductivity in the context of the Drude model.\n"
   ]
  },
  {
   "cell_type": "code",
   "execution_count": 2,
   "metadata": {},
   "outputs": [],
   "source": [
    "e = -1.602E-19;      # Electron charge (C)\n",
    "m = 9.109E-31;       # (Bare) electron mass (kg)\n",
    "v0 = 1;              # Average restarting velocity (m/s)\n",
    "steps = 1000;         # number of updates to simulate"
   ]
  },
  {
   "cell_type": "markdown",
   "metadata": {},
   "source": [
    "#### Now We setup up cases for easy switching in between with the cases corresponding to:\n",
    "    1. Only Electric field with short mean free time.\n",
    "    2. Duplicate of case 1 as a playground allowing adjustment to the variables."
   ]
  },
  {
   "cell_type": "code",
   "execution_count": 3,
   "metadata": {},
   "outputs": [],
   "source": [
    "# Set time step\n",
    "global Ey,delta_T\n",
    "delta_T = 1E-12;       # time step in seconds\n",
    "\n",
    "case = 1;\n",
    "if case == 1:\n",
    "    num = 1;            # number of electrons to simulate\n",
    "    tau = 5;         # Mean free time (ps)    \n",
    "    Ex = 0;         # X component of the external electric field (V/m)\n",
    "    Ey = 0;             # Y component of the external electric field (V/m)\n",
    "    Bz = 0;             # Z component of the external magnetic field (T)\n",
    "    yBnd = 3*num*5E-11; # physical boundry of the conductor in y direction\n",
    "elif case == 2:\n",
    "    num = 1;            # number of electrons to simulate\n",
    "    tau = 15;           # Mean free time (ps)    \n",
    "    Ex = -0.2;         # X component of the external electric field (V/m)\n",
    "    Ey = 0;             # Y component of the external electric field (V/m)\n",
    "    Bz = 0;          # Z component of the external magnetic field (T)\n",
    "    yBnd = 3*num*5E-11; # physical boundry of the conductor in y direction\n",
    "else:                   # Default setting\n",
    "    num = 1;            # number of electrons to simulate\n",
    "    tau = 10;           # Mean free time (ps)    \n",
    "    Ex = -0.2;         # X component of the external electric field (V/m)\n",
    "    Ey = 0;             # Y component of the external electric field (V/m)\n",
    "    Bz = 1;          # Z component of the external magnetic field (T)\n",
    "    yBnd = 3*num*5E-11; # physical boundry of the conductor in y direction"
   ]
  },
  {
   "cell_type": "markdown",
   "metadata": {},
   "source": [
    "#### Next, base on the choice of the scenario, we initiate some containers to store variables in the simulation"
   ]
  },
  {
   "cell_type": "code",
   "execution_count": 4,
   "metadata": {},
   "outputs": [],
   "source": [
    "global x, y, vxt, ayt\n",
    "x = np.zeros(num);\n",
    "x = np.expand_dims(x,axis=0);\n",
    "y = random.rand(num)*yBnd-yBnd/2;\n",
    "y = np.expand_dims(y,axis=0);\n",
    "\n",
    "vx = np.ones(num);               # Initial velocity in x direction\n",
    "vy = np.ones(num);               # Initial velocity in y direction\n",
    "vxt = vx;                        # Instantaneous velocity in x-direction\n",
    "vxt = np.expand_dims(vxt,axis=0);\n",
    "axt = np.zeros(num);             # Acceleration in x-direction\n",
    "axt = np.expand_dims(axt,axis=0);\n",
    "ayt = np.zeros(num);             # Acceleration in y-direction\n",
    "ayt = np.expand_dims(ayt,axis=0);\n",
    "colors = [];                     # Color assignment to trace different electrons\n",
    "for i in range(num):\n",
    "    colors.append('#%06X' % random.randint(0, 0xFFFFFF))"
   ]
  },
  {
   "cell_type": "markdown",
   "metadata": {},
   "source": [
    "#### Next we create the figure objects, and the function to call between each frame for simulation of each time step. In each step, we compute and plot the average velocity in x direction over the steps simulated so far on top of the instantaneous velocities. This mean velocity in x direction eventually should converges to a called drift velocity, which is an indirect measure of the conductivity/resistivity of materiasl in Drude model"
   ]
  },
  {
   "cell_type": "code",
   "execution_count": 5,
   "metadata": {},
   "outputs": [
    {
     "data": {
      "application/vnd.jupyter.widget-view+json": {
       "model_id": "e3386b7a281041f287d2c6c3fa7bd036",
       "version_major": 2,
       "version_minor": 0
      },
      "image/png": "[encoded data removed]",
      "text/html": [
       "\n",
       "            <div style=\"display: inline-block;\">\n",
       "                <div class=\"jupyter-widgets widget-label\" style=\"text-align: center;\">\n",
       "                    Figure\n",
       "                </div>\n",
       "                <img src='data:image/png;base64,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' width=640.0/>\n",
       "            </div>\n",
       "        "
      ],
      "text/plain": [
       "Canvas(toolbar=Toolbar(toolitems=[('Home', 'Reset original view', 'home', 'home'), ('Back', 'Back to previous …"
      ]
     },
     "metadata": {},
     "output_type": "display_data"
    },
    {
     "data": {
      "application/vnd.jupyter.widget-view+json": {
       "model_id": "062bf5763e354b2d935bdd9b65fbdd4e",
       "version_major": 2,
       "version_minor": 0
      },
      "text/plain": [
       "interactive(children=(FloatSlider(value=0.0, description='E-Field (x)', max=6.0), Output()), _dom_classes=('wi…"
      ]
     },
     "metadata": {},
     "output_type": "display_data"
    },
    {
     "data": {
      "application/vnd.jupyter.widget-view+json": {
       "model_id": "1c253fd033c54af8b0695f3132541372",
       "version_major": 2,
       "version_minor": 0
      },
      "text/plain": [
       "interactive(children=(FloatSlider(value=5.0, description='MFT (tau)', max=500.0, min=5.0, step=5.0), Output())…"
      ]
     },
     "metadata": {},
     "output_type": "display_data"
    }
   ],
   "source": [
    "# Create figure objects\n",
    "figs = plt.figure();\n",
    "ax1 = plt.subplot(1,7,(1,3));\n",
    "plt.rcParams['figure.figsize'] = [10, 4];\n",
    "init, = ax1.plot([],[],'ok', markersize = 5, zorder = 10);\n",
    "end = ax1.scatter(x[0,:],y[0,:], c = colors[:], s = 30, marker = 'o', zorder = 10);\n",
    "ax1.axhline(y = -yBnd, color = 'k');\n",
    "ax1.axhline(y = yBnd, color = 'k');\n",
    "\n",
    "ax1.set_ylim(-1.2*yBnd,1.2*yBnd);\n",
    "ax1.set_xlabel('Distance(x)');\n",
    "ax1.set_ylabel('Distance(y)');\n",
    "\n",
    "ax3 = plt.subplot(1,7,(5,7))\n",
    "ax3.set_xlabel('Time');\n",
    "ax3.set_ylabel('Velocity');\n",
    "ax3.set_xlim(0,steps*delta_T);\n",
    "\n",
    "plt.show()\n",
    "\n",
    "# Set the electrical field in x direction\n",
    "def set_field(E):\n",
    "    global Ex\n",
    "    Ex = -E; # X component of the external electric field (V/m)\n",
    "    return\n",
    "\n",
    "# Set the mean free time\n",
    "def set_time(T):\n",
    "    global tau\n",
    "    tau = T; # mean free time tau (ps)\n",
    "    return\n",
    "\n",
    "# Initialize the frame\n",
    "def initf():\n",
    "    init.set_data(x[0,:],y[0,:]);\n",
    "    return init,\n",
    "\n",
    "# Implement pause on click\n",
    "anim_running = True\n",
    "def onClick(event):\n",
    "    global anim_running\n",
    "    if anim_running:\n",
    "        anim.event_source.stop()\n",
    "        anim_running = False\n",
    "    else:\n",
    "        anim.event_source.start()\n",
    "        anim_running = True\n",
    "\n",
    "# Animation function which updates figure data.  This is called sequentially\n",
    "def update(step,vx,vy,v0):\n",
    "    global Ex,Ey,x,y,vxt,axt,delta_T,tau\n",
    "    newX = np.zeros(num);\n",
    "    newY = np.zeros(num);\n",
    "    newVt = np.zeros(num);\n",
    "    ax = np.zeros(num);\n",
    "    ay = np.zeros(num);\n",
    "    for nn in range(num):\n",
    "        vx_old = vx[nn];                   # Use a temporary variable to store the previous value\n",
    "        vy_old = vy[nn];                    # Use a temporary variable to store the previous value\n",
    "        vx[nn] = vx[nn] + e*(Ex - Bz*vy_old)*delta_T/m;                      # Update the velocity\n",
    "        vy[nn] = vy[nn] + e*(Ey + Bz*vx_old)*delta_T/m;                      # Update the velocity\n",
    "        ax[nn] = (Ex + Bz*vy_old)*e/m;                                       # acceleration in x-direction\n",
    "        #ay[nn] = (Ey + Bz*vx_old)*e/m;                                       # acceleration in y-direction\n",
    "        newX[nn] = x[step-1][nn] + vx[nn]*delta_T;                           # Update the coordinate\n",
    "        newY[nn] = y[step-1][nn] + vy[nn]*delta_T;                           # Update the coordinate\n",
    "        if(random.rand() < 1/tau):\n",
    "            theta = random.rand()*2*np.pi;                                   # pick a random angle in 2D\n",
    "            vec = random.rand()*v0;\n",
    "            vx[nn] = np.cos(theta)*vec;\n",
    "            vy[nn] = np.sin(theta)*vec;\n",
    "        # Restrict movements of the electrons in y-direction by a hard and elastic physical boundary\n",
    "        if(newY[nn] > yBnd):\n",
    "            newY[nn] = yBnd;\n",
    "            vy[nn] = -np.absolute(vy[nn]);\n",
    "        elif(newY[nn] < -yBnd):\n",
    "            newY[nn] = -yBnd;\n",
    "            vy[nn] = np.absolute(vy[nn]);\n",
    "#         newVt[nn] = np.linalg.norm([vx[nn],vy[nn]]);\n",
    "\n",
    "    x = np.concatenate((x, newX[None,:]), axis=0);                    # Append the new coordinate\n",
    "    y = np.concatenate((y, newY[None,:]), axis=0);                    # Append the new coordinate\n",
    "    vxt = np.vstack([vxt,vx]);                                        # Append the average of x-velocity of the current step\n",
    "    axt = np.vstack([axt,ax]);                                        # Append the average of x-acceleration of the current step\n",
    "    #ayt = np.vstack([ayt,ay]);                                        # Append the average of y-acceleration of the current step\n",
    "\n",
    "\n",
    "    for ii in range(num):\n",
    "#         ax1.plot(x[len(x)-1,ii], y[len(y)-1,ii], '.', markersize = 3, color = colors[ii], zorder = 0);\n",
    "#         ax3.plot([xx*delta_T for xx in range(step+1)], vxt[:,ii], color = colors[ii], zorder = 0);\n",
    "\n",
    "        ax1.plot(x[len(x)-1,ii], y[len(y)-1,ii], '.', markersize = 3, color = colors[ii], zorder = 0);\n",
    "        ax3.plot([xx*delta_T for xx in range(step+1)], vxt[:,ii], color = colors[ii], zorder = 0);\n",
    "\n",
    "\n",
    "    end.set_offsets(np.vstack((x[len(x)-1,:],y[len(y)-1,:])).T);\n",
    "    \n",
    "    ax3.plot(step*delta_T,np.mean(vxt),'.',markersize = 6,color = 'k', zorder = 10);\n",
    "    lgd = np.append(['Vx']*num,'mean(Vx)');\n",
    "    ax3.legend(lgd,loc='upper right');\n",
    "\n",
    "    return end\n",
    "\n",
    "# Call the animator.  blit=True means only re-draw the parts that have changed.\n",
    "figs.canvas.mpl_connect('button_press_event', onClick)\n",
    "anim = animation.FuncAnimation(figs, update, init_func=initf, fargs = (vx,vy,v0), frames=range(1,steps+1), interval=100, blit = True, repeat = False)\n",
    "interact(set_field, E=ipw.FloatSlider(min=0, max=6, step=0.1, value=-Ex, description = 'E-Field (x)'));\n",
    "interact(set_time, T=ipw.FloatSlider(min=5, max=500, step=5, value=tau, description = 'MFT (tau)'));\n"
   ]
  },
  {
   "cell_type": "markdown",
   "metadata": {},
   "source": [
    "## Self-Education Questions:\n",
    "\n",
    "1. What assumptions does the Drude model make about electrons and their environment?\n",
    "2. Explain the significance of \"mean free time\" ($\\tau$) in the Drude model. How does it influence material properties?\n",
    "3. How does the Drude model account for the influence of external electric and magnetic fields on electron dynamics?\n",
    "4. What is drift velocity and how does it relate to the conductivity of a material?\n",
    "5. Why is $V_0$ introduced in the simulation? What does it represent in a real-world context?\n",
    "6. How does changing the value of $\\tau$ influence the behavior of electrons in the simulation? What real-world phenomena might this mimic?\n",
    "7. Investigate and discuss the limitations of the Drude model. How have modern models built upon or diverged from its principles?\n",
    "8. How would the introduction of more electrons in the simulation (i.e., increasing the 'num' parameter) potentially influence the results and their interpretation?\n",
    "9. What impact might temperature have on mean free time and, subsequently, on the behavior of electrons in the Drude model?\n",
    "#### Note: Clicking on figures allows to pause/unpause the simulation\n",
    "\n",
    "#### Now as an exercise, you may try to investigate the dependence of the mean velocity on the applied electric field and/or the mean free time tau.\n",
    "#### You could also find values in real materials for \"Mean Free Time\" and appropriate time step to run simulate again and see if you could find the right \"Average Velocity\" for electrons traveling in these materials. "
   ]
  },
  {
   "cell_type": "markdown",
   "metadata": {},
   "source": [
    "#### Thank you for using the notebook, please provide us with some feedbacks at your convenience by emailing to (yikai.yang@epfl.ch), (oleg.malanyuk@epfl.ch)"
   ]
  }
 ],
 "metadata": {
  "kernelspec": {
   "display_name": "Python3",
   "language": "python",
   "name": "python3"
  },
  "language_info": {
   "codemirror_mode": {
    "name": "ipython",
    "version": 3
   },
   "file_extension": ".py",
   "mimetype": "text/x-python",
   "name": "python",
   "nbconvert_exporter": "python",
   "pygments_lexer": "ipython3",
   "version": "3.11.5"
  }
 },
 "nbformat": 4,
 "nbformat_minor": 4
}
